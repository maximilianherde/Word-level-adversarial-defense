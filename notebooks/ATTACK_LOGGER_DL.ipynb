{
  "nbformat": 4,
  "nbformat_minor": 0,
  "metadata": {
    "colab": {
      "name": "ATTACK_LOGGER_DL.ipynb",
      "provenance": []
    },
    "kernelspec": {
      "name": "python3",
      "display_name": "Python 3"
    },
    "language_info": {
      "name": "python"
    },
    "accelerator": "GPU"
  },
  "cells": [
    {
      "cell_type": "code",
      "source": [
        "!pip install transformers\n",
        "!pip install textattack[tensorflow]\n",
        "!pip install torchfile"
      ],
      "metadata": {
        "id": "E3S7ww1w-fTf"
      },
      "execution_count": null,
      "outputs": []
    },
    {
      "cell_type": "code",
      "execution_count": 36,
      "metadata": {
        "id": "exxe0AZ_-XlG"
      },
      "outputs": [],
      "source": [
        "import torch\n",
        "import textattack\n",
        "from torchtext.datasets import IMDB, AG_NEWS, YahooAnswers\n",
        "from torchtext.vocab import GloVe\n",
        "from torchtext.data import to_map_style_dataset\n",
        "from torchtext.data.utils import get_tokenizer\n",
        "from torch.nn import LSTM, GRU, Linear, Softmax, CrossEntropyLoss\n",
        "from torch.nn.utils.rnn import pad_sequence\n",
        "from torch.utils.data import DataLoader, random_split, Dataset\n",
        "from torch.optim import Adam\n",
        "from tqdm import tqdm\n",
        "import torchtext\n",
        "import numpy as np\n",
        "from transformers import BertTokenizer, BertForSequenceClassification, AdamW"
      ]
    },
    {
      "cell_type": "code",
      "source": [
        "device = torch.device('cuda' if torch.cuda.is_available() else 'cpu')"
      ],
      "metadata": {
        "id": "OacmRDywAk5j"
      },
      "execution_count": 37,
      "outputs": []
    },
    {
      "cell_type": "code",
      "source": [
        "class BidirectionalLSTMClassifier(torch.nn.Module):\n",
        "    def __init__(self, num_classes, hidden_size, num_layers):\n",
        "        super().__init__()\n",
        "        self.num_layers = num_layers\n",
        "        self.LSTM = LSTM(50, hidden_size, num_layers=num_layers, batch_first=True, bidirectional=True)\n",
        "        self.linear = Linear(2 * hidden_size, num_classes)\n",
        "        self.softmax = Softmax(dim=1)\n",
        "        \n",
        "    def forward(self, x):\n",
        "        _, (h_n, _) = self.LSTM(x)\n",
        "        h_forward = h_n[2 * self.num_layers - 2]\n",
        "        h_backward = h_n[2 * self.num_layers - 1]\n",
        "        y = self.linear(torch.cat((h_forward, h_backward), 1))\n",
        "        return self.softmax(y)\n",
        "\n",
        "class CustomPyTorchModelWrapper(textattack.models.wrappers.model_wrapper.ModelWrapper):\n",
        "    def __init__(self, model, outdim, vocab=torchtext.vocab.GloVe(\"6B\", dim=50), tokenizer=torchtext.data.utils.get_tokenizer(\"basic_english\")):\n",
        "        self.model = model\n",
        "        self.tokenizer = tokenizer\n",
        "        self.outdim = outdim\n",
        "        self.vocab = vocab\n",
        "    \n",
        "    def __call__(self, text_input_list):\n",
        "        preds = torch.zeros(size=(len(text_input_list),self.outdim))\n",
        "        for i, review in enumerate(text_input_list):\n",
        "            tokens = self.tokenizer(review)\n",
        "            input = self.vocab.get_vecs_by_tokens(tokens)\n",
        "            with torch.no_grad():\n",
        "                prediction = self.model(torch.unsqueeze(input,dim=0).to(device))\n",
        "                preds[i] = prediction\n",
        "\n",
        "        return preds"
      ],
      "metadata": {
        "colab": {
          "base_uri": "https://localhost:8080/"
        },
        "id": "sGUGAsBC_BaW",
        "outputId": "8a553863-3963-4891-afc6-f1643f7fe422"
      },
      "execution_count": 7,
      "outputs": [
        {
          "output_type": "stream",
          "name": "stderr",
          "text": [
            ".vector_cache/glove.6B.zip: 862MB [02:42, 5.29MB/s]                           \n",
            "100%|█████████▉| 399999/400000 [00:15<00:00, 26609.24it/s]\n"
          ]
        }
      ]
    },
    {
      "cell_type": "code",
      "source": [
        "# Load Model\n",
        "from pathlib import Path\n",
        "from IPython import get_ipython\n",
        "on_colab = 'google.colab' in str(get_ipython())\n",
        "\n",
        "if on_colab:\n",
        "  from google.colab import drive\n",
        "  drive.mount(\"/content/gdrive\")\n",
        "\n",
        "PATH =  \"/content/gdrive/My Drive/DeepLearning/MODELS/\" if on_colab else \"./\"\n",
        "PATH_RES = \"/content/gdrive/My Drive/DeepLearning/RES/\" if on_colab else \"./\""
      ],
      "metadata": {
        "colab": {
          "base_uri": "https://localhost:8080/"
        },
        "id": "QS0k7cu--kTl",
        "outputId": "74d21125-c2a0-4b2e-f7fa-6decb6fba259"
      },
      "execution_count": 27,
      "outputs": [
        {
          "output_type": "stream",
          "name": "stdout",
          "text": [
            "Drive already mounted at /content/gdrive; to attempt to forcibly remount, call drive.mount(\"/content/gdrive\", force_remount=True).\n"
          ]
        }
      ]
    },
    {
      "cell_type": "code",
      "source": [
        "DATASET = 'AG_NEWS'  # choose from IMDB, AG_NEWS, YahooAnswers\n",
        "MODEL = 'LSTM'  # choose from: GRU, LSTM, CNN, BERT, CNN2\n",
        "num_classes = 4"
      ],
      "metadata": {
        "id": "P7nc3TYy-9Mf"
      },
      "execution_count": 31,
      "outputs": []
    },
    {
      "cell_type": "code",
      "source": [
        "MODEL_READ_NAME = \"LSTM_AG_NEWS_WLADL\"\n",
        "ATTACK_NAME = \"BAE\" # choose from: PWWS, GA, BAE\n",
        "examples = 100"
      ],
      "metadata": {
        "id": "4X045aLYB6Bp"
      },
      "execution_count": 45,
      "outputs": []
    },
    {
      "cell_type": "code",
      "source": [
        "# Load Model to be used to generate the adversarial examples for training:\n",
        "model = BidirectionalLSTMClassifier(num_classes, 64, 1).to(device)\n",
        "checkpoint = torch.load(PATH+MODEL_READ_NAME+\".pt\")\n",
        "model.load_state_dict(checkpoint['model_state_dict'])\n",
        "model.eval()"
      ],
      "metadata": {
        "colab": {
          "base_uri": "https://localhost:8080/"
        },
        "id": "Cf_jnrFB-w6N",
        "outputId": "b83b7536-cccc-448c-c19d-e5a50283b012"
      },
      "execution_count": 46,
      "outputs": [
        {
          "output_type": "execute_result",
          "data": {
            "text/plain": [
              "BidirectionalLSTMClassifier(\n",
              "  (LSTM): LSTM(50, 64, batch_first=True, bidirectional=True)\n",
              "  (linear): Linear(in_features=128, out_features=4, bias=True)\n",
              "  (softmax): Softmax(dim=1)\n",
              ")"
            ]
          },
          "metadata": {},
          "execution_count": 46
        }
      ]
    },
    {
      "cell_type": "code",
      "source": [
        "model_wrapper = CustomPyTorchModelWrapper(model, outdim=num_classes)\n",
        "\n",
        "if DATASET == \"AG_NEWS\":\n",
        "    dataset = textattack.datasets.HuggingFaceDataset(\"ag_news\", split=\"test\")\n",
        "elif DATASET == \"IMDB\":\n",
        "    dataset = textattack.datasets.HuggingFaceDataset(\"imdb\", split=\"test\")\n",
        "elif DATASET == \"YahooAnswers\":\n",
        "    dataset = textattack.datasets.HuggingFaceDataset(\"yahoo_answers\", split=\"test\")\n",
        "\n",
        "if ATTACK_NAME == \"PWWS\":\n",
        "    attack = textattack.attack_recipes.pwws_ren_2019.PWWSRen2019.build(model_wrapper)\n",
        "elif ATTACK_NAME == \"BAE\":\n",
        "    attack = textattack.attack_recipes.bae_garg_2019.BAEGarg2019.build(model_wrapper)\n",
        "elif ATTACK_NAME == \"GA\":\n",
        "    attack = textattack.attack_recipes.iga_wang_2019.IGAWang2019.build(model_wrapper)\n",
        "\n",
        "attack_args = textattack.AttackArgs(num_examples=examples, log_to_csv=PATH_RES+MODEL_READ_NAME+\"_\"+ATTACK_NAME+\".csv\")\n",
        "attacker = textattack.Attacker(attack, dataset, attack_args)\n",
        "attacker.attack_dataset()"
      ],
      "metadata": {
        "id": "ni2g_cjg_3Ko"
      },
      "execution_count": null,
      "outputs": []
    },
    {
      "cell_type": "code",
      "source": [
        "import pandas as pd\n",
        "df = pd.read_csv(PATH_RES+MODEL_READ_NAME+\"_\"+ATTACK_NAME+\".csv\")\n",
        "df"
      ],
      "metadata": {
        "colab": {
          "base_uri": "https://localhost:8080/",
          "height": 589
        },
        "id": "9KLa2qQ5CL1t",
        "outputId": "2795cc1e-c4dc-44e3-db7e-71f5bf4480e0"
      },
      "execution_count": 48,
      "outputs": [
        {
          "output_type": "execute_result",
          "data": {
            "text/html": [
              "<div>\n",
              "<style scoped>\n",
              "    .dataframe tbody tr th:only-of-type {\n",
              "        vertical-align: middle;\n",
              "    }\n",
              "\n",
              "    .dataframe tbody tr th {\n",
              "        vertical-align: top;\n",
              "    }\n",
              "\n",
              "    .dataframe thead th {\n",
              "        text-align: right;\n",
              "    }\n",
              "</style>\n",
              "<table border=\"1\" class=\"dataframe\">\n",
              "  <thead>\n",
              "    <tr style=\"text-align: right;\">\n",
              "      <th></th>\n",
              "      <th>ground_truth_output</th>\n",
              "      <th>num_queries</th>\n",
              "      <th>original_output</th>\n",
              "      <th>original_score</th>\n",
              "      <th>original_text</th>\n",
              "      <th>perturbed_output</th>\n",
              "      <th>perturbed_score</th>\n",
              "      <th>perturbed_text</th>\n",
              "      <th>result_type</th>\n",
              "    </tr>\n",
              "  </thead>\n",
              "  <tbody>\n",
              "    <tr>\n",
              "      <th>0</th>\n",
              "      <td>2.0</td>\n",
              "      <td>86.0</td>\n",
              "      <td>2.0</td>\n",
              "      <td>2.455711e-05</td>\n",
              "      <td>Fears for T N [[pension]] after talks Unions r...</td>\n",
              "      <td>2.0</td>\n",
              "      <td>0.007293</td>\n",
              "      <td>Fears for T N [[left]] after talks Unions repr...</td>\n",
              "      <td>Failed</td>\n",
              "    </tr>\n",
              "    <tr>\n",
              "      <th>1</th>\n",
              "      <td>3.0</td>\n",
              "      <td>237.0</td>\n",
              "      <td>3.0</td>\n",
              "      <td>3.099442e-06</td>\n",
              "      <td>The Race is On: Second Private Team Sets [[Lau...</td>\n",
              "      <td>3.0</td>\n",
              "      <td>0.000039</td>\n",
              "      <td>The Race is On: Second Private Team Sets [[rec...</td>\n",
              "      <td>Failed</td>\n",
              "    </tr>\n",
              "    <tr>\n",
              "      <th>2</th>\n",
              "      <td>3.0</td>\n",
              "      <td>85.0</td>\n",
              "      <td>3.0</td>\n",
              "      <td>5.614758e-05</td>\n",
              "      <td>Ky. Company Wins Grant to Study [[Peptides]] (...</td>\n",
              "      <td>3.0</td>\n",
              "      <td>0.000336</td>\n",
              "      <td>Ky. Company Wins Grant to Study [[peptide]] (A...</td>\n",
              "      <td>Failed</td>\n",
              "    </tr>\n",
              "    <tr>\n",
              "      <th>3</th>\n",
              "      <td>3.0</td>\n",
              "      <td>156.0</td>\n",
              "      <td>3.0</td>\n",
              "      <td>8.217931e-03</td>\n",
              "      <td>Prediction Unit Helps Forecast Wildfires (AP) ...</td>\n",
              "      <td>3.0</td>\n",
              "      <td>0.498610</td>\n",
              "      <td>Prediction Unit Helps Forecast Wildfires (AP) ...</td>\n",
              "      <td>Failed</td>\n",
              "    </tr>\n",
              "    <tr>\n",
              "      <th>4</th>\n",
              "      <td>3.0</td>\n",
              "      <td>89.0</td>\n",
              "      <td>3.0</td>\n",
              "      <td>1.972616e-03</td>\n",
              "      <td>Calif. [[Aims]] to Limit Farm-Related Smog (AP...</td>\n",
              "      <td>0.0</td>\n",
              "      <td>0.701632</td>\n",
              "      <td>Calif. [[campaign]] to Limit Farm-Related Smog...</td>\n",
              "      <td>Successful</td>\n",
              "    </tr>\n",
              "    <tr>\n",
              "      <th>...</th>\n",
              "      <td>...</td>\n",
              "      <td>...</td>\n",
              "      <td>...</td>\n",
              "      <td>...</td>\n",
              "      <td>...</td>\n",
              "      <td>...</td>\n",
              "      <td>...</td>\n",
              "      <td>...</td>\n",
              "      <td>...</td>\n",
              "    </tr>\n",
              "    <tr>\n",
              "      <th>95</th>\n",
              "      <td>1.0</td>\n",
              "      <td>146.0</td>\n",
              "      <td>1.0</td>\n",
              "      <td>9.536743e-07</td>\n",
              "      <td>Eriksson doesn #39;t feel any extra pressure f...</td>\n",
              "      <td>1.0</td>\n",
              "      <td>0.000004</td>\n",
              "      <td>Eriksson doesn #39;t feel any extra pressure f...</td>\n",
              "      <td>Failed</td>\n",
              "    </tr>\n",
              "    <tr>\n",
              "      <th>96</th>\n",
              "      <td>1.0</td>\n",
              "      <td>102.0</td>\n",
              "      <td>1.0</td>\n",
              "      <td>4.291534e-06</td>\n",
              "      <td>Injured [[Heskey]] to miss England friendly NE...</td>\n",
              "      <td>1.0</td>\n",
              "      <td>0.000027</td>\n",
              "      <td>Injured [[plans]] to miss England friendly NEW...</td>\n",
              "      <td>Failed</td>\n",
              "    </tr>\n",
              "    <tr>\n",
              "      <th>97</th>\n",
              "      <td>2.0</td>\n",
              "      <td>315.0</td>\n",
              "      <td>2.0</td>\n",
              "      <td>7.152557e-07</td>\n",
              "      <td>Staples [[Profit]] Up, to Enter China Market  ...</td>\n",
              "      <td>2.0</td>\n",
              "      <td>0.000015</td>\n",
              "      <td>Staples [[team]] Up, to Enter China Market  NE...</td>\n",
              "      <td>Failed</td>\n",
              "    </tr>\n",
              "    <tr>\n",
              "      <th>98</th>\n",
              "      <td>0.0</td>\n",
              "      <td>100.0</td>\n",
              "      <td>0.0</td>\n",
              "      <td>3.933907e-06</td>\n",
              "      <td>Delegation Is Delayed Before Reaching [[Najaf]...</td>\n",
              "      <td>0.0</td>\n",
              "      <td>0.000015</td>\n",
              "      <td>Delegation Is Delayed Before Reaching [[lake]]...</td>\n",
              "      <td>Failed</td>\n",
              "    </tr>\n",
              "    <tr>\n",
              "      <th>99</th>\n",
              "      <td>2.0</td>\n",
              "      <td>113.0</td>\n",
              "      <td>2.0</td>\n",
              "      <td>1.072884e-06</td>\n",
              "      <td>Consumer [[Prices]] Down, Industry Output Up  ...</td>\n",
              "      <td>2.0</td>\n",
              "      <td>0.000048</td>\n",
              "      <td>Consumer [[outputs]] Down, Industry Output Up ...</td>\n",
              "      <td>Failed</td>\n",
              "    </tr>\n",
              "  </tbody>\n",
              "</table>\n",
              "<p>100 rows × 9 columns</p>\n",
              "</div>"
            ],
            "text/plain": [
              "    ground_truth_output  ...  result_type\n",
              "0                   2.0  ...       Failed\n",
              "1                   3.0  ...       Failed\n",
              "2                   3.0  ...       Failed\n",
              "3                   3.0  ...       Failed\n",
              "4                   3.0  ...   Successful\n",
              "..                  ...  ...          ...\n",
              "95                  1.0  ...       Failed\n",
              "96                  1.0  ...       Failed\n",
              "97                  2.0  ...       Failed\n",
              "98                  0.0  ...       Failed\n",
              "99                  2.0  ...       Failed\n",
              "\n",
              "[100 rows x 9 columns]"
            ]
          },
          "metadata": {},
          "execution_count": 48
        }
      ]
    },
    {
      "cell_type": "code",
      "source": [
        ""
      ],
      "metadata": {
        "id": "YqKAb2UVDMvo"
      },
      "execution_count": null,
      "outputs": []
    }
  ]
}
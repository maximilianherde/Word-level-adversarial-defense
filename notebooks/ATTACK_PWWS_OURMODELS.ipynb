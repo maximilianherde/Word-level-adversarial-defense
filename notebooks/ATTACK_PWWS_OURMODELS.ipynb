{
  "nbformat": 4,
  "nbformat_minor": 0,
  "metadata": {
    "colab": {
      "name": "ATTACK_PWWS_OURMODELS.ipynb",
      "provenance": []
    },
    "kernelspec": {
      "name": "python3",
      "display_name": "Python 3"
    },
    "language_info": {
      "name": "python"
    }
  },
  "cells": [
    {
      "cell_type": "code",
      "metadata": {
        "id": "kCWBtu6E1Kdn"
      },
      "source": [
        "import torch\n",
        "from torchtext.datasets import IMDB, AG_NEWS, YahooAnswers\n",
        "from torchtext.vocab import GloVe\n",
        "from torchtext.data import to_map_style_dataset\n",
        "from torchtext.data.utils import get_tokenizer\n",
        "from torch.nn.utils.rnn import pad_sequence\n",
        "from torch.nn import CrossEntropyLoss\n",
        "from torch.utils.data import DataLoader, random_split\n",
        "from torch.optim import Adam\n",
        "import torch.nn.functional as F\n",
        "from torch.nn import LSTM, GRU, Linear, Softmax, Conv2d, Dropout\n",
        "from tqdm import tqdm"
      ],
      "execution_count": 1,
      "outputs": []
    },
    {
      "cell_type": "code",
      "metadata": {
        "id": "xd_5zAVg1RPN"
      },
      "source": [
        "device = torch.device('cuda' if torch.cuda.is_available() else 'cpu')"
      ],
      "execution_count": 2,
      "outputs": []
    },
    {
      "cell_type": "code",
      "metadata": {
        "id": "TJ7yWNkv1Uoz"
      },
      "source": [
        "train_set = AG_NEWS(split='train')\n",
        "test_set = AG_NEWS(split='test')\n",
        "num_classes = 4"
      ],
      "execution_count": 3,
      "outputs": []
    },
    {
      "cell_type": "code",
      "metadata": {
        "id": "1RPvBGeI1YBp"
      },
      "source": [
        "tokenizer = get_tokenizer('basic_english')\n",
        "embedding = GloVe(name='6B', dim=50)"
      ],
      "execution_count": 4,
      "outputs": []
    },
    {
      "cell_type": "code",
      "metadata": {
        "id": "V1kMv0EV19Yp"
      },
      "source": [
        "from torch.utils.data import Dataset\n",
        "\n",
        "class ClassificationDataset(Dataset):\n",
        "    def __init__(self, dataset, num_classes, tokenizer):\n",
        "        self.num_classes = num_classes\n",
        "        self.dataset = dataset\n",
        "        self.tokenizer = tokenizer\n",
        "\n",
        "    def __len__(self):\n",
        "        return self.dataset.__len__()\n",
        "\n",
        "    def __getitem__(self, idx):\n",
        "        label, text = self.dataset.__getitem__(idx)\n",
        "        return int(label) - 1, self.tokenizer(text)"
      ],
      "execution_count": 5,
      "outputs": []
    },
    {
      "cell_type": "code",
      "metadata": {
        "id": "xR1jjv4E2TTE"
      },
      "source": [
        "def collate_batch(batch):\n",
        "    label_list, text_list = [], []\n",
        "    for (_label, _tokens) in batch:\n",
        "        label_list.append(_label)\n",
        "        embed = embedding.get_vecs_by_tokens(_tokens)\n",
        "        text_list.append(embed)\n",
        "    label_list = torch.tensor(label_list, dtype=torch.int64)\n",
        "    text_list = pad_sequence(text_list, batch_first=True)\n",
        "    return label_list.to(device), text_list.to(device)"
      ],
      "execution_count": 6,
      "outputs": []
    },
    {
      "cell_type": "code",
      "metadata": {
        "id": "dXuXjk5j1cBG"
      },
      "source": [
        "train_set = to_map_style_dataset(train_set)\n",
        "test_set = to_map_style_dataset(test_set)"
      ],
      "execution_count": 7,
      "outputs": []
    },
    {
      "cell_type": "code",
      "metadata": {
        "id": "9-MFXg-02YOG"
      },
      "source": [
        "train_set = ClassificationDataset(train_set, num_classes, tokenizer)\n",
        "test_set = ClassificationDataset(test_set, num_classes, tokenizer)"
      ],
      "execution_count": 8,
      "outputs": []
    },
    {
      "cell_type": "code",
      "metadata": {
        "id": "ke_hYc5m2h3t"
      },
      "source": [
        "BATCH_SIZE = 64\n",
        "SHUFFLE = True\n",
        "NUM_EPOCHS = 10"
      ],
      "execution_count": 9,
      "outputs": []
    },
    {
      "cell_type": "code",
      "metadata": {
        "id": "So19fxCg2bvm"
      },
      "source": [
        "train_loader = DataLoader(train_set, batch_size=BATCH_SIZE,\n",
        "                          collate_fn=collate_batch, shuffle=SHUFFLE)\n",
        "test_loader = DataLoader(test_set, batch_size=BATCH_SIZE,\n",
        "                         collate_fn=collate_batch, shuffle=SHUFFLE)"
      ],
      "execution_count": 10,
      "outputs": []
    },
    {
      "cell_type": "code",
      "metadata": {
        "id": "nojqUecD2ebt"
      },
      "source": [
        "def evaluate(model, data_loader, loss=CrossEntropyLoss()):\n",
        "    model.eval()\n",
        "    total_acc, total_count = 0, 0\n",
        "\n",
        "    with torch.no_grad():\n",
        "        for idx, (labels, text) in enumerate(data_loader):\n",
        "            predicted_label = model(text)\n",
        "            loss_ = loss(predicted_label, labels)\n",
        "            total_acc += (predicted_label.argmax(1) == labels).sum().item()\n",
        "            total_count += labels.size(0)\n",
        "    return total_acc / total_count\n",
        "\n",
        "\n",
        "def train(model, optimizer, train_loader, loss=CrossEntropyLoss(), log_interval=50):\n",
        "    model.train()\n",
        "    total_acc, total_count = 0, 0\n",
        "    pbar = tqdm(total=len(train_loader),\n",
        "                desc=f'Epoch [{epoch + 1}/{NUM_EPOCHS}]')\n",
        "    for idx, (labels, text) in enumerate(train_loader):\n",
        "        output = model(text)\n",
        "        loss_ = loss(output, labels)\n",
        "        optimizer.zero_grad()\n",
        "        loss_.backward()\n",
        "        optimizer.step()\n",
        "        total_acc += (output.argmax(1) == labels).sum().item()\n",
        "        total_count += labels.size(0)\n",
        "        pbar.update()\n",
        "        if idx % log_interval == 0 and idx > 0:\n",
        "            pbar.set_postfix(loss=loss_, accuracy=total_acc / total_count)\n",
        "            total_acc, total_count = 0, 0\n",
        "\n",
        "    pbar.close()"
      ],
      "execution_count": 11,
      "outputs": []
    },
    {
      "cell_type": "code",
      "metadata": {
        "id": "hx4V1J0i2zU0"
      },
      "source": [
        "class BidirectionalLSTMClassifier(torch.nn.Module):\n",
        "    def __init__(self, num_classes, hidden_size, num_layers):\n",
        "        super().__init__()\n",
        "        self.num_layers = num_layers\n",
        "        self.LSTM = LSTM(50, hidden_size, num_layers=num_layers,\n",
        "                         batch_first=True, bidirectional=True)\n",
        "        self.linear = Linear(2 * hidden_size, num_classes)\n",
        "        self.softmax = Softmax(dim=1)\n",
        "\n",
        "    def forward(self, x):\n",
        "        _, (h_n, _) = self.LSTM(x)\n",
        "        h_forward = h_n[2 * self.num_layers - 2]\n",
        "        h_backward = h_n[2 * self.num_layers - 1]\n",
        "        y = self.linear(torch.cat((h_forward, h_backward), 1))\n",
        "        return self.softmax(y)"
      ],
      "execution_count": 12,
      "outputs": []
    },
    {
      "cell_type": "code",
      "metadata": {
        "id": "nV4BtodC6D9o"
      },
      "source": [
        "class CNNClassifier(torch.nn.Module):\n",
        "    def __init__(self, num_classes, in_channels, out_channels, kernel_heights, pad=0, stri=1, embed_dim=50, drop=0.2):\n",
        "        super().__init__()\n",
        "        self.conv1 = Conv2d(in_channels, out_channels[0], kernel_size=(kernel_heights[0], embed_dim), stride=stri, padding=pad)\n",
        "        self.conv2 = Conv2d(in_channels, out_channels[1], kernel_size=(kernel_heights[1], embed_dim), stride=stri, padding=pad)\n",
        "        self.conv3 = Conv2d(in_channels, out_channels[2], kernel_size=(kernel_heights[2], embed_dim), stride=stri, padding=pad)\n",
        "        self.drop = Dropout(drop)\n",
        "        self.fc = Linear(sum(out_channels), num_classes)\n",
        "        self.soft = Softmax(dim=1)\n",
        "    \n",
        "    def _conv_n_maxpool_1d(self, input, conv_layer):\n",
        "\n",
        "        conved = conv_layer(input) # conved.size() = (batch_size, out_channels[0], dim, 1)\n",
        "        reld = F.relu(conved.squeeze(3)) # reld.size() = (batch_size, out_channels[0], dim)\n",
        "        max_out = F.max_pool1d(reld, reld.size()[2]).squeeze(2) # maxpool_out.size() = (batch_size, out_channels[0])\n",
        "\n",
        "        return max_out\n",
        "\n",
        "    def forward(self, x):\n",
        "        # x.size() = (batch_size, num_seq, embed_dim)\n",
        "        x = x.unsqueeze(1) # x.size() = (batch_size, 1, num_seq, embed_dim)\n",
        "\n",
        "        out_1 = self._conv_n_maxpool_1d(x, self.conv1)\n",
        "        out_2 = self._conv_n_maxpool_1d(x, self.conv2)\n",
        "        out_3 = self._conv_n_maxpool_1d(x, self.conv3)\n",
        "\n",
        "        cat_out = torch.cat((out_1, out_2, out_3), dim=1)\n",
        "\n",
        "        drop = self.drop(cat_out)\n",
        "        fc_out = self.fc(drop)\n",
        "        out = self.soft(fc_out)\n",
        "\n",
        "        return out"
      ],
      "execution_count": 13,
      "outputs": []
    },
    {
      "cell_type": "code",
      "metadata": {
        "colab": {
          "base_uri": "https://localhost:8080/"
        },
        "id": "VEcnOh3U2sRO",
        "outputId": "86bf7657-0978-4e61-cd60-470f91b9c787"
      },
      "source": [
        "model = BidirectionalLSTMClassifier(num_classes, 64, 2).to(device)\n",
        "#model = CNNClassifier(num_classes, in_channels=1, out_channels=(3,5,7), kernel_heights=(2,3,4)).to(device)\n",
        "optim = Adam(model.parameters())\n",
        "\n",
        "for epoch in range(2):\n",
        "    train(model, optim, train_loader)"
      ],
      "execution_count": 14,
      "outputs": [
        {
          "output_type": "stream",
          "name": "stderr",
          "text": [
            "Epoch [1/10]: 100%|██████████| 1875/1875 [09:08<00:00,  3.42it/s, accuracy=0.882, loss=tensor(0.9010, grad_fn=<NllLossBackward0>)]\n",
            "Epoch [2/10]: 100%|██████████| 1875/1875 [10:14<00:00,  3.05it/s, accuracy=0.878, loss=tensor(0.8799, grad_fn=<NllLossBackward0>)]\n"
          ]
        }
      ]
    },
    {
      "cell_type": "code",
      "metadata": {
        "colab": {
          "base_uri": "https://localhost:8080/"
        },
        "id": "XDQJsijIB9fH",
        "outputId": "d741a126-d37b-439a-8ce4-da9d8fbbb312"
      },
      "source": [
        "test_accuracy = evaluate(model, test_loader)\n",
        "print(f'Test accuracy: {test_accuracy}')"
      ],
      "execution_count": 15,
      "outputs": [
        {
          "output_type": "stream",
          "name": "stdout",
          "text": [
            "Test accuracy: 0.8769736842105263\n"
          ]
        }
      ]
    },
    {
      "cell_type": "code",
      "metadata": {
        "id": "X1L0b6ksIsu-"
      },
      "source": [
        "!pip install textattack[tensorflow]"
      ],
      "execution_count": null,
      "outputs": []
    },
    {
      "cell_type": "code",
      "metadata": {
        "id": "YbFgUUFVIdLi"
      },
      "source": [
        "import textattack\n",
        "import torchtext\n",
        "\n",
        "class CustomPyTorchModelWrapper(textattack.models.wrappers.model_wrapper.ModelWrapper):\n",
        "    def __init__(self, model, outdim, vocab=torchtext.vocab.GloVe(\"6B\", dim=50), tokenizer=torchtext.data.utils.get_tokenizer(\"basic_english\")):\n",
        "        self.model = model\n",
        "        self.tokenizer = tokenizer\n",
        "        self.outdim = outdim\n",
        "        self.vocab = vocab\n",
        "    \n",
        "    def __call__(self, text_input_list):\n",
        "        preds = torch.zeros(size=(len(text_input_list),self.outdim))\n",
        "        for i, review in enumerate(text_input_list):\n",
        "            tokens = self.tokenizer(review)\n",
        "            input = self.vocab.get_vecs_by_tokens(tokens)\n",
        "        with torch.no_grad():\n",
        "            prediction = self.model(torch.unsqueeze(input,dim=0))\n",
        "            preds[i] = prediction\n",
        "\n",
        "        return preds"
      ],
      "execution_count": 16,
      "outputs": []
    },
    {
      "cell_type": "code",
      "metadata": {
        "colab": {
          "base_uri": "https://localhost:8080/"
        },
        "id": "jalmCgQYI8cx",
        "outputId": "1e2f9071-4571-4dc1-91ba-b5a350f80c43"
      },
      "source": [
        "model_wrapper = CustomPyTorchModelWrapper(model, outdim=num_classes)\n",
        "\n",
        "dataset = textattack.datasets.HuggingFaceDataset(\"ag_news\", split=\"test\")\n",
        "attack = textattack.attack_recipes.pwws_ren_2019.PWWSRen2019.build(model_wrapper)\n",
        "attack_args = textattack.AttackArgs(num_examples=100)\n",
        "attacker = textattack.Attacker(attack, dataset, attack_args)\n",
        "attacker.attack_dataset()"
      ],
      "execution_count": 18,
      "outputs": [
        {
          "output_type": "stream",
          "name": "stderr",
          "text": [
            "Using custom data configuration default\n",
            "Reusing dataset ag_news (/root/.cache/huggingface/datasets/ag_news/default/0.0.0/fb5c5e74a110037311ef5e904583ce9f8b9fbc1354290f97b4929f01b3f48b1a)\n",
            "textattack: Loading \u001b[94mdatasets\u001b[0m dataset \u001b[94mag_news\u001b[0m, split \u001b[94mtest\u001b[0m.\n",
            "textattack: Unknown if model of class <class '__main__.BidirectionalLSTMClassifier'> compatible with goal function <class 'textattack.goal_functions.classification.untargeted_classification.UntargetedClassification'>.\n",
            "[Succeeded / Failed / Skipped / Total] 1 / 0 / 0 / 1:   1%|          | 1/100 [00:00<00:13,  7.17it/s]"
          ]
        },
        {
          "output_type": "stream",
          "name": "stdout",
          "text": [
            "Attack(\n",
            "  (search_method): GreedyWordSwapWIR(\n",
            "    (wir_method):  weighted-saliency\n",
            "  )\n",
            "  (goal_function):  UntargetedClassification\n",
            "  (transformation):  WordSwapWordNet\n",
            "  (constraints): \n",
            "    (0): RepeatModification\n",
            "    (1): StopwordModification\n",
            "  (is_black_box):  True\n",
            ") \n",
            "\n",
            "--------------------------------------------- Result 1 ---------------------------------------------\n",
            "[[Business (100%)]] --> [[World (25%)]]\n",
            "\n",
            "[[Fears]] for T N pension after talks Unions representing workers at Turner   Newall say they are 'disappointed' after talks with stricken parent firm Federal Mogul.\n",
            "\n",
            "[[awe]] for T N pension after talks Unions representing workers at Turner   Newall say they are 'disappointed' after talks with stricken parent firm Federal Mogul.\n",
            "\n",
            "\n"
          ]
        },
        {
          "output_type": "stream",
          "name": "stderr",
          "text": [
            "[Succeeded / Failed / Skipped / Total] 2 / 0 / 0 / 2:   2%|▏         | 2/100 [00:00<00:31,  3.14it/s]"
          ]
        },
        {
          "output_type": "stream",
          "name": "stdout",
          "text": [
            "--------------------------------------------- Result 2 ---------------------------------------------\n",
            "[[Sci/tech (100%)]] --> [[World (25%)]]\n",
            "\n",
            "The Race is On: Second Private Team Sets Launch Date for Human Spaceflight (SPACE.com) SPACE.com - TORONTO, Canada -- A second\\team of rocketeers competing for the  #36;10 million Ansari X Prize, a contest for\\privately funded suborbital space flight, has officially announced the [[first]]\\launch date for its manned rocket.\n",
            "\n",
            "The Race is On: Second Private Team Sets Launch Date for Human Spaceflight (SPACE.com) SPACE.com - TORONTO, Canada -- A second\\team of rocketeers competing for the  #36;10 million Ansari X Prize, a contest for\\privately funded suborbital space flight, has officially announced the [[1st]]\\launch date for its manned rocket.\n",
            "\n",
            "\n"
          ]
        },
        {
          "output_type": "stream",
          "name": "stderr",
          "text": [
            "[Succeeded / Failed / Skipped / Total] 3 / 0 / 0 / 3:   3%|▎         | 3/100 [00:01<00:32,  2.98it/s]"
          ]
        },
        {
          "output_type": "stream",
          "name": "stdout",
          "text": [
            "--------------------------------------------- Result 3 ---------------------------------------------\n",
            "[[Sci/tech (100%)]] --> [[World (25%)]]\n",
            "\n",
            "[[Ky]]. Company Wins Grant to Study Peptides (AP) AP - A company founded by a chemistry researcher at the University of Louisville won a grant to develop a method of producing better peptides, which are short chains of amino acids, the building blocks of proteins.\n",
            "\n",
            "[[KY]]. Company Wins Grant to Study Peptides (AP) AP - A company founded by a chemistry researcher at the University of Louisville won a grant to develop a method of producing better peptides, which are short chains of amino acids, the building blocks of proteins.\n",
            "\n",
            "\n"
          ]
        },
        {
          "output_type": "stream",
          "name": "stderr",
          "text": [
            "[Succeeded / Failed / Skipped / Total] 4 / 0 / 0 / 4:   4%|▍         | 4/100 [00:01<00:38,  2.49it/s]"
          ]
        },
        {
          "output_type": "stream",
          "name": "stdout",
          "text": [
            "--------------------------------------------- Result 4 ---------------------------------------------\n",
            "[[Sci/tech (82%)]] --> [[World (25%)]]\n",
            "\n",
            "[[Prediction]] Unit Helps Forecast Wildfires (AP) AP - It's barely dawn when Mike Fitzpatrick starts his shift with a blur of colorful maps, figures and endless charts, but already he knows what the day will bring. Lightning will strike in places he expects. Winds will pick up, moist places will dry and flames will roar.\n",
            "\n",
            "[[anticipation]] Unit Helps Forecast Wildfires (AP) AP - It's barely dawn when Mike Fitzpatrick starts his shift with a blur of colorful maps, figures and endless charts, but already he knows what the day will bring. Lightning will strike in places he expects. Winds will pick up, moist places will dry and flames will roar.\n",
            "\n",
            "\n"
          ]
        },
        {
          "output_type": "stream",
          "name": "stderr",
          "text": [
            "[Succeeded / Failed / Skipped / Total] 5 / 0 / 0 / 5:   5%|▌         | 5/100 [00:01<00:35,  2.67it/s]"
          ]
        },
        {
          "output_type": "stream",
          "name": "stdout",
          "text": [
            "--------------------------------------------- Result 5 ---------------------------------------------\n",
            "[[Sci/tech (96%)]] --> [[World (45%)]]\n",
            "\n",
            "Calif. [[Aims]] to Limit Farm-Related Smog (AP) AP - Southern California's smog-fighting agency went after emissions of the bovine variety Friday, adopting the nation's first rules to reduce air pollution from dairy cow manure.\n",
            "\n",
            "Calif. [[train]] to Limit Farm-Related Smog (AP) AP - Southern California's smog-fighting agency went after emissions of the bovine variety Friday, adopting the nation's first rules to reduce air pollution from dairy cow manure.\n",
            "\n",
            "\n"
          ]
        },
        {
          "output_type": "stream",
          "name": "stderr",
          "text": [
            "[Succeeded / Failed / Skipped / Total] 6 / 0 / 0 / 6:   6%|▌         | 6/100 [00:04<01:11,  1.32it/s]"
          ]
        },
        {
          "output_type": "stream",
          "name": "stdout",
          "text": [
            "--------------------------------------------- Result 6 ---------------------------------------------\n",
            "[[Sci/tech (100%)]] --> [[World (25%)]]\n",
            "\n",
            "[[Open]] Letter Against British Copyright Indoctrination in Schools The British Department for Education and Skills (DfES) recently launched a \"Music Manifesto\" campaign, with the ostensible intention of educating the next generation of British musicians. Unfortunately, they also teamed up with the music industry (EMI, and various artists) to make this popular. EMI has apparently negotiated their end well, so that children in our schools will now be indoctrinated about the illegality of downloading music.The ignorance and audacity of this got to me a little, so I wrote an open letter to the DfES about it. Unfortunately, it's pedantic, as I suppose you have to be when writing to goverment representatives. But I hope you find it useful, and perhaps feel inspired to do something similar, if or when the same thing has happened in your area.\n",
            "\n",
            "[[afford]] Letter Against British Copyright Indoctrination in Schools The British Department for Education and Skills (DfES) recently launched a \"Music Manifesto\" campaign, with the ostensible intention of educating the next generation of British musicians. Unfortunately, they also teamed up with the music industry (EMI, and various artists) to make this popular. EMI has apparently negotiated their end well, so that children in our schools will now be indoctrinated about the illegality of downloading music.The ignorance and audacity of this got to me a little, so I wrote an open letter to the DfES about it. Unfortunately, it's pedantic, as I suppose you have to be when writing to goverment representatives. But I hope you find it useful, and perhaps feel inspired to do something similar, if or when the same thing has happened in your area.\n",
            "\n",
            "\n"
          ]
        },
        {
          "output_type": "stream",
          "name": "stderr",
          "text": [
            "[Succeeded / Failed / Skipped / Total] 7 / 0 / 0 / 7:   7%|▋         | 7/100 [00:05<01:17,  1.21it/s]"
          ]
        },
        {
          "output_type": "stream",
          "name": "stdout",
          "text": [
            "--------------------------------------------- Result 7 ---------------------------------------------\n",
            "[[Sci/tech (100%)]] --> [[World (25%)]]\n",
            "\n",
            "[[Loosing]] the War on Terrorism \\\\\"Sven Jaschan, self-confessed author of the Netsky and Sasser viruses, is\\responsible for 70 percent of virus infections in 2004, according to a six-month\\virus roundup published Wednesday by antivirus company Sophos.\"\\\\\"The 18-year-old Jaschan was taken into custody in Germany in May by police who\\said he had admitted programming both the Netsky and Sasser worms, something\\experts at Microsoft confirmed. (A Microsoft antivirus reward program led to the\\teenager's arrest.) During the five months preceding Jaschan's capture, there\\were at least 25 variants of Netsky and one of the port-scanning network worm\\Sasser.\"\\\\\"Graham Cluley, senior technology consultant at Sophos, said it was staggeri ...\\\\\n",
            "\n",
            "[[free]] the War on Terrorism \\\\\"Sven Jaschan, self-confessed author of the Netsky and Sasser viruses, is\\responsible for 70 percent of virus infections in 2004, according to a six-month\\virus roundup published Wednesday by antivirus company Sophos.\"\\\\\"The 18-year-old Jaschan was taken into custody in Germany in May by police who\\said he had admitted programming both the Netsky and Sasser worms, something\\experts at Microsoft confirmed. (A Microsoft antivirus reward program led to the\\teenager's arrest.) During the five months preceding Jaschan's capture, there\\were at least 25 variants of Netsky and one of the port-scanning network worm\\Sasser.\"\\\\\"Graham Cluley, senior technology consultant at Sophos, said it was staggeri ...\\\\\n",
            "\n",
            "\n"
          ]
        },
        {
          "output_type": "stream",
          "name": "stderr",
          "text": [
            "[Succeeded / Failed / Skipped / Total] 9 / 0 / 1 / 10:  10%|█         | 10/100 [00:07<01:10,  1.27it/s]"
          ]
        },
        {
          "output_type": "stream",
          "name": "stdout",
          "text": [
            "--------------------------------------------- Result 8 ---------------------------------------------\n",
            "[[Sci/tech (100%)]] --> [[World (25%)]]\n",
            "\n",
            "FOAFKey: FOAF, PGP, Key Distribution, and Bloom Filters \\\\FOAF/LOAF  and bloom filters have a lot of interesting properties for social\\network and whitelist distribution.\\\\I think we can go one level higher though and include GPG/OpenPGP key\\fingerpring distribution in the FOAF file for simple web-of-trust based key\\distribution.\\\\What if we used FOAF and included the PGP key fingerprint(s) for identities?\\This could mean a lot.  You include the PGP key fingerprints within the FOAF\\file of your [[direct]] friends and then include a bloom filter of the PGP key\\fingerprints of your entire whitelist (the source FOAF file would of course need\\to be encrypted ).\\\\Your whitelist would be populated from the social network as your client\\discovered new identit ...\\\\\n",
            "\n",
            "FOAFKey: FOAF, PGP, Key Distribution, and Bloom Filters \\\\FOAF/LOAF  and bloom filters have a lot of interesting properties for social\\network and whitelist distribution.\\\\I think we can go one level higher though and include GPG/OpenPGP key\\fingerpring distribution in the FOAF file for simple web-of-trust based key\\distribution.\\\\What if we used FOAF and included the PGP key fingerprint(s) for identities?\\This could mean a lot.  You include the PGP key fingerprints within the FOAF\\file of your [[address]] friends and then include a bloom filter of the PGP key\\fingerprints of your entire whitelist (the source FOAF file would of course need\\to be encrypted ).\\\\Your whitelist would be populated from the social network as your client\\discovered new identit ...\\\\\n",
            "\n",
            "\n",
            "--------------------------------------------- Result 9 ---------------------------------------------\n",
            "[[Sci/tech (96%)]] --> [[World (25%)]]\n",
            "\n",
            "[[E-mail]] scam targets police chief Wiltshire Police warns about \"phishing\" after its fraud squad chief was targeted.\n",
            "\n",
            "[[e-mail]] scam targets police chief Wiltshire Police warns about \"phishing\" after its fraud squad chief was targeted.\n",
            "\n",
            "\n",
            "--------------------------------------------- Result 10 ---------------------------------------------\n",
            "[[Business (67%)]] --> [[[SKIPPED]]]\n",
            "\n",
            "Card fraud unit nets 36,000 cards In its first two years, the UK's dedicated card fraud unit, has recovered 36,000 stolen cards and 171 arrests - and estimates it saved 65m.\n",
            "\n",
            "\n"
          ]
        },
        {
          "output_type": "stream",
          "name": "stderr",
          "text": [
            "[Succeeded / Failed / Skipped / Total] 10 / 0 / 1 / 11:  11%|█         | 11/100 [00:08<01:07,  1.32it/s]"
          ]
        },
        {
          "output_type": "stream",
          "name": "stdout",
          "text": [
            "--------------------------------------------- Result 11 ---------------------------------------------\n",
            "[[Sci/tech (100%)]] --> [[World (25%)]]\n",
            "\n",
            "[[Group]] to Propose New High-Speed Wireless Format  LOS ANGELES (Reuters) - A group of technology companies  including Texas Instruments Inc. &lt;TXN.N&gt;, STMicroelectronics  &lt;STM.PA&gt; and Broadcom Corp. &lt;BRCM.O&gt;, on Thursday said they  will propose a new wireless networking standard up to 10 times  the speed of the current generation.\n",
            "\n",
            "[[aggroup]] to Propose New High-Speed Wireless Format  LOS ANGELES (Reuters) - A group of technology companies  including Texas Instruments Inc. &lt;TXN.N&gt;, STMicroelectronics  &lt;STM.PA&gt; and Broadcom Corp. &lt;BRCM.O&gt;, on Thursday said they  will propose a new wireless networking standard up to 10 times  the speed of the current generation.\n",
            "\n",
            "\n"
          ]
        },
        {
          "output_type": "stream",
          "name": "stderr",
          "text": [
            "\r[Succeeded / Failed / Skipped / Total] 11 / 0 / 1 / 12:  12%|█▏        | 12/100 [00:08<01:03,  1.38it/s]"
          ]
        },
        {
          "output_type": "stream",
          "name": "stdout",
          "text": [
            "--------------------------------------------- Result 12 ---------------------------------------------\n",
            "[[Sci/tech (100%)]] --> [[World (25%)]]\n",
            "\n",
            "Apple Launches Graphics Software, Video Bundle  LOS ANGELES (Reuters) - Apple Computer Inc.&lt;AAPL.O&gt; on  Tuesday began shipping a new [[program]] designed to let users  create real-time motion graphics and unveiled a discount  video-editing software bundle featuring its flagship Final Cut  Pro software.\n",
            "\n",
            "Apple Launches Graphics Software, Video Bundle  LOS ANGELES (Reuters) - Apple Computer Inc.&lt;AAPL.O&gt; on  Tuesday began shipping a new [[broadcast]] designed to let users  create real-time motion graphics and unveiled a discount  video-editing software bundle featuring its flagship Final Cut  Pro software.\n",
            "\n",
            "\n"
          ]
        },
        {
          "output_type": "stream",
          "name": "stderr",
          "text": [
            "[Succeeded / Failed / Skipped / Total] 14 / 0 / 1 / 15:  15%|█▌        | 15/100 [00:09<00:52,  1.63it/s]"
          ]
        },
        {
          "output_type": "stream",
          "name": "stdout",
          "text": [
            "--------------------------------------------- Result 13 ---------------------------------------------\n",
            "[[Sci/tech (100%)]] --> [[World (25%)]]\n",
            "\n",
            "Dutch Retailer Beats Apple to Local Download Market  AMSTERDAM (Reuters) - Free Record Shop, a Dutch music  retail chain, beat Apple [[Computer]] Inc. to market on Tuesday  with the launch of a new download service in Europe's latest  battleground for digital song services.\n",
            "\n",
            "Dutch Retailer Beats Apple to Local Download Market  AMSTERDAM (Reuters) - Free Record Shop, a Dutch music  retail chain, beat Apple [[calculator]] Inc. to market on Tuesday  with the launch of a new download service in Europe's latest  battleground for digital song services.\n",
            "\n",
            "\n",
            "--------------------------------------------- Result 14 ---------------------------------------------\n",
            "[[Sci/tech (100%)]] --> [[World (25%)]]\n",
            "\n",
            "[[Super]] ant colony hits Australia A giant 100km colony of ants  which has been discovered in Melbourne, Australia, could threaten local insect species.\n",
            "\n",
            "[[A-one]] ant colony hits Australia A giant 100km colony of ants  which has been discovered in Melbourne, Australia, could threaten local insect species.\n",
            "\n",
            "\n",
            "--------------------------------------------- Result 15 ---------------------------------------------\n",
            "[[Sci/tech (100%)]] --> [[World (25%)]]\n",
            "\n",
            "Socialites unite dolphin groups Dolphin groups, or \"pods\", [[rely]] on socialites to keep them from collapsing, scientists claim.\n",
            "\n",
            "Socialites unite dolphin groups Dolphin groups, or \"pods\", [[bank]] on socialites to keep them from collapsing, scientists claim.\n",
            "\n",
            "\n"
          ]
        },
        {
          "output_type": "stream",
          "name": "stderr",
          "text": [
            "\r[Succeeded / Failed / Skipped / Total] 14 / 0 / 2 / 16:  16%|█▌        | 16/100 [00:09<00:48,  1.73it/s]"
          ]
        },
        {
          "output_type": "stream",
          "name": "stdout",
          "text": [
            "--------------------------------------------- Result 16 ---------------------------------------------\n",
            "[[Business (100%)]] --> [[[SKIPPED]]]\n",
            "\n",
            "Teenage T. rex's monster growth Tyrannosaurus rex achieved its massive size due to an enormous growth spurt during its adolescent years.\n",
            "\n",
            "\n"
          ]
        },
        {
          "output_type": "stream",
          "name": "stderr",
          "text": [
            "[Succeeded / Failed / Skipped / Total] 15 / 0 / 2 / 17:  17%|█▋        | 17/100 [00:09<00:46,  1.77it/s]"
          ]
        },
        {
          "output_type": "stream",
          "name": "stdout",
          "text": [
            "--------------------------------------------- Result 17 ---------------------------------------------\n",
            "[[Sci/tech (100%)]] --> [[World (25%)]]\n",
            "\n",
            "Scientists Discover Ganymede has a Lumpy Interior Jet Propulsion Lab -- Scientists have [[discovered]] irregular lumps beneath the icy surface of Jupiter's largest moon, Ganymede. These irregular masses may be rock formations, supported by Ganymede's icy shell for billions of years...\n",
            "\n",
            "Scientists Discover Ganymede has a Lumpy Interior Jet Propulsion Lab -- Scientists have [[ascertained]] irregular lumps beneath the icy surface of Jupiter's largest moon, Ganymede. These irregular masses may be rock formations, supported by Ganymede's icy shell for billions of years...\n",
            "\n",
            "\n"
          ]
        },
        {
          "output_type": "stream",
          "name": "stderr",
          "text": [
            "\r[Succeeded / Failed / Skipped / Total] 16 / 0 / 2 / 18:  18%|█▊        | 18/100 [00:10<00:46,  1.77it/s]"
          ]
        },
        {
          "output_type": "stream",
          "name": "stdout",
          "text": [
            "--------------------------------------------- Result 18 ---------------------------------------------\n",
            "[[Sci/tech (100%)]] --> [[World (25%)]]\n",
            "\n",
            "[[Mars]] Rovers Relay Images Through Mars Express European Space Agency -- ESAs Mars Express has relayed pictures from one of NASA's Mars rovers for the first time, as part of a set of interplanetary networking demonstrations.     The demonstrations pave the way for future Mars missions to draw on joint interplanetary networking capabilities...\n",
            "\n",
            "[[Mar]] Rovers Relay Images Through Mars Express European Space Agency -- ESAs Mars Express has relayed pictures from one of NASA's Mars rovers for the first time, as part of a set of interplanetary networking demonstrations.     The demonstrations pave the way for future Mars missions to draw on joint interplanetary networking capabilities...\n",
            "\n",
            "\n"
          ]
        },
        {
          "output_type": "stream",
          "name": "stderr",
          "text": [
            "[Succeeded / Failed / Skipped / Total] 18 / 0 / 4 / 22:  22%|██▏       | 22/100 [00:10<00:37,  2.07it/s]"
          ]
        },
        {
          "output_type": "stream",
          "name": "stdout",
          "text": [
            "--------------------------------------------- Result 19 ---------------------------------------------\n",
            "[[Sci/tech (100%)]] --> [[World (25%)]]\n",
            "\n",
            "[[Rocking]] the Cradle of Life When did life begin? One evidential clue stems from the fossil records in Western Australia, although whether these layered sediments are biological or chemical has spawned a spirited debate. Oxford researcher, Nicola McLoughlin, describes some of the issues in contention.\n",
            "\n",
            "[[rock]] the Cradle of Life When did life begin? One evidential clue stems from the fossil records in Western Australia, although whether these layered sediments are biological or chemical has spawned a spirited debate. Oxford researcher, Nicola McLoughlin, describes some of the issues in contention.\n",
            "\n",
            "\n",
            "--------------------------------------------- Result 20 ---------------------------------------------\n",
            "[[Business (71%)]] --> [[[SKIPPED]]]\n",
            "\n",
            "Storage, servers bruise HP earnings update Earnings per share rise compared with a year ago, but company misses analysts' expectations by a long shot.\n",
            "\n",
            "\n",
            "--------------------------------------------- Result 21 ---------------------------------------------\n",
            "[[Business (99%)]] --> [[[SKIPPED]]]\n",
            "\n",
            "IBM to hire even more new workers By the end of the year, the computing giant plans to have its biggest headcount since 1991.\n",
            "\n",
            "\n",
            "--------------------------------------------- Result 22 ---------------------------------------------\n",
            "[[Sci/tech (100%)]] --> [[World (25%)]]\n",
            "\n",
            "Sun's Looking Glass Provides 3D View Developers get [[early]] code for new operating system 'skin' still being crafted.\n",
            "\n",
            "Sun's Looking Glass Provides 3D View Developers get [[betimes]] code for new operating system 'skin' still being crafted.\n",
            "\n",
            "\n"
          ]
        },
        {
          "output_type": "stream",
          "name": "stderr",
          "text": [
            "[Succeeded / Failed / Skipped / Total] 20 / 0 / 6 / 26:  26%|██▌       | 26/100 [00:10<00:30,  2.39it/s]"
          ]
        },
        {
          "output_type": "stream",
          "name": "stdout",
          "text": [
            "--------------------------------------------- Result 23 ---------------------------------------------\n",
            "[[Sci/tech (100%)]] --> [[World (25%)]]\n",
            "\n",
            "IBM Chips May Someday Heal Themselves New technology [[applies]] electrical fuses to help identify and repair faults.\n",
            "\n",
            "IBM Chips May Someday Heal Themselves New technology [[apply]] electrical fuses to help identify and repair faults.\n",
            "\n",
            "\n",
            "--------------------------------------------- Result 24 ---------------------------------------------\n",
            "[[Business (97%)]] --> [[[SKIPPED]]]\n",
            "\n",
            "Some People Not Eligible to Get in on Google IPO Google has billed its IPO as a way for everyday people to get in on the process, denying Wall Street the usual stranglehold it's had on IPOs. Public bidding, a minimum of just five shares, an open process with 28 underwriters - all this pointed to a new level of public participation. But this isn't the case.\n",
            "\n",
            "\n",
            "--------------------------------------------- Result 25 ---------------------------------------------\n",
            "[[Business (100%)]] --> [[[SKIPPED]]]\n",
            "\n",
            "Rivals Try to Turn Tables on Charles Schwab By MICHAEL LIEDTKE     SAN FRANCISCO (AP) -- With its low prices and iconoclastic attitude, discount stock broker Charles Schwab Corp. (SCH) represented an annoying stone in Wall Street's wing-tipped shoes for decades...\n",
            "\n",
            "\n",
            "--------------------------------------------- Result 26 ---------------------------------------------\n",
            "[[Sci/tech (100%)]] --> [[World (25%)]]\n",
            "\n",
            "[[News]]: Sluggish movement on power grid cyber security Industry cyber security standards fail to reach some of the most vulnerable components of the power grid.\\\n",
            "\n",
            "[[intelligence]]: Sluggish movement on power grid cyber security Industry cyber security standards fail to reach some of the most vulnerable components of the power grid.\\\n",
            "\n",
            "\n"
          ]
        },
        {
          "output_type": "stream",
          "name": "stderr",
          "text": [
            "\r[Succeeded / Failed / Skipped / Total] 21 / 0 / 6 / 27:  27%|██▋       | 27/100 [00:11<00:30,  2.43it/s]"
          ]
        },
        {
          "output_type": "stream",
          "name": "stdout",
          "text": [
            "--------------------------------------------- Result 27 ---------------------------------------------\n",
            "[[Sports (100%)]] --> [[World (25%)]]\n",
            "\n",
            "[[Giddy]] Phelps Touches Gold for First Time Michael Phelps won the gold medal in the 400 individual medley and set a world record in a time of 4 minutes 8.26 seconds.\n",
            "\n",
            "[[airheaded]] Phelps Touches Gold for First Time Michael Phelps won the gold medal in the 400 individual medley and set a world record in a time of 4 minutes 8.26 seconds.\n",
            "\n",
            "\n"
          ]
        },
        {
          "output_type": "stream",
          "name": "stderr",
          "text": [
            "\r[Succeeded / Failed / Skipped / Total] 22 / 0 / 6 / 28:  28%|██▊       | 28/100 [00:11<00:30,  2.37it/s]"
          ]
        },
        {
          "output_type": "stream",
          "name": "stdout",
          "text": [
            "--------------------------------------------- Result 28 ---------------------------------------------\n",
            "[[Sports (100%)]] --> [[World (25%)]]\n",
            "\n",
            "[[Tougher]] rules won't soften Law's game FOXBOROUGH -- Looking at his ridiculously developed upper body, with huge biceps and hardly an ounce of fat, it's easy to see why Ty Law, arguably the best cornerback in football, chooses physical play over finesse. That's not to imply that he's lacking a finesse component, because he can shut down his side of the field much as Deion Sanders ...\n",
            "\n",
            "[[bad]] rules won't soften Law's game FOXBOROUGH -- Looking at his ridiculously developed upper body, with huge biceps and hardly an ounce of fat, it's easy to see why Ty Law, arguably the best cornerback in football, chooses physical play over finesse. That's not to imply that he's lacking a finesse component, because he can shut down his side of the field much as Deion Sanders ...\n",
            "\n",
            "\n"
          ]
        },
        {
          "output_type": "stream",
          "name": "stderr",
          "text": [
            "[Succeeded / Failed / Skipped / Total] 23 / 0 / 6 / 29:  29%|██▉       | 29/100 [00:12<00:30,  2.33it/s]"
          ]
        },
        {
          "output_type": "stream",
          "name": "stdout",
          "text": [
            "--------------------------------------------- Result 29 ---------------------------------------------\n",
            "[[Sports (100%)]] --> [[World (25%)]]\n",
            "\n",
            "Shoppach doesn't appear ready to hit the next level With the weeks dwindling until Jason Varitek enters free agency, the Red Sox continue to carefully monitor Kelly Shoppach , their catcher of the future, in his climb toward the majors. The Sox like most of what they have seen at Triple A Pawtucket from Shoppach, though it [[remains]] highly uncertain whether he can make the adjustments at the plate ...\n",
            "\n",
            "Shoppach doesn't appear ready to hit the next level With the weeks dwindling until Jason Varitek enters free agency, the Red Sox continue to carefully monitor Kelly Shoppach , their catcher of the future, in his climb toward the majors. The Sox like most of what they have seen at Triple A Pawtucket from Shoppach, though it [[cadaver]] highly uncertain whether he can make the adjustments at the plate ...\n",
            "\n",
            "\n"
          ]
        },
        {
          "output_type": "stream",
          "name": "stderr",
          "text": [
            "\r[Succeeded / Failed / Skipped / Total] 24 / 0 / 6 / 30:  30%|███       | 30/100 [00:13<00:30,  2.28it/s]"
          ]
        },
        {
          "output_type": "stream",
          "name": "stdout",
          "text": [
            "--------------------------------------------- Result 30 ---------------------------------------------\n",
            "[[Sports (100%)]] --> [[World (25%)]]\n",
            "\n",
            "[[Mighty]] Ortiz makes sure Sox can rest easy Just imagine what David Ortiz could do on a good night's rest. Ortiz spent the night before last with his baby boy, D'Angelo, who is barely 1 month old. He had planned on attending the Red Sox' Family Day at Fenway Park yesterday morning, but he had to sleep in. After all, Ortiz had a son at home, and he ...\n",
            "\n",
            "[[mightily]] Ortiz makes sure Sox can rest easy Just imagine what David Ortiz could do on a good night's rest. Ortiz spent the night before last with his baby boy, D'Angelo, who is barely 1 month old. He had planned on attending the Red Sox' Family Day at Fenway Park yesterday morning, but he had to sleep in. After all, Ortiz had a son at home, and he ...\n",
            "\n",
            "\n"
          ]
        },
        {
          "output_type": "stream",
          "name": "stderr",
          "text": [
            "\r[Succeeded / Failed / Skipped / Total] 25 / 0 / 6 / 31:  31%|███       | 31/100 [00:13<00:29,  2.32it/s]"
          ]
        },
        {
          "output_type": "stream",
          "name": "stdout",
          "text": [
            "--------------------------------------------- Result 31 ---------------------------------------------\n",
            "[[Sports (100%)]] --> [[World (25%)]]\n",
            "\n",
            "They've caught his eye In  quot;helping themselves, quot; Ricky Bryant, Chas Gessner, Michael Jennings, and David [[Patten]] did nothing Friday night to make Bill Belichick's decision on what to do with his receivers any easier.\n",
            "\n",
            "They've caught his eye In  quot;helping themselves, quot; Ricky Bryant, Chas Gessner, Michael Jennings, and David [[clog]] did nothing Friday night to make Bill Belichick's decision on what to do with his receivers any easier.\n",
            "\n",
            "\n"
          ]
        },
        {
          "output_type": "stream",
          "name": "stderr",
          "text": [
            "[Succeeded / Failed / Skipped / Total] 26 / 0 / 6 / 32:  32%|███▏      | 32/100 [00:13<00:28,  2.35it/s]"
          ]
        },
        {
          "output_type": "stream",
          "name": "stdout",
          "text": [
            "--------------------------------------------- Result 32 ---------------------------------------------\n",
            "[[Sports (100%)]] --> [[World (25%)]]\n",
            "\n",
            "[[Indians]] Mount Charge The Cleveland Indians pulled within one game of the AL Central lead by beating the Minnesota Twins, 7-1, Saturday night with home runs by Travis Hafner and Victor Martinez.\n",
            "\n",
            "[[Amerind]] Mount Charge The Cleveland Indians pulled within one game of the AL Central lead by beating the Minnesota Twins, 7-1, Saturday night with home runs by Travis Hafner and Victor Martinez.\n",
            "\n",
            "\n"
          ]
        },
        {
          "output_type": "stream",
          "name": "stderr",
          "text": [
            "\r[Succeeded / Failed / Skipped / Total] 27 / 0 / 6 / 33:  33%|███▎      | 33/100 [00:13<00:28,  2.37it/s]"
          ]
        },
        {
          "output_type": "stream",
          "name": "stdout",
          "text": [
            "--------------------------------------------- Result 33 ---------------------------------------------\n",
            "[[World (100%)]] --> [[Sports (47%)]]\n",
            "\n",
            "Sister of man who died in Vancouver police custody slams chief (Canadian Press) Canadian Press - VANCOUVER (CP) - The sister of a man who died after a [[violent]] confrontation with police has demanded the city's chief constable resign for defending the officer involved.\n",
            "\n",
            "Sister of man who died in Vancouver police custody slams chief (Canadian Press) Canadian Press - VANCOUVER (CP) - The sister of a man who died after a [[wild]] confrontation with police has demanded the city's chief constable resign for defending the officer involved.\n",
            "\n",
            "\n"
          ]
        },
        {
          "output_type": "stream",
          "name": "stderr",
          "text": [
            "\r[Succeeded / Failed / Skipped / Total] 27 / 1 / 6 / 34:  34%|███▍      | 34/100 [00:14<00:28,  2.32it/s]"
          ]
        },
        {
          "output_type": "stream",
          "name": "stdout",
          "text": [
            "--------------------------------------------- Result 34 ---------------------------------------------\n",
            "[[World (100%)]] --> [[[FAILED]]]\n",
            "\n",
            "Man Sought  #36;50M From McGreevey, Aides Say (AP) AP - The man who claims Gov. James E. McGreevey sexually harassed him was pushing for a cash settlement of up to  #36;50 million before the governor decided to announce that he was gay and had an extramarital affair, sources told The Associated Press.\n",
            "\n",
            "\n"
          ]
        },
        {
          "output_type": "stream",
          "name": "stderr",
          "text": [
            "[Succeeded / Failed / Skipped / Total] 27 / 2 / 6 / 35:  35%|███▌      | 35/100 [00:15<00:28,  2.28it/s]"
          ]
        },
        {
          "output_type": "stream",
          "name": "stdout",
          "text": [
            "--------------------------------------------- Result 35 ---------------------------------------------\n",
            "[[World (100%)]] --> [[[FAILED]]]\n",
            "\n",
            "Explosions Echo Throughout Najaf NAJAF, Iraq - Explosions and gunfire rattled through the city of Najaf as U.S. troops in armored vehicles and tanks rolled back into the streets here Sunday, a day after the collapse of talks - and with them a temporary cease-fire - intended to end the fighting in this holy city...\n",
            "\n",
            "\n"
          ]
        },
        {
          "output_type": "stream",
          "name": "stderr",
          "text": [
            "[Succeeded / Failed / Skipped / Total] 28 / 2 / 8 / 38:  38%|███▊      | 38/100 [00:16<00:26,  2.37it/s]"
          ]
        },
        {
          "output_type": "stream",
          "name": "stdout",
          "text": [
            "--------------------------------------------- Result 36 ---------------------------------------------\n",
            "[[World (98%)]] --> [[Sci/tech (40%)]]\n",
            "\n",
            "Frail Pope Celebrates Mass at Lourdes LOURDES, France - A frail Pope John Paul II, breathing heavily and gasping at times, celebrated an open-air Mass on [[Sunday]] for several hundred thousand pilgrims, many in wheelchairs, at a shrine to the Virgin Mary that is associated with miraculous cures.    At one point he said \"help me\" in Polish while struggling through his homily in French...\n",
            "\n",
            "Frail Pope Celebrates Mass at Lourdes LOURDES, France - A frail Pope John Paul II, breathing heavily and gasping at times, celebrated an open-air Mass on [[Sun]] for several hundred thousand pilgrims, many in wheelchairs, at a shrine to the Virgin Mary that is associated with miraculous cures.    At one point he said \"help me\" in Polish while struggling through his homily in French...\n",
            "\n",
            "\n",
            "--------------------------------------------- Result 37 ---------------------------------------------\n",
            "[[Business (89%)]] --> [[[SKIPPED]]]\n",
            "\n",
            "Venezuela Prepares for Chavez Recall Vote Supporters and rivals warn of possible fraud; government says Chavez's defeat could produce turmoil in world oil market.\n",
            "\n",
            "\n",
            "--------------------------------------------- Result 38 ---------------------------------------------\n",
            "[[Sci/tech (100%)]] --> [[[SKIPPED]]]\n",
            "\n",
            "1994 Law Designed to Preserve Guard Jobs (AP) AP - A 1994 law strengthened job protections for National Guard and Reserve troops called to active duty. Here are major provisions of the Uniformed Services Employment and Reemployment Rights Act (USERRA).\n",
            "\n",
            "\n"
          ]
        },
        {
          "output_type": "stream",
          "name": "stderr",
          "text": [
            "\r[Succeeded / Failed / Skipped / Total] 28 / 3 / 8 / 39:  39%|███▉      | 39/100 [00:16<00:26,  2.34it/s]"
          ]
        },
        {
          "output_type": "stream",
          "name": "stdout",
          "text": [
            "--------------------------------------------- Result 39 ---------------------------------------------\n",
            "[[World (100%)]] --> [[[FAILED]]]\n",
            "\n",
            "Iran Warns Its Missiles Can Hit Anywhere in Israel  TEHRAN (Reuters) - A senior Iranian military official said  Sunday Israel and the United States would not dare attack Iran  since it could strike back anywhere in Israel with its latest  missiles, news agencies reported.\n",
            "\n",
            "\n"
          ]
        },
        {
          "output_type": "stream",
          "name": "stderr",
          "text": [
            "\r[Succeeded / Failed / Skipped / Total] 28 / 4 / 8 / 40:  40%|████      | 40/100 [00:17<00:26,  2.30it/s]"
          ]
        },
        {
          "output_type": "stream",
          "name": "stdout",
          "text": [
            "--------------------------------------------- Result 40 ---------------------------------------------\n",
            "[[World (100%)]] --> [[[FAILED]]]\n",
            "\n",
            "Afghan Army Dispatched to Calm Violence KABUL, Afghanistan - Government troops intervened in Afghanistan's latest outbreak of deadly fighting between warlords, flying from the capital to the far west on U.S. and NATO airplanes to retake an air base contested in the violence, officials said Sunday...\n",
            "\n",
            "\n"
          ]
        },
        {
          "output_type": "stream",
          "name": "stderr",
          "text": [
            "[Succeeded / Failed / Skipped / Total] 29 / 4 / 8 / 41:  41%|████      | 41/100 [00:17<00:25,  2.32it/s]"
          ]
        },
        {
          "output_type": "stream",
          "name": "stdout",
          "text": [
            "--------------------------------------------- Result 41 ---------------------------------------------\n",
            "[[Sports (100%)]] --> [[World (25%)]]\n",
            "\n",
            "Johnson Helps D-Backs End Nine-Game Slide (AP) AP - Randy Johnson took a four-hitter into the ninth inning to [[help]] the Arizona Diamondbacks end a nine-game losing streak Sunday, beating Steve Trachsel and the New York Mets 2-0.\n",
            "\n",
            "Johnson Helps D-Backs End Nine-Game Slide (AP) AP - Randy Johnson took a four-hitter into the ninth inning to [[aid]] the Arizona Diamondbacks end a nine-game losing streak Sunday, beating Steve Trachsel and the New York Mets 2-0.\n",
            "\n",
            "\n"
          ]
        },
        {
          "output_type": "stream",
          "name": "stderr",
          "text": [
            "\r[Succeeded / Failed / Skipped / Total] 30 / 4 / 8 / 42:  42%|████▏     | 42/100 [00:18<00:24,  2.33it/s]"
          ]
        },
        {
          "output_type": "stream",
          "name": "stdout",
          "text": [
            "--------------------------------------------- Result 42 ---------------------------------------------\n",
            "[[Business (100%)]] --> [[World (25%)]]\n",
            "\n",
            "Retailers Vie for Back-To-School Buyers (Reuters) Reuters - Apparel retailers are hoping their\\back-to-school fashions will make the grade among\\style-conscious teens and young adults this fall, but it could\\be a tough [[sell]], with students and parents keeping a tighter\\hold on their wallets.\n",
            "\n",
            "Retailers Vie for Back-To-School Buyers (Reuters) Reuters - Apparel retailers are hoping their\\back-to-school fashions will make the grade among\\style-conscious teens and young adults this fall, but it could\\be a tough [[betray]], with students and parents keeping a tighter\\hold on their wallets.\n",
            "\n",
            "\n"
          ]
        },
        {
          "output_type": "stream",
          "name": "stderr",
          "text": [
            "\r[Succeeded / Failed / Skipped / Total] 31 / 4 / 8 / 43:  43%|████▎     | 43/100 [00:18<00:24,  2.33it/s]"
          ]
        },
        {
          "output_type": "stream",
          "name": "stdout",
          "text": [
            "--------------------------------------------- Result 43 ---------------------------------------------\n",
            "[[World (100%)]] --> [[Sci/tech (47%)]]\n",
            "\n",
            "Politics an Afterthought Amid Hurricane (AP) AP - If Hurricane Charley had struck three years ago, President Bush's tour through the wreckage of this coastal city would have been just the sort of post-disaster visit that other presidents have made to the scenes of storms, earthquakes, [[floods]] and fires.\n",
            "\n",
            "Politics an Afterthought Amid Hurricane (AP) AP - If Hurricane Charley had struck three years ago, President Bush's tour through the wreckage of this coastal city would have been just the sort of post-disaster visit that other presidents have made to the scenes of storms, earthquakes, [[torrent]] and fires.\n",
            "\n",
            "\n"
          ]
        },
        {
          "output_type": "stream",
          "name": "stderr",
          "text": [
            "[Succeeded / Failed / Skipped / Total] 32 / 4 / 8 / 44:  44%|████▍     | 44/100 [00:18<00:23,  2.34it/s]"
          ]
        },
        {
          "output_type": "stream",
          "name": "stdout",
          "text": [
            "--------------------------------------------- Result 44 ---------------------------------------------\n",
            "[[Sci/tech (100%)]] --> [[World (25%)]]\n",
            "\n",
            "Spam suspension hits Sohu.com shares (FT.com) FT.com - Shares in Sohu.com, a leading US-listed Chinese internet portal, fell more than 10 per cent on Friday after China's biggest mobile phone network operator [[imposed]] a one-year suspension on its multimedia messaging services because of customers being sent spam.\n",
            "\n",
            "Spam suspension hits Sohu.com shares (FT.com) FT.com - Shares in Sohu.com, a leading US-listed Chinese internet portal, fell more than 10 per cent on Friday after China's biggest mobile phone network operator [[enforce]] a one-year suspension on its multimedia messaging services because of customers being sent spam.\n",
            "\n",
            "\n"
          ]
        },
        {
          "output_type": "stream",
          "name": "stderr",
          "text": [
            "\r[Succeeded / Failed / Skipped / Total] 33 / 4 / 8 / 45:  45%|████▌     | 45/100 [00:19<00:23,  2.33it/s]"
          ]
        },
        {
          "output_type": "stream",
          "name": "stdout",
          "text": [
            "--------------------------------------------- Result 45 ---------------------------------------------\n",
            "[[Sports (100%)]] --> [[World (25%)]]\n",
            "\n",
            "Erstad's Double Lifts Angels to Win (AP) AP - Darin Erstad doubled in the go-ahead run in the eighth inning, lifting the Anaheim Angels to a 3-2 victory over the Detroit Tigers on Sunday. The win pulled Anaheim within a percentage [[point]] of Boston and Texas in the AL wild-card race.\n",
            "\n",
            "Erstad's Double Lifts Angels to Win (AP) AP - Darin Erstad doubled in the go-ahead run in the eighth inning, lifting the Anaheim Angels to a 3-2 victory over the Detroit Tigers on Sunday. The win pulled Anaheim within a percentage [[aim]] of Boston and Texas in the AL wild-card race.\n",
            "\n",
            "\n"
          ]
        },
        {
          "output_type": "stream",
          "name": "stderr",
          "text": [
            "\r[Succeeded / Failed / Skipped / Total] 34 / 4 / 8 / 46:  46%|████▌     | 46/100 [00:19<00:22,  2.36it/s]"
          ]
        },
        {
          "output_type": "stream",
          "name": "stdout",
          "text": [
            "--------------------------------------------- Result 46 ---------------------------------------------\n",
            "[[Sports (100%)]] --> [[World (25%)]]\n",
            "\n",
            "[[Drew]] Out of Braves' Lineup After Injury (AP) AP - Outfielder J.D. Drew missed the Atlanta Braves' game against the St. Louis Cardinals on Sunday night with a sore right quadriceps.\n",
            "\n",
            "[[absorb]] Out of Braves' Lineup After Injury (AP) AP - Outfielder J.D. Drew missed the Atlanta Braves' game against the St. Louis Cardinals on Sunday night with a sore right quadriceps.\n",
            "\n",
            "\n"
          ]
        },
        {
          "output_type": "stream",
          "name": "stderr",
          "text": [
            "[Succeeded / Failed / Skipped / Total] 34 / 5 / 9 / 48:  48%|████▊     | 48/100 [00:19<00:21,  2.41it/s]"
          ]
        },
        {
          "output_type": "stream",
          "name": "stdout",
          "text": [
            "--------------------------------------------- Result 47 ---------------------------------------------\n",
            "[[World (100%)]] --> [[[FAILED]]]\n",
            "\n",
            "Venezuelans Flood Polls, Voting Extended  CARACAS, Venezuela (Reuters) - Venezuelans voted in huge  numbers on Sunday in a historic referendum on whether to recall  left-wing President Hugo Chavez and electoral authorities  prolonged voting well into the night.\n",
            "\n",
            "\n",
            "--------------------------------------------- Result 48 ---------------------------------------------\n",
            "[[Business (100%)]] --> [[[SKIPPED]]]\n",
            "\n",
            "Dell Exits Low-End China Consumer PC Market  HONG KONG (Reuters) - Dell Inc. &lt;DELL.O&gt;, the world's  largest PC maker, said on Monday it has left the low-end  consumer PC market in China and cut its overall growth target  for the country this year due to stiff competition in the  segment.\n",
            "\n",
            "\n"
          ]
        },
        {
          "output_type": "stream",
          "name": "stderr",
          "text": [
            "\r[Succeeded / Failed / Skipped / Total] 35 / 5 / 9 / 49:  49%|████▉     | 49/100 [00:20<00:21,  2.43it/s]"
          ]
        },
        {
          "output_type": "stream",
          "name": "stdout",
          "text": [
            "--------------------------------------------- Result 49 ---------------------------------------------\n",
            "[[World (100%)]] --> [[Sci/tech (48%)]]\n",
            "\n",
            "China Says Taiwan Spy Also Operated in U.S. - Media  BEIJING (Reuters) - Beijing on Monday accused a  Chinese-American arrested for spying for Taiwan of building an  espionage [[network]] in the United States, and said he could go on  trial very soon.\n",
            "\n",
            "China Says Taiwan Spy Also Operated in U.S. - Media  BEIJING (Reuters) - Beijing on Monday accused a  Chinese-American arrested for spying for Taiwan of building an  espionage [[web]] in the United States, and said he could go on  trial very soon.\n",
            "\n",
            "\n"
          ]
        },
        {
          "output_type": "stream",
          "name": "stderr",
          "text": [
            "[Succeeded / Failed / Skipped / Total] 36 / 5 / 9 / 50:  50%|█████     | 50/100 [00:20<00:20,  2.45it/s]"
          ]
        },
        {
          "output_type": "stream",
          "name": "stdout",
          "text": [
            "--------------------------------------------- Result 50 ---------------------------------------------\n",
            "[[Sports (100%)]] --> [[World (25%)]]\n",
            "\n",
            "Another Major Non-Factor Another major, another disappointment for Tiger Woods, the No. 1 ranked player in the world who has not won a major championship since his [[triumph]] at the 2002 U.S. Open.\n",
            "\n",
            "Another Major Non-Factor Another major, another disappointment for Tiger Woods, the No. 1 ranked player in the world who has not won a major championship since his [[crow]] at the 2002 U.S. Open.\n",
            "\n",
            "\n"
          ]
        },
        {
          "output_type": "stream",
          "name": "stderr",
          "text": [
            "\r[Succeeded / Failed / Skipped / Total] 36 / 6 / 9 / 51:  51%|█████     | 51/100 [00:20<00:20,  2.44it/s]"
          ]
        },
        {
          "output_type": "stream",
          "name": "stdout",
          "text": [
            "--------------------------------------------- Result 51 ---------------------------------------------\n",
            "[[World (100%)]] --> [[[FAILED]]]\n",
            "\n",
            "US fighter squadron to be deployed in South Korea next month (AFP) AFP - A squadron of US Air Force F-15E fighters based in Alaska will fly to South Korea next month for temporary deployment aimed at enhancing US firepower on the Korean peninsula, US authorities said.\n",
            "\n",
            "\n"
          ]
        },
        {
          "output_type": "stream",
          "name": "stderr",
          "text": [
            "\r[Succeeded / Failed / Skipped / Total] 37 / 6 / 9 / 52:  52%|█████▏    | 52/100 [00:21<00:19,  2.44it/s]"
          ]
        },
        {
          "output_type": "stream",
          "name": "stdout",
          "text": [
            "--------------------------------------------- Result 52 ---------------------------------------------\n",
            "[[Sports (100%)]] --> [[World (25%)]]\n",
            "\n",
            "Johnson Back to His Best as D-Backs End Streak  NEW YORK (Reuters) - Randy Johnson struck out 14 batters in  8 1/3 [[innings]] to help the Arizona Diamondbacks end a nine-game  losing streak with a 2-0 win over the host New York Mets in the  National League Sunday.\n",
            "\n",
            "Johnson Back to His Best as D-Backs End Streak  NEW YORK (Reuters) - Randy Johnson struck out 14 batters in  8 1/3 [[frame]] to help the Arizona Diamondbacks end a nine-game  losing streak with a 2-0 win over the host New York Mets in the  National League Sunday.\n",
            "\n",
            "\n"
          ]
        },
        {
          "output_type": "stream",
          "name": "stderr",
          "text": [
            "[Succeeded / Failed / Skipped / Total] 38 / 7 / 9 / 54:  54%|█████▍    | 54/100 [00:21<00:18,  2.47it/s]"
          ]
        },
        {
          "output_type": "stream",
          "name": "stdout",
          "text": [
            "--------------------------------------------- Result 53 ---------------------------------------------\n",
            "[[World (100%)]] --> [[[FAILED]]]\n",
            "\n",
            "Restive Maldives eases curfew after rounding up dissidents (AFP) AFP - A curfew in the capital of the Maldives was eased but parliament sessions were put off indefinitely and emergency rule continued following last week's riots, officials and residents said.\n",
            "\n",
            "\n",
            "--------------------------------------------- Result 54 ---------------------------------------------\n",
            "[[Sci/tech (100%)]] --> [[World (25%)]]\n",
            "\n",
            "Vodafone hires Citi for Cesky bid (TheDeal.com) TheDeal.com - The U.K. [[mobile]] giant wants to find a way to disentagle the Czech wireless and fixed-line businesses.\n",
            "\n",
            "Vodafone hires Citi for Cesky bid (TheDeal.com) TheDeal.com - The U.K. [[Mobile]] giant wants to find a way to disentagle the Czech wireless and fixed-line businesses.\n",
            "\n",
            "\n"
          ]
        },
        {
          "output_type": "stream",
          "name": "stderr",
          "text": [
            "[Succeeded / Failed / Skipped / Total] 39 / 7 / 11 / 57:  57%|█████▋    | 57/100 [00:22<00:16,  2.55it/s]"
          ]
        },
        {
          "output_type": "stream",
          "name": "stdout",
          "text": [
            "--------------------------------------------- Result 55 ---------------------------------------------\n",
            "[[Business (100%)]] --> [[World (25%)]]\n",
            "\n",
            "[[Dollar]] Briefly Hits 4-Wk Low Vs Euro  LONDON (Reuters) - The dollar dipped to a four-week low  against the euro on Monday before rising slightly on  profit-taking, but steep oil prices and weak U.S. data  continued to fan worries about the health of the world's  largest economy.\n",
            "\n",
            "[[buck]] Briefly Hits 4-Wk Low Vs Euro  LONDON (Reuters) - The dollar dipped to a four-week low  against the euro on Monday before rising slightly on  profit-taking, but steep oil prices and weak U.S. data  continued to fan worries about the health of the world's  largest economy.\n",
            "\n",
            "\n",
            "--------------------------------------------- Result 56 ---------------------------------------------\n",
            "[[World (68%)]] --> [[[SKIPPED]]]\n",
            "\n",
            "Promoting a Shared Vision As Michael Kaleko kept running into people who were getting older and having more vision problems, he realized he could do something about it.\n",
            "\n",
            "\n",
            "--------------------------------------------- Result 57 ---------------------------------------------\n",
            "[[Business (100%)]] --> [[[SKIPPED]]]\n",
            "\n",
            "India's Tata expands regional footprint via NatSteel buyout (AFP) AFP - India's Tata Iron and Steel Company Ltd. took a strategic step to expand its Asian footprint with the announcement it will buy the Asia-Pacific steel operations of Singapore's NatSteel Ltd.\n",
            "\n",
            "\n"
          ]
        },
        {
          "output_type": "stream",
          "name": "stderr",
          "text": [
            "\r[Succeeded / Failed / Skipped / Total] 39 / 8 / 11 / 58:  58%|█████▊    | 58/100 [00:22<00:16,  2.54it/s]"
          ]
        },
        {
          "output_type": "stream",
          "name": "stdout",
          "text": [
            "--------------------------------------------- Result 58 ---------------------------------------------\n",
            "[[World (100%)]] --> [[[FAILED]]]\n",
            "\n",
            "Delegates Urge Cleric to Pull Out of Najaf BAGHDAD, Iraq - Delegates at Iraq's National Conference called on radical Shiite cleric Muqtada al-Sadr to abandon his uprising against U.S. and Iraqi troops and pull his fighters out of a holy shrine in Najaf...\n",
            "\n",
            "\n"
          ]
        },
        {
          "output_type": "stream",
          "name": "stderr",
          "text": [
            "[Succeeded / Failed / Skipped / Total] 40 / 8 / 11 / 59:  59%|█████▉    | 59/100 [00:23<00:16,  2.56it/s]"
          ]
        },
        {
          "output_type": "stream",
          "name": "stdout",
          "text": [
            "--------------------------------------------- Result 59 ---------------------------------------------\n",
            "[[Business (100%)]] --> [[World (25%)]]\n",
            "\n",
            "[[Treasuries]] Slip as Stocks Rally  NEW YORK (Reuters) - U.S. Treasury debt prices slipped on  Monday, though traders characterized the move as profit-taking  rather than any fundamental change in sentiment.\n",
            "\n",
            "[[Treasury]] Slip as Stocks Rally  NEW YORK (Reuters) - U.S. Treasury debt prices slipped on  Monday, though traders characterized the move as profit-taking  rather than any fundamental change in sentiment.\n",
            "\n",
            "\n"
          ]
        },
        {
          "output_type": "stream",
          "name": "stderr",
          "text": [
            "[Succeeded / Failed / Skipped / Total] 42 / 8 / 11 / 61:  61%|██████    | 61/100 [00:23<00:15,  2.58it/s]"
          ]
        },
        {
          "output_type": "stream",
          "name": "stdout",
          "text": [
            "--------------------------------------------- Result 60 ---------------------------------------------\n",
            "[[Business (100%)]] --> [[World (25%)]]\n",
            "\n",
            "[[Dollar]] Rises Vs Euro on Asset Flows Data  NEW YORK (Reuters) - The dollar extended gains against the  euro on Monday after a report on flows into U.S. assets showed  enough of a rise in foreign investments to offset the current  account gap for the month.\n",
            "\n",
            "[[buck]] Rises Vs Euro on Asset Flows Data  NEW YORK (Reuters) - The dollar extended gains against the  euro on Monday after a report on flows into U.S. assets showed  enough of a rise in foreign investments to offset the current  account gap for the month.\n",
            "\n",
            "\n",
            "--------------------------------------------- Result 61 ---------------------------------------------\n",
            "[[Sports (100%)]] --> [[World (25%)]]\n",
            "\n",
            "Sutton Adds Haas, Cink to Ryder Cup Team  MILWAUKEE (Sports Network) - U.S. Ryder Cup captain Hal  Sutton [[finalized]] his team on Monday when he announced the  selections of Jay Haas and Stewart Cink as his captain's picks.\n",
            "\n",
            "Sutton Adds Haas, Cink to Ryder Cup Team  MILWAUKEE (Sports Network) - U.S. Ryder Cup captain Hal  Sutton [[finalise]] his team on Monday when he announced the  selections of Jay Haas and Stewart Cink as his captain's picks.\n",
            "\n",
            "\n"
          ]
        },
        {
          "output_type": "stream",
          "name": "stderr",
          "text": [
            "[Succeeded / Failed / Skipped / Total] 43 / 8 / 11 / 62:  62%|██████▏   | 62/100 [00:23<00:14,  2.60it/s]"
          ]
        },
        {
          "output_type": "stream",
          "name": "stdout",
          "text": [
            "--------------------------------------------- Result 62 ---------------------------------------------\n",
            "[[Sports (100%)]] --> [[World (25%)]]\n",
            "\n",
            "Haas and Cink Selected for Ryder Cup Team Jay Haas [[joined]] Stewart Cink as the two captain's picks for a U.S. team that will try to regain the cup from Europe next month.\n",
            "\n",
            "Haas and Cink Selected for Ryder Cup Team Jay Haas [[conjoin]] Stewart Cink as the two captain's picks for a U.S. team that will try to regain the cup from Europe next month.\n",
            "\n",
            "\n"
          ]
        },
        {
          "output_type": "stream",
          "name": "stderr",
          "text": [
            "[Succeeded / Failed / Skipped / Total] 45 / 8 / 11 / 64:  64%|██████▍   | 64/100 [00:24<00:13,  2.60it/s]"
          ]
        },
        {
          "output_type": "stream",
          "name": "stdout",
          "text": [
            "--------------------------------------------- Result 63 ---------------------------------------------\n",
            "[[Sports (100%)]] --> [[World (25%)]]\n",
            "\n",
            "Natalie Coughlin Wins 100M Backstroke (AP) AP - American Natalie Coughlin won Olympic gold in the 100-meter backstroke Monday night. Coughlin, the only woman ever to swim under 1 minute in the event, finished [[first]] in 1 minute, 0.37 seconds. Kirsty Coventry of Zimbabwe, who swims at Auburn University in Alabama, earned the silver in 1:00.50. Laure Manaudou of France took bronze in 1:00.88.\n",
            "\n",
            "Natalie Coughlin Wins 100M Backstroke (AP) AP - American Natalie Coughlin won Olympic gold in the 100-meter backstroke Monday night. Coughlin, the only woman ever to swim under 1 minute in the event, finished [[1st]] in 1 minute, 0.37 seconds. Kirsty Coventry of Zimbabwe, who swims at Auburn University in Alabama, earned the silver in 1:00.50. Laure Manaudou of France took bronze in 1:00.88.\n",
            "\n",
            "\n",
            "--------------------------------------------- Result 64 ---------------------------------------------\n",
            "[[Sci/tech (100%)]] --> [[World (25%)]]\n",
            "\n",
            "[[Oracle]] Overhauls Sales-Side Apps for CRM Suite (NewsFactor) NewsFactor - Oracle (Nasdaq: ORCL) has revamped its sales-side CRM applications in version 11i.10 of its sales, marketing, partner relationship management and e-commerce application.\n",
            "\n",
            "[[oracle]] Overhauls Sales-Side Apps for CRM Suite (NewsFactor) NewsFactor - Oracle (Nasdaq: ORCL) has revamped its sales-side CRM applications in version 11i.10 of its sales, marketing, partner relationship management and e-commerce application.\n",
            "\n",
            "\n"
          ]
        },
        {
          "output_type": "stream",
          "name": "stderr",
          "text": [
            "[Succeeded / Failed / Skipped / Total] 46 / 9 / 13 / 68:  68%|██████▊   | 68/100 [00:25<00:11,  2.70it/s]"
          ]
        },
        {
          "output_type": "stream",
          "name": "stdout",
          "text": [
            "--------------------------------------------- Result 65 ---------------------------------------------\n",
            "[[World (100%)]] --> [[[FAILED]]]\n",
            "\n",
            "UN launches 210-million-dollar appeal for flood-hit Bangladesh (AFP) AFP - The United Nations launched an appeal here for 210 million dollars to help flood victims facing \"grave\" food shortages after two-thirds of Bangladesh was submerged, destroying crops and killing more than 700 people.\n",
            "\n",
            "\n",
            "--------------------------------------------- Result 66 ---------------------------------------------\n",
            "[[Sci/tech (100%)]] --> [[World (25%)]]\n",
            "\n",
            "[[Indian]] state rolls out wireless broadband Government in South Indian state of Kerala sets up wireless kiosks as part of initiative to bridge digital divide.\n",
            "\n",
            "[[Amerind]] state rolls out wireless broadband Government in South Indian state of Kerala sets up wireless kiosks as part of initiative to bridge digital divide.\n",
            "\n",
            "\n",
            "--------------------------------------------- Result 67 ---------------------------------------------\n",
            "[[Business (94%)]] --> [[[SKIPPED]]]\n",
            "\n",
            "Hurricane Survivors Wait for Water, Gas PUNTA GORDA, Fla. - Urban rescue teams, insurance adjusters and National Guard troops scattered across Florida Monday to help victims of Hurricane Charley and deliver water and other supplies to thousands of people left homeless...\n",
            "\n",
            "\n",
            "--------------------------------------------- Result 68 ---------------------------------------------\n",
            "[[Sports (100%)]] --> [[[SKIPPED]]]\n",
            "\n",
            "Jackson Squares Off With Prosecutor SANTA MARIA, Calif. - Fans of Michael Jackson erupted in cheers Monday as the pop star emerged from a double-decker tour bus and went into court for a showdown with the prosecutor who has pursued him for years on child molestation charges...\n",
            "\n",
            "\n"
          ]
        },
        {
          "output_type": "stream",
          "name": "stderr",
          "text": [
            "\r[Succeeded / Failed / Skipped / Total] 47 / 9 / 13 / 69:  69%|██████▉   | 69/100 [00:25<00:11,  2.71it/s]"
          ]
        },
        {
          "output_type": "stream",
          "name": "stdout",
          "text": [
            "--------------------------------------------- Result 69 ---------------------------------------------\n",
            "[[Sports (100%)]] --> [[World (25%)]]\n",
            "\n",
            "Bobcats [[Trade]] Drobnjak to Hawks for Pick (AP) AP - The Charlotte Bobcats traded center Predrag Drobnjak to the Atlanta Hawks on Monday for a second round pick in the 2005 NBA draft.\n",
            "\n",
            "Bobcats [[barter]] Drobnjak to Hawks for Pick (AP) AP - The Charlotte Bobcats traded center Predrag Drobnjak to the Atlanta Hawks on Monday for a second round pick in the 2005 NBA draft.\n",
            "\n",
            "\n"
          ]
        },
        {
          "output_type": "stream",
          "name": "stderr",
          "text": [
            "\r[Succeeded / Failed / Skipped / Total] 47 / 10 / 13 / 70:  70%|███████   | 70/100 [00:25<00:11,  2.70it/s]"
          ]
        },
        {
          "output_type": "stream",
          "name": "stdout",
          "text": [
            "--------------------------------------------- Result 70 ---------------------------------------------\n",
            "[[World (100%)]] --> [[[FAILED]]]\n",
            "\n",
            "Suspect charged in abduction, sexual assault of 11-year-old girl (Canadian Press) Canadian Press - LANGLEY, B.C. (CP) - Police have arrested a man in the kidnapping and sexual assault of an 11-year-old girl that frightened this suburban Vancouver community last week.\n",
            "\n",
            "\n"
          ]
        },
        {
          "output_type": "stream",
          "name": "stderr",
          "text": [
            "[Succeeded / Failed / Skipped / Total] 48 / 10 / 13 / 71:  71%|███████   | 71/100 [00:26<00:10,  2.70it/s]"
          ]
        },
        {
          "output_type": "stream",
          "name": "stdout",
          "text": [
            "--------------------------------------------- Result 71 ---------------------------------------------\n",
            "[[Sci/tech (100%)]] --> [[World (25%)]]\n",
            "\n",
            "China's Red Flag Linux to focus on enterprise Red Flag Software Co., the company behind China's leading Linux [[client]] distribution, plans to focus more on its server operating system and enterprise customers, the company's acting president said.\n",
            "\n",
            "China's Red Flag Linux to focus on enterprise Red Flag Software Co., the company behind China's leading Linux [[customer]] distribution, plans to focus more on its server operating system and enterprise customers, the company's acting president said.\n",
            "\n",
            "\n"
          ]
        },
        {
          "output_type": "stream",
          "name": "stderr",
          "text": [
            "[Succeeded / Failed / Skipped / Total] 50 / 10 / 13 / 73:  73%|███████▎  | 73/100 [00:26<00:09,  2.70it/s]"
          ]
        },
        {
          "output_type": "stream",
          "name": "stdout",
          "text": [
            "--------------------------------------------- Result 72 ---------------------------------------------\n",
            "[[Sci/tech (100%)]] --> [[World (25%)]]\n",
            "\n",
            "AOL Properties Sign Girafa For Thumbnail Search Images AOL Properties Sign Girafa For Thumbnail Search Images\\\\Girafa.com Inc. announced today that the CompuServe, Netscape, AIM and ICQ properties of [[America]] Online, Inc., have signed an agreement with Girafa to use Girafa's thumbnail search images as an integrated part of their search results.\\\\Using Girafa's thumbnail search service, search users can ...\n",
            "\n",
            "AOL Properties Sign Girafa For Thumbnail Search Images AOL Properties Sign Girafa For Thumbnail Search Images\\\\Girafa.com Inc. announced today that the CompuServe, Netscape, AIM and ICQ properties of [[US]] Online, Inc., have signed an agreement with Girafa to use Girafa's thumbnail search images as an integrated part of their search results.\\\\Using Girafa's thumbnail search service, search users can ...\n",
            "\n",
            "\n",
            "--------------------------------------------- Result 73 ---------------------------------------------\n",
            "[[Sci/tech (100%)]] --> [[World (25%)]]\n",
            "\n",
            "Cassini Spies Two Little Saturn Moons (AP) AP - NASA's Cassini spacecraft has [[spied]] two new little moons around satellite-rich Saturn, the space agency said Monday.\n",
            "\n",
            "Cassini Spies Two Little Saturn Moons (AP) AP - NASA's Cassini spacecraft has [[descry]] two new little moons around satellite-rich Saturn, the space agency said Monday.\n",
            "\n",
            "\n"
          ]
        },
        {
          "output_type": "stream",
          "name": "stderr",
          "text": [
            "[Succeeded / Failed / Skipped / Total] 51 / 10 / 13 / 74:  74%|███████▍  | 74/100 [00:27<00:09,  2.73it/s]"
          ]
        },
        {
          "output_type": "stream",
          "name": "stdout",
          "text": [
            "--------------------------------------------- Result 74 ---------------------------------------------\n",
            "[[World (65%)]] --> [[Sci/tech (100%)]]\n",
            "\n",
            "On front line of AIDS in Russia An industrial city northwest of Moscow struggles as AIDS hits a broader [[population]].\n",
            "\n",
            "On front line of AIDS in Russia An industrial city northwest of Moscow struggles as AIDS hits a broader [[universe]].\n",
            "\n",
            "\n"
          ]
        },
        {
          "output_type": "stream",
          "name": "stderr",
          "text": [
            "\r[Succeeded / Failed / Skipped / Total] 52 / 10 / 13 / 75:  75%|███████▌  | 75/100 [00:27<00:09,  2.73it/s]"
          ]
        },
        {
          "output_type": "stream",
          "name": "stdout",
          "text": [
            "--------------------------------------------- Result 75 ---------------------------------------------\n",
            "[[Sci/tech (100%)]] --> [[World (25%)]]\n",
            "\n",
            "Nobel Laureate Decries Stem Cell Limits (AP) AP - A Nobel laureate in medicine said Monday the Bush administration's limits on funding for [[embryonic]] stem cell research effectively have stopped the clock on American scientists' efforts to develop treatments for a host of chronic, debilitating diseases.\n",
            "\n",
            "Nobel Laureate Decries Stem Cell Limits (AP) AP - A Nobel laureate in medicine said Monday the Bush administration's limits on funding for [[embryologic]] stem cell research effectively have stopped the clock on American scientists' efforts to develop treatments for a host of chronic, debilitating diseases.\n",
            "\n",
            "\n"
          ]
        },
        {
          "output_type": "stream",
          "name": "stderr",
          "text": [
            "\r[Succeeded / Failed / Skipped / Total] 53 / 10 / 13 / 76:  76%|███████▌  | 76/100 [00:27<00:08,  2.74it/s]"
          ]
        },
        {
          "output_type": "stream",
          "name": "stdout",
          "text": [
            "--------------------------------------------- Result 76 ---------------------------------------------\n",
            "[[Sports (100%)]] --> [[World (25%)]]\n",
            "\n",
            "[[Jury]] Can Hear of Kobe Accuser's Sex Life (AP) AP - Prosecutors suffered another setback Monday in the Kobe Bryant sexual assault case, losing a last-ditch attempt to keep the NBA star's lawyers from telling jurors about the alleged victim's sex life.\n",
            "\n",
            "[[jury]] Can Hear of Kobe Accuser's Sex Life (AP) AP - Prosecutors suffered another setback Monday in the Kobe Bryant sexual assault case, losing a last-ditch attempt to keep the NBA star's lawyers from telling jurors about the alleged victim's sex life.\n",
            "\n",
            "\n"
          ]
        },
        {
          "output_type": "stream",
          "name": "stderr",
          "text": [
            "[Succeeded / Failed / Skipped / Total] 54 / 11 / 13 / 78:  78%|███████▊  | 78/100 [00:28<00:08,  2.73it/s]"
          ]
        },
        {
          "output_type": "stream",
          "name": "stdout",
          "text": [
            "--------------------------------------------- Result 77 ---------------------------------------------\n",
            "[[World (100%)]] --> [[[FAILED]]]\n",
            "\n",
            "North Korea Talks Still On, China Tells Downer (Reuters) Reuters - China has said no date has been set for\\working-level talks on the North Korean nuclear crisis and gave\\no indication that the meeting has been canceled, Australian\\Foreign Minister Alexander Downer said on Tuesday.\n",
            "\n",
            "\n",
            "--------------------------------------------- Result 78 ---------------------------------------------\n",
            "[[Sports (100%)]] --> [[World (25%)]]\n",
            "\n",
            "[[Griffin]] to Anchor D-Line The Redskins expect huge things from 300-pound Cornelius Griffin, who was signed to aid the team's weakest unit - the defensive line.\n",
            "\n",
            "[[griffin]] to Anchor D-Line The Redskins expect huge things from 300-pound Cornelius Griffin, who was signed to aid the team's weakest unit - the defensive line.\n",
            "\n",
            "\n"
          ]
        },
        {
          "output_type": "stream",
          "name": "stderr",
          "text": [
            "[Succeeded / Failed / Skipped / Total] 55 / 12 / 15 / 82:  82%|████████▏ | 82/100 [00:29<00:06,  2.80it/s]"
          ]
        },
        {
          "output_type": "stream",
          "name": "stdout",
          "text": [
            "--------------------------------------------- Result 79 ---------------------------------------------\n",
            "[[World (100%)]] --> [[[FAILED]]]\n",
            "\n",
            "Last American defector in North Korea agrees to tell story (AFP) AFP - The last surviving American defector to communist North Korea wants to tell his story to put a human face on the Stalinist state which he believes is unfairly vilified abroad, British film-makers said.\n",
            "\n",
            "\n",
            "--------------------------------------------- Result 80 ---------------------------------------------\n",
            "[[Sports (100%)]] --> [[[SKIPPED]]]\n",
            "\n",
            "Live: Olympics day four Richard Faulds and Stephen Parry are going for gold for Great Britain on day four in Athens.\n",
            "\n",
            "\n",
            "--------------------------------------------- Result 81 ---------------------------------------------\n",
            "[[Business (100%)]] --> [[[SKIPPED]]]\n",
            "\n",
            "Kerry Widens Lead in California, Poll Finds (Reuters) Reuters - Democratic challenger John Kerry\\has a commanding lead over President Bush in California of 54\\percent to 38 percent among likely voters, a poll released on\\Tuesday found.\n",
            "\n",
            "\n",
            "--------------------------------------------- Result 82 ---------------------------------------------\n",
            "[[Sports (100%)]] --> [[World (25%)]]\n",
            "\n",
            "[[Capacity]] Crowds at Beach Volleyball Rock the Joint  ATHENS (Reuters) - At the beach volleyball, the 2004  Olympics is a sell-out, foot-stomping success.\n",
            "\n",
            "[[capability]] Crowds at Beach Volleyball Rock the Joint  ATHENS (Reuters) - At the beach volleyball, the 2004  Olympics is a sell-out, foot-stomping success.\n",
            "\n",
            "\n"
          ]
        },
        {
          "output_type": "stream",
          "name": "stderr",
          "text": [
            "[Succeeded / Failed / Skipped / Total] 56 / 12 / 16 / 84:  84%|████████▍ | 84/100 [00:29<00:05,  2.83it/s]"
          ]
        },
        {
          "output_type": "stream",
          "name": "stdout",
          "text": [
            "--------------------------------------------- Result 83 ---------------------------------------------\n",
            "[[Business (100%)]] --> [[World (25%)]]\n",
            "\n",
            "[[Dollar]] Near Recent Lows, Awaits ZEW/CPI  LONDON (Reuters) - The dollar held steady near this week's  four-week low against the euro on Tuesday with investors  awaiting a German investor confidence survey and U.S. consumer  inflation numbers to shed light on the direction.\n",
            "\n",
            "[[buck]] Near Recent Lows, Awaits ZEW/CPI  LONDON (Reuters) - The dollar held steady near this week's  four-week low against the euro on Tuesday with investors  awaiting a German investor confidence survey and U.S. consumer  inflation numbers to shed light on the direction.\n",
            "\n",
            "\n",
            "--------------------------------------------- Result 84 ---------------------------------------------\n",
            "[[Sci/tech (100%)]] --> [[[SKIPPED]]]\n",
            "\n",
            "Intel to delay product aimed for high-definition TVs SAN FRANCISCO -- In the latest of a series of product delays, Intel Corp. has postponed the launch of a video display chip it had previously planned to introduce by year end, putting off a showdown with Texas Instruments Inc. in the fast-growing market for high-definition television displays.\n",
            "\n",
            "\n"
          ]
        },
        {
          "output_type": "stream",
          "name": "stderr",
          "text": [
            "\r[Succeeded / Failed / Skipped / Total] 56 / 13 / 16 / 85:  85%|████████▌ | 85/100 [00:30<00:05,  2.82it/s]"
          ]
        },
        {
          "output_type": "stream",
          "name": "stdout",
          "text": [
            "--------------------------------------------- Result 85 ---------------------------------------------\n",
            "[[World (100%)]] --> [[[FAILED]]]\n",
            "\n",
            "Venezuela vote keeps Chavez as president CARACAS -- Venezuelans voted resoundingly to keep firebrand populist Hugo Chavez as their president in a victory that drew noisy reactions yesterday from both sides in the streets. International observers certified the results as clean and accurate.\n",
            "\n",
            "\n"
          ]
        },
        {
          "output_type": "stream",
          "name": "stderr",
          "text": [
            "[Succeeded / Failed / Skipped / Total] 56 / 14 / 16 / 86:  86%|████████▌ | 86/100 [00:30<00:04,  2.82it/s]"
          ]
        },
        {
          "output_type": "stream",
          "name": "stdout",
          "text": [
            "--------------------------------------------- Result 86 ---------------------------------------------\n",
            "[[World (100%)]] --> [[[FAILED]]]\n",
            "\n",
            "Jailing of HK democrat in China 'politically motivated' (AFP) AFP - Hong Kong democrats accused China of jailing one of their members on trumped-up prostitution charges in a bid to disgrace a political movement Beijing has been feuding with for seven years.\n",
            "\n",
            "\n"
          ]
        },
        {
          "output_type": "stream",
          "name": "stderr",
          "text": [
            "[Succeeded / Failed / Skipped / Total] 57 / 14 / 18 / 89:  89%|████████▉ | 89/100 [00:31<00:03,  2.87it/s]"
          ]
        },
        {
          "output_type": "stream",
          "name": "stdout",
          "text": [
            "--------------------------------------------- Result 87 ---------------------------------------------\n",
            "[[Business (100%)]] --> [[World (25%)]]\n",
            "\n",
            "Kmart Swings to Profit in 2Q; Stock Surges (AP) AP - Shares of Kmart Holding Corp. surged 17 percent Monday after the discount retailer reported a [[profit]] for the second quarter and said chairman and majority owner Edward Lampert is now free to invest the company's  #36;2.6 billion in surplus cash.\n",
            "\n",
            "Kmart Swings to Profit in 2Q; Stock Surges (AP) AP - Shares of Kmart Holding Corp. surged 17 percent Monday after the discount retailer reported a [[benefit]] for the second quarter and said chairman and majority owner Edward Lampert is now free to invest the company's  #36;2.6 billion in surplus cash.\n",
            "\n",
            "\n",
            "--------------------------------------------- Result 88 ---------------------------------------------\n",
            "[[Sports (100%)]] --> [[[SKIPPED]]]\n",
            "\n",
            "Fischer's Fiancee: Marriage Plans Genuine (AP) AP - Former chess champion Bobby Fischer's announcement thathe is engaged to a Japanese woman could win him sympathy among Japanese officials and help him avoid deportation to the United States, his fiancee and one of his supporters said Tuesday.\n",
            "\n",
            "\n",
            "--------------------------------------------- Result 89 ---------------------------------------------\n",
            "[[Sports (100%)]] --> [[[SKIPPED]]]\n",
            "\n",
            "U.S. Misses Cut in Olympic 100 Free ATHENS, Greece - Top American sprinters Jason Lezak and Ian Crocker missed the cut in the Olympic 100-meter freestyle preliminaries Tuesday, a stunning blow for a country that had always done well in the event.    Pieter van den Hoogenband of the Netherlands and Australian Ian Thorpe advanced to the evening semifinal a day after dueling teenager Michael Phelps in the 200 freestyle, won by Thorpe...\n",
            "\n",
            "\n"
          ]
        },
        {
          "output_type": "stream",
          "name": "stderr",
          "text": [
            "\r[Succeeded / Failed / Skipped / Total] 58 / 14 / 18 / 90:  90%|█████████ | 90/100 [00:31<00:03,  2.82it/s]"
          ]
        },
        {
          "output_type": "stream",
          "name": "stdout",
          "text": [
            "--------------------------------------------- Result 90 ---------------------------------------------\n",
            "[[Sci/tech (98%)]] --> [[Business (41%)]]\n",
            "\n",
            "Consumers Would Pay In Phone Proposal A proposal backed by a coalition of telephone carriers would cut billions of dollars in fees owed by long-distance companies to regional phone giants but would allow the regional companies to make up some of the difference by raising monthly phone bills for millions of consumers. &lt;FONT face=\"verdana,MS Sans [[Serif]],arial,helvetica\" size=\"-2\"\\ color=\"#666666\"&gt;&lt;B&gt;-The Washington Post&lt;/B&gt;&lt;/FONT&gt;\n",
            "\n",
            "Consumers Would Pay In Phone Proposal A proposal backed by a coalition of telephone carriers would cut billions of dollars in fees owed by long-distance companies to regional phone giants but would allow the regional companies to make up some of the difference by raising monthly phone bills for millions of consumers. &lt;FONT face=\"verdana,MS Sans [[seriph]],arial,helvetica\" size=\"-2\"\\ color=\"#666666\"&gt;&lt;B&gt;-The Washington Post&lt;/B&gt;&lt;/FONT&gt;\n",
            "\n",
            "\n"
          ]
        },
        {
          "output_type": "stream",
          "name": "stderr",
          "text": [
            "\r[Succeeded / Failed / Skipped / Total] 58 / 15 / 18 / 91:  91%|█████████ | 91/100 [00:32<00:03,  2.82it/s]"
          ]
        },
        {
          "output_type": "stream",
          "name": "stdout",
          "text": [
            "--------------------------------------------- Result 91 ---------------------------------------------\n",
            "[[World (100%)]] --> [[[FAILED]]]\n",
            "\n",
            "U.S. Brokers Cease-fire in Western Afghanistan  KABUL (Reuters) - The United States has brokered a  cease-fire between a renegade Afghan militia leader and the  embattled governor of the western province of Herat,  Washington's envoy to Kabul said Tuesday.\n",
            "\n",
            "\n"
          ]
        },
        {
          "output_type": "stream",
          "name": "stderr",
          "text": [
            "[Succeeded / Failed / Skipped / Total] 59 / 15 / 19 / 93:  93%|█████████▎| 93/100 [00:32<00:02,  2.84it/s]"
          ]
        },
        {
          "output_type": "stream",
          "name": "stdout",
          "text": [
            "--------------------------------------------- Result 92 ---------------------------------------------\n",
            "[[Business (100%)]] --> [[World (25%)]]\n",
            "\n",
            "[[Sneaky]] Credit Card Tactics Keep an eye on your credit card issuers -- they may be about to raise your rates.\n",
            "\n",
            "[[furtive]] Credit Card Tactics Keep an eye on your credit card issuers -- they may be about to raise your rates.\n",
            "\n",
            "\n",
            "--------------------------------------------- Result 93 ---------------------------------------------\n",
            "[[Business (96%)]] --> [[[SKIPPED]]]\n",
            "\n",
            "Intel Delays Launch of Projection TV Chip In another product postponement, semiconductor giant Intel Corp. said it won't be offering a chip for projection TVs by the end of 2004 as it had announced earlier this year.\n",
            "\n",
            "\n"
          ]
        },
        {
          "output_type": "stream",
          "name": "stderr",
          "text": [
            "[Succeeded / Failed / Skipped / Total] 61 / 15 / 19 / 95:  95%|█████████▌| 95/100 [00:33<00:01,  2.86it/s]"
          ]
        },
        {
          "output_type": "stream",
          "name": "stdout",
          "text": [
            "--------------------------------------------- Result 94 ---------------------------------------------\n",
            "[[Business (100%)]] --> [[World (25%)]]\n",
            "\n",
            "[[Fund]] pessimism grows NEW YORK (CNN/Money) - Money managers are growing more pessimistic about the economy, corporate profits and US stock market returns, according to a monthly survey by Merrill Lynch released Tuesday. \n",
            "\n",
            "[[fund]] pessimism grows NEW YORK (CNN/Money) - Money managers are growing more pessimistic about the economy, corporate profits and US stock market returns, according to a monthly survey by Merrill Lynch released Tuesday. \n",
            "\n",
            "\n",
            "--------------------------------------------- Result 95 ---------------------------------------------\n",
            "[[Sports (100%)]] --> [[World (25%)]]\n",
            "\n",
            "Kederis proclaims innocence Olympic champion Kostas Kederis today left hospital [[ahead]] of his date with IOC inquisitors claiming his innocence and vowing:  quot;After the crucifixion comes the resurrection. quot; ...\n",
            "\n",
            "Kederis proclaims innocence Olympic champion Kostas Kederis today left hospital [[before]] of his date with IOC inquisitors claiming his innocence and vowing:  quot;After the crucifixion comes the resurrection. quot; ...\n",
            "\n",
            "\n"
          ]
        },
        {
          "output_type": "stream",
          "name": "stderr",
          "text": [
            "[Succeeded / Failed / Skipped / Total] 63 / 15 / 19 / 97:  97%|█████████▋| 97/100 [00:33<00:01,  2.88it/s]"
          ]
        },
        {
          "output_type": "stream",
          "name": "stdout",
          "text": [
            "--------------------------------------------- Result 96 ---------------------------------------------\n",
            "[[Sports (100%)]] --> [[World (25%)]]\n",
            "\n",
            "Eriksson doesn #39;t feel any extra pressure following scandal NEWCASTLE, England (AP) - England coach Sven-Goran Eriksson said Tuesday he isn #39;t under any extra pressure in the aftermath of a scandal that [[damaged]] the Football Association #39;s reputation. \n",
            "\n",
            "Eriksson doesn #39;t feel any extra pressure following scandal NEWCASTLE, England (AP) - England coach Sven-Goran Eriksson said Tuesday he isn #39;t under any extra pressure in the aftermath of a scandal that [[damage]] the Football Association #39;s reputation. \n",
            "\n",
            "\n",
            "--------------------------------------------- Result 97 ---------------------------------------------\n",
            "[[Sports (100%)]] --> [[World (25%)]]\n",
            "\n",
            "[[Injured]] Heskey to miss England friendly NEWCASTLE, England (AP) - Striker Emile Heskey has pulled out of the England squad ahead of Wednesday #39;s friendly against Ukraine because of a tight hamstring, the Football Association said Tuesday. \n",
            "\n",
            "[[bruise]] Heskey to miss England friendly NEWCASTLE, England (AP) - Striker Emile Heskey has pulled out of the England squad ahead of Wednesday #39;s friendly against Ukraine because of a tight hamstring, the Football Association said Tuesday. \n",
            "\n",
            "\n"
          ]
        },
        {
          "output_type": "stream",
          "name": "stderr",
          "text": [
            "[Succeeded / Failed / Skipped / Total] 64 / 15 / 19 / 98:  98%|█████████▊| 98/100 [00:34<00:00,  2.85it/s]"
          ]
        },
        {
          "output_type": "stream",
          "name": "stdout",
          "text": [
            "--------------------------------------------- Result 98 ---------------------------------------------\n",
            "[[Business (100%)]] --> [[World (25%)]]\n",
            "\n",
            "[[Staples]] Profit Up, to Enter China Market  NEW YORK (Reuters) - Staples Inc. &lt;A HREF=\"http://www.investor.reuters.com/FullQuote.aspx?ticker=SPLS.O target=/stocks/quickinfo/fullquote\"&gt;SPLS.O&lt;/A&gt;, the top U.S.  office products retailer, on Tuesday reported a 39 percent jump  in quarterly profit, raised its full-year forecast and said it  plans to enter the fast-growing Chinese market, sending its  shares higher.\n",
            "\n",
            "[[basic]] Profit Up, to Enter China Market  NEW YORK (Reuters) - Staples Inc. &lt;A HREF=\"http://www.investor.reuters.com/FullQuote.aspx?ticker=SPLS.O target=/stocks/quickinfo/fullquote\"&gt;SPLS.O&lt;/A&gt;, the top U.S.  office products retailer, on Tuesday reported a 39 percent jump  in quarterly profit, raised its full-year forecast and said it  plans to enter the fast-growing Chinese market, sending its  shares higher.\n",
            "\n",
            "\n"
          ]
        },
        {
          "output_type": "stream",
          "name": "stderr",
          "text": [
            "\r[Succeeded / Failed / Skipped / Total] 64 / 16 / 19 / 99:  99%|█████████▉| 99/100 [00:35<00:00,  2.83it/s]"
          ]
        },
        {
          "output_type": "stream",
          "name": "stdout",
          "text": [
            "--------------------------------------------- Result 99 ---------------------------------------------\n",
            "[[World (100%)]] --> [[[FAILED]]]\n",
            "\n",
            "Delegation Is Delayed Before Reaching Najaf AGHDAD, Iraq, Aug. 17  A delegation of Iraqis was delayed for security reasons today but still intended to visit Najaf to try to convince a rebellious Shiite cleric and his militia to evacuate a shrine in the holy city and end ...\n",
            "\n",
            "\n"
          ]
        },
        {
          "output_type": "stream",
          "name": "stderr",
          "text": [
            "[Succeeded / Failed / Skipped / Total] 65 / 16 / 19 / 100: 100%|██████████| 100/100 [00:35<00:00,  2.82it/s]"
          ]
        },
        {
          "output_type": "stream",
          "name": "stdout",
          "text": [
            "--------------------------------------------- Result 100 ---------------------------------------------\n",
            "[[Business (100%)]] --> [[World (25%)]]\n",
            "\n",
            "Consumer Prices Down, Industry Output Up  WASHINGTON (Reuters) - U.S. consumer prices dropped in July  for the first time in eight months as a sharp run up in energy  costs reversed, the government said in a report that suggested  a slow rate of [[interest]] rate hikes is likely.\n",
            "\n",
            "Consumer Prices Down, Industry Output Up  WASHINGTON (Reuters) - U.S. consumer prices dropped in July  for the first time in eight months as a sharp run up in energy  costs reversed, the government said in a report that suggested  a slow rate of [[concern]] rate hikes is likely.\n",
            "\n",
            "\n",
            "\n",
            "+-------------------------------+--------+\n",
            "| Attack Results                |        |\n",
            "+-------------------------------+--------+\n",
            "| Number of successful attacks: | 65     |\n",
            "| Number of failed attacks:     | 16     |\n",
            "| Number of skipped attacks:    | 19     |\n",
            "| Original accuracy:            | 81.0%  |\n",
            "| Accuracy under attack:        | 16.0%  |\n",
            "| Attack success rate:          | 80.25% |\n",
            "| Average perturbed word %:     | 2.76%  |\n",
            "| Average num. words per input: | 43.16  |\n",
            "| Avg num queries:              | 299.01 |\n",
            "+-------------------------------+--------+\n"
          ]
        },
        {
          "output_type": "stream",
          "name": "stderr",
          "text": [
            "\n"
          ]
        },
        {
          "output_type": "execute_result",
          "data": {
            "text/plain": [
              "[<textattack.attack_results.successful_attack_result.SuccessfulAttackResult at 0x7f4ee1e61710>,\n",
              " <textattack.attack_results.successful_attack_result.SuccessfulAttackResult at 0x7f4eddfcdad0>,\n",
              " <textattack.attack_results.successful_attack_result.SuccessfulAttackResult at 0x7f4ef000ed10>,\n",
              " <textattack.attack_results.successful_attack_result.SuccessfulAttackResult at 0x7f4eebf447d0>,\n",
              " <textattack.attack_results.successful_attack_result.SuccessfulAttackResult at 0x7f4edda11710>,\n",
              " <textattack.attack_results.successful_attack_result.SuccessfulAttackResult at 0x7f4ee5a061d0>,\n",
              " <textattack.attack_results.successful_attack_result.SuccessfulAttackResult at 0x7f4ee81d9cd0>,\n",
              " <textattack.attack_results.successful_attack_result.SuccessfulAttackResult at 0x7f4ee2792c10>,\n",
              " <textattack.attack_results.successful_attack_result.SuccessfulAttackResult at 0x7f4ee87ba290>,\n",
              " <textattack.attack_results.skipped_attack_result.SkippedAttackResult at 0x7f4ee6e13450>,\n",
              " <textattack.attack_results.successful_attack_result.SuccessfulAttackResult at 0x7f4edff2d910>,\n",
              " <textattack.attack_results.successful_attack_result.SuccessfulAttackResult at 0x7f4ee4accfd0>,\n",
              " <textattack.attack_results.successful_attack_result.SuccessfulAttackResult at 0x7f4ee1d06050>,\n",
              " <textattack.attack_results.successful_attack_result.SuccessfulAttackResult at 0x7f4eee897950>,\n",
              " <textattack.attack_results.successful_attack_result.SuccessfulAttackResult at 0x7f4ee8c62590>,\n",
              " <textattack.attack_results.skipped_attack_result.SkippedAttackResult at 0x7f4ee049ad90>,\n",
              " <textattack.attack_results.successful_attack_result.SuccessfulAttackResult at 0x7f4ee3be77d0>,\n",
              " <textattack.attack_results.successful_attack_result.SuccessfulAttackResult at 0x7f4eec4f8b10>,\n",
              " <textattack.attack_results.successful_attack_result.SuccessfulAttackResult at 0x7f4eebf7f250>,\n",
              " <textattack.attack_results.skipped_attack_result.SkippedAttackResult at 0x7f4eebf44190>,\n",
              " <textattack.attack_results.skipped_attack_result.SkippedAttackResult at 0x7f4eed480c90>,\n",
              " <textattack.attack_results.successful_attack_result.SuccessfulAttackResult at 0x7f4ee3116290>,\n",
              " <textattack.attack_results.successful_attack_result.SuccessfulAttackResult at 0x7f4ee0b7f290>,\n",
              " <textattack.attack_results.skipped_attack_result.SkippedAttackResult at 0x7f4ee0b7fc50>,\n",
              " <textattack.attack_results.skipped_attack_result.SkippedAttackResult at 0x7f4eee11b690>,\n",
              " <textattack.attack_results.successful_attack_result.SuccessfulAttackResult at 0x7f4ee1d07f90>,\n",
              " <textattack.attack_results.successful_attack_result.SuccessfulAttackResult at 0x7f4edfd49d10>,\n",
              " <textattack.attack_results.successful_attack_result.SuccessfulAttackResult at 0x7f4ee4d41a10>,\n",
              " <textattack.attack_results.successful_attack_result.SuccessfulAttackResult at 0x7f4edf429050>,\n",
              " <textattack.attack_results.successful_attack_result.SuccessfulAttackResult at 0x7f4eef31a050>,\n",
              " <textattack.attack_results.successful_attack_result.SuccessfulAttackResult at 0x7f4ee5e968d0>,\n",
              " <textattack.attack_results.successful_attack_result.SuccessfulAttackResult at 0x7f4ee4335710>,\n",
              " <textattack.attack_results.successful_attack_result.SuccessfulAttackResult at 0x7f4eef09d410>,\n",
              " <textattack.attack_results.failed_attack_result.FailedAttackResult at 0x7f4ee7c1d610>,\n",
              " <textattack.attack_results.failed_attack_result.FailedAttackResult at 0x7f4eedfdf890>,\n",
              " <textattack.attack_results.successful_attack_result.SuccessfulAttackResult at 0x7f4eef4c0c90>,\n",
              " <textattack.attack_results.skipped_attack_result.SkippedAttackResult at 0x7f4eee359c50>,\n",
              " <textattack.attack_results.skipped_attack_result.SkippedAttackResult at 0x7f4eee359590>,\n",
              " <textattack.attack_results.failed_attack_result.FailedAttackResult at 0x7f4eefaa73d0>,\n",
              " <textattack.attack_results.failed_attack_result.FailedAttackResult at 0x7f4ee8de7c90>,\n",
              " <textattack.attack_results.successful_attack_result.SuccessfulAttackResult at 0x7f4eea065650>,\n",
              " <textattack.attack_results.successful_attack_result.SuccessfulAttackResult at 0x7f4eeb8d1250>,\n",
              " <textattack.attack_results.successful_attack_result.SuccessfulAttackResult at 0x7f4ee76f84d0>,\n",
              " <textattack.attack_results.successful_attack_result.SuccessfulAttackResult at 0x7f4ee7d71050>,\n",
              " <textattack.attack_results.successful_attack_result.SuccessfulAttackResult at 0x7f4ee5bc9ad0>,\n",
              " <textattack.attack_results.successful_attack_result.SuccessfulAttackResult at 0x7f4ee1176f90>,\n",
              " <textattack.attack_results.failed_attack_result.FailedAttackResult at 0x7f4eefd4a0d0>,\n",
              " <textattack.attack_results.skipped_attack_result.SkippedAttackResult at 0x7f4eee0c0a50>,\n",
              " <textattack.attack_results.successful_attack_result.SuccessfulAttackResult at 0x7f4eeb4fb050>,\n",
              " <textattack.attack_results.successful_attack_result.SuccessfulAttackResult at 0x7f4ee7863f50>,\n",
              " <textattack.attack_results.failed_attack_result.FailedAttackResult at 0x7f4eef76dc50>,\n",
              " <textattack.attack_results.successful_attack_result.SuccessfulAttackResult at 0x7f4ef009b990>,\n",
              " <textattack.attack_results.failed_attack_result.FailedAttackResult at 0x7f4eeb0d9e90>,\n",
              " <textattack.attack_results.successful_attack_result.SuccessfulAttackResult at 0x7f4eef31f950>,\n",
              " <textattack.attack_results.successful_attack_result.SuccessfulAttackResult at 0x7f4eef481a50>,\n",
              " <textattack.attack_results.skipped_attack_result.SkippedAttackResult at 0x7f4eef481090>,\n",
              " <textattack.attack_results.skipped_attack_result.SkippedAttackResult at 0x7f4eef475bd0>,\n",
              " <textattack.attack_results.failed_attack_result.FailedAttackResult at 0x7f4ee9f27b90>,\n",
              " <textattack.attack_results.successful_attack_result.SuccessfulAttackResult at 0x7f4edf569490>,\n",
              " <textattack.attack_results.successful_attack_result.SuccessfulAttackResult at 0x7f4eee20a790>,\n",
              " <textattack.attack_results.successful_attack_result.SuccessfulAttackResult at 0x7f4ee95b4b50>,\n",
              " <textattack.attack_results.successful_attack_result.SuccessfulAttackResult at 0x7f4eee54b4d0>,\n",
              " <textattack.attack_results.successful_attack_result.SuccessfulAttackResult at 0x7f4eed1fa250>,\n",
              " <textattack.attack_results.successful_attack_result.SuccessfulAttackResult at 0x7f4edfbd3450>,\n",
              " <textattack.attack_results.failed_attack_result.FailedAttackResult at 0x7f4ee8f4df10>,\n",
              " <textattack.attack_results.successful_attack_result.SuccessfulAttackResult at 0x7f4eefb5b790>,\n",
              " <textattack.attack_results.skipped_attack_result.SkippedAttackResult at 0x7f4eeb9f7450>,\n",
              " <textattack.attack_results.skipped_attack_result.SkippedAttackResult at 0x7f4ee5fc4310>,\n",
              " <textattack.attack_results.successful_attack_result.SuccessfulAttackResult at 0x7f4eec50cfd0>,\n",
              " <textattack.attack_results.failed_attack_result.FailedAttackResult at 0x7f4eebd46a10>,\n",
              " <textattack.attack_results.successful_attack_result.SuccessfulAttackResult at 0x7f4eec91b090>,\n",
              " <textattack.attack_results.successful_attack_result.SuccessfulAttackResult at 0x7f4ee903b050>,\n",
              " <textattack.attack_results.successful_attack_result.SuccessfulAttackResult at 0x7f4ee16f1710>,\n",
              " <textattack.attack_results.successful_attack_result.SuccessfulAttackResult at 0x7f4ee903b210>,\n",
              " <textattack.attack_results.successful_attack_result.SuccessfulAttackResult at 0x7f4e8cdeac10>,\n",
              " <textattack.attack_results.successful_attack_result.SuccessfulAttackResult at 0x7f4eea0952d0>,\n",
              " <textattack.attack_results.failed_attack_result.FailedAttackResult at 0x7f4eec7decd0>,\n",
              " <textattack.attack_results.successful_attack_result.SuccessfulAttackResult at 0x7f4eef006c90>,\n",
              " <textattack.attack_results.failed_attack_result.FailedAttackResult at 0x7f4e8cfcdd10>,\n",
              " <textattack.attack_results.skipped_attack_result.SkippedAttackResult at 0x7f4e8cfcd0d0>,\n",
              " <textattack.attack_results.skipped_attack_result.SkippedAttackResult at 0x7f4e8cfcdb90>,\n",
              " <textattack.attack_results.successful_attack_result.SuccessfulAttackResult at 0x7f4ee9c25d10>,\n",
              " <textattack.attack_results.successful_attack_result.SuccessfulAttackResult at 0x7f4e8ced0950>,\n",
              " <textattack.attack_results.skipped_attack_result.SkippedAttackResult at 0x7f4e8d235690>,\n",
              " <textattack.attack_results.failed_attack_result.FailedAttackResult at 0x7f4eeb7a9690>,\n",
              " <textattack.attack_results.failed_attack_result.FailedAttackResult at 0x7f4e8d024050>,\n",
              " <textattack.attack_results.successful_attack_result.SuccessfulAttackResult at 0x7f4ee5f56bd0>,\n",
              " <textattack.attack_results.skipped_attack_result.SkippedAttackResult at 0x7f4ee5f56350>,\n",
              " <textattack.attack_results.skipped_attack_result.SkippedAttackResult at 0x7f4ee5f5f390>,\n",
              " <textattack.attack_results.successful_attack_result.SuccessfulAttackResult at 0x7f4ee8971050>,\n",
              " <textattack.attack_results.failed_attack_result.FailedAttackResult at 0x7f4ee5229d50>,\n",
              " <textattack.attack_results.successful_attack_result.SuccessfulAttackResult at 0x7f4ee10b63d0>,\n",
              " <textattack.attack_results.skipped_attack_result.SkippedAttackResult at 0x7f4ee10cc950>,\n",
              " <textattack.attack_results.successful_attack_result.SuccessfulAttackResult at 0x7f4eef4c0810>,\n",
              " <textattack.attack_results.successful_attack_result.SuccessfulAttackResult at 0x7f4ee7f8cf10>,\n",
              " <textattack.attack_results.successful_attack_result.SuccessfulAttackResult at 0x7f4ee4c14150>,\n",
              " <textattack.attack_results.successful_attack_result.SuccessfulAttackResult at 0x7f4eef095a50>,\n",
              " <textattack.attack_results.successful_attack_result.SuccessfulAttackResult at 0x7f4eec49cf10>,\n",
              " <textattack.attack_results.failed_attack_result.FailedAttackResult at 0x7f4ee90cd990>,\n",
              " <textattack.attack_results.successful_attack_result.SuccessfulAttackResult at 0x7f4eeacbe590>]"
            ]
          },
          "metadata": {},
          "execution_count": 18
        }
      ]
    },
    {
      "cell_type": "code",
      "metadata": {
        "id": "4JrJkeD5Irpf"
      },
      "source": [
        ""
      ],
      "execution_count": null,
      "outputs": []
    }
  ]
}
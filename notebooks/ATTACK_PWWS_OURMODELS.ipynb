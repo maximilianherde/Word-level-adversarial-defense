{
  "nbformat": 4,
  "nbformat_minor": 0,
  "metadata": {
    "colab": {
      "name": "ATTACK_PWWS_OURMODELS.ipynb",
      "provenance": []
    },
    "kernelspec": {
      "name": "python3",
      "display_name": "Python 3"
    },
    "language_info": {
      "name": "python"
    },
    "accelerator": "GPU"
  },
  "cells": [
    {
      "cell_type": "code",
      "metadata": {
        "id": "kCWBtu6E1Kdn",
        "colab": {
          "base_uri": "https://localhost:8080/"
        },
        "outputId": "62ee8122-e184-406a-9600-9019a1c1de53"
      },
      "source": [
        "import torch\n",
        "from torchtext.datasets import IMDB, AG_NEWS, YahooAnswers\n",
        "from torchtext.vocab import GloVe\n",
        "from torchtext.data import to_map_style_dataset\n",
        "from torchtext.data.utils import get_tokenizer\n",
        "from torch.nn.utils.rnn import pad_sequence\n",
        "from torch.nn import CrossEntropyLoss\n",
        "from torch.utils.data import DataLoader, random_split\n",
        "from torch.optim import Adam\n",
        "import torch.nn.functional as F\n",
        "from torch.nn import LSTM, GRU, Linear, Softmax, Conv2d, Dropout\n",
        "from tqdm import tqdm\n",
        "!pip install transformers\n",
        "from transformers import BertTokenizer, BertForSequenceClassification"
      ],
      "execution_count": 1,
      "outputs": [
        {
          "output_type": "stream",
          "name": "stdout",
          "text": [
            "Requirement already satisfied: transformers in /usr/local/lib/python3.7/dist-packages (4.12.5)\n",
            "Requirement already satisfied: sacremoses in /usr/local/lib/python3.7/dist-packages (from transformers) (0.0.46)\n",
            "Requirement already satisfied: pyyaml>=5.1 in /usr/local/lib/python3.7/dist-packages (from transformers) (6.0)\n",
            "Requirement already satisfied: huggingface-hub<1.0,>=0.1.0 in /usr/local/lib/python3.7/dist-packages (from transformers) (0.2.1)\n",
            "Requirement already satisfied: tokenizers<0.11,>=0.10.1 in /usr/local/lib/python3.7/dist-packages (from transformers) (0.10.3)\n",
            "Requirement already satisfied: importlib-metadata in /usr/local/lib/python3.7/dist-packages (from transformers) (4.8.2)\n",
            "Requirement already satisfied: filelock in /usr/local/lib/python3.7/dist-packages (from transformers) (3.4.0)\n",
            "Requirement already satisfied: regex!=2019.12.17 in /usr/local/lib/python3.7/dist-packages (from transformers) (2019.12.20)\n",
            "Requirement already satisfied: numpy>=1.17 in /usr/local/lib/python3.7/dist-packages (from transformers) (1.19.5)\n",
            "Requirement already satisfied: tqdm>=4.27 in /usr/local/lib/python3.7/dist-packages (from transformers) (4.49.0)\n",
            "Requirement already satisfied: requests in /usr/local/lib/python3.7/dist-packages (from transformers) (2.23.0)\n",
            "Requirement already satisfied: packaging>=20.0 in /usr/local/lib/python3.7/dist-packages (from transformers) (21.3)\n",
            "Requirement already satisfied: typing-extensions>=3.7.4.3 in /usr/local/lib/python3.7/dist-packages (from huggingface-hub<1.0,>=0.1.0->transformers) (3.7.4.3)\n",
            "Requirement already satisfied: pyparsing!=3.0.5,>=2.0.2 in /usr/local/lib/python3.7/dist-packages (from packaging>=20.0->transformers) (3.0.6)\n",
            "Requirement already satisfied: zipp>=0.5 in /usr/local/lib/python3.7/dist-packages (from importlib-metadata->transformers) (3.6.0)\n",
            "Requirement already satisfied: idna<3,>=2.5 in /usr/local/lib/python3.7/dist-packages (from requests->transformers) (2.10)\n",
            "Requirement already satisfied: urllib3!=1.25.0,!=1.25.1,<1.26,>=1.21.1 in /usr/local/lib/python3.7/dist-packages (from requests->transformers) (1.24.3)\n",
            "Requirement already satisfied: certifi>=2017.4.17 in /usr/local/lib/python3.7/dist-packages (from requests->transformers) (2021.10.8)\n",
            "Requirement already satisfied: chardet<4,>=3.0.2 in /usr/local/lib/python3.7/dist-packages (from requests->transformers) (3.0.4)\n",
            "Requirement already satisfied: joblib in /usr/local/lib/python3.7/dist-packages (from sacremoses->transformers) (1.1.0)\n",
            "Requirement already satisfied: click in /usr/local/lib/python3.7/dist-packages (from sacremoses->transformers) (7.1.2)\n",
            "Requirement already satisfied: six in /usr/local/lib/python3.7/dist-packages (from sacremoses->transformers) (1.15.0)\n"
          ]
        }
      ]
    },
    {
      "cell_type": "code",
      "metadata": {
        "id": "xd_5zAVg1RPN"
      },
      "source": [
        "device = torch.device('cuda' if torch.cuda.is_available() else 'cpu')"
      ],
      "execution_count": 2,
      "outputs": []
    },
    {
      "cell_type": "code",
      "metadata": {
        "id": "TJ7yWNkv1Uoz"
      },
      "source": [
        "train_set = AG_NEWS(split='train')\n",
        "test_set = AG_NEWS(split='test')\n",
        "num_classes = 4"
      ],
      "execution_count": 3,
      "outputs": []
    },
    {
      "cell_type": "code",
      "metadata": {
        "id": "1RPvBGeI1YBp"
      },
      "source": [
        "tokenizer = get_tokenizer('basic_english')\n",
        "embedding = GloVe(name='6B', dim=50)"
      ],
      "execution_count": 4,
      "outputs": []
    },
    {
      "cell_type": "code",
      "metadata": {
        "id": "V1kMv0EV19Yp"
      },
      "source": [
        "from torch.utils.data import Dataset\n",
        "\n",
        "class ClassificationDataset(Dataset):\n",
        "    def __init__(self, dataset, num_classes, tokenizer):\n",
        "        self.num_classes = num_classes\n",
        "        self.dataset = dataset\n",
        "        self.tokenizer = tokenizer\n",
        "\n",
        "    def __len__(self):\n",
        "        return self.dataset.__len__()\n",
        "\n",
        "    def __getitem__(self, idx):\n",
        "        label, text = self.dataset.__getitem__(idx)\n",
        "        return int(label) - 1, self.tokenizer(text)"
      ],
      "execution_count": 5,
      "outputs": []
    },
    {
      "cell_type": "code",
      "metadata": {
        "id": "xR1jjv4E2TTE"
      },
      "source": [
        "def collate_batch(batch):\n",
        "    label_list, text_list = [], []\n",
        "    for (_label, _tokens) in batch:\n",
        "        label_list.append(_label)\n",
        "        embed = embedding.get_vecs_by_tokens(_tokens)\n",
        "        text_list.append(embed)\n",
        "    label_list = torch.tensor(label_list, dtype=torch.int64)\n",
        "    text_list = pad_sequence(text_list, batch_first=True)\n",
        "    return label_list.to(device), text_list.to(device)"
      ],
      "execution_count": 6,
      "outputs": []
    },
    {
      "cell_type": "code",
      "metadata": {
        "id": "dXuXjk5j1cBG"
      },
      "source": [
        "train_set = to_map_style_dataset(train_set)\n",
        "test_set = to_map_style_dataset(test_set)"
      ],
      "execution_count": 7,
      "outputs": []
    },
    {
      "cell_type": "code",
      "metadata": {
        "id": "9-MFXg-02YOG"
      },
      "source": [
        "train_set = ClassificationDataset(train_set, num_classes, tokenizer)\n",
        "test_set = ClassificationDataset(test_set, num_classes, tokenizer)"
      ],
      "execution_count": 8,
      "outputs": []
    },
    {
      "cell_type": "code",
      "metadata": {
        "id": "ke_hYc5m2h3t"
      },
      "source": [
        "BATCH_SIZE = 64\n",
        "SHUFFLE = True\n",
        "NUM_EPOCHS = 3"
      ],
      "execution_count": 9,
      "outputs": []
    },
    {
      "cell_type": "code",
      "metadata": {
        "id": "So19fxCg2bvm"
      },
      "source": [
        "train_loader = DataLoader(train_set, batch_size=BATCH_SIZE,\n",
        "                          collate_fn=collate_batch, shuffle=SHUFFLE)\n",
        "test_loader = DataLoader(test_set, batch_size=BATCH_SIZE,\n",
        "                         collate_fn=collate_batch, shuffle=SHUFFLE)"
      ],
      "execution_count": 10,
      "outputs": []
    },
    {
      "cell_type": "code",
      "metadata": {
        "id": "nojqUecD2ebt"
      },
      "source": [
        "def evaluate(model, data_loader, loss=CrossEntropyLoss()):\n",
        "    model.eval()\n",
        "    total_acc, total_count = 0, 0\n",
        "\n",
        "    with torch.no_grad():\n",
        "        for idx, (labels, text) in enumerate(data_loader):\n",
        "            predicted_label = model(text)\n",
        "            loss_ = loss(predicted_label, labels)\n",
        "            total_acc += (predicted_label.argmax(1) == labels).sum().item()\n",
        "            total_count += labels.size(0)\n",
        "    return total_acc / total_count\n",
        "\n",
        "\n",
        "def train(model, optimizer, train_loader, loss=CrossEntropyLoss(), log_interval=50):\n",
        "    model.train()\n",
        "    total_acc, total_count = 0, 0\n",
        "    pbar = tqdm(total=len(train_loader),\n",
        "                desc=f'Epoch [{epoch + 1}/{NUM_EPOCHS}]')\n",
        "    for idx, (labels, text) in enumerate(train_loader):\n",
        "        output = model(text)\n",
        "        loss_ = loss(output, labels)\n",
        "        optimizer.zero_grad()\n",
        "        loss_.backward()\n",
        "        optimizer.step()\n",
        "        total_acc += (output.argmax(1) == labels).sum().item()\n",
        "        total_count += labels.size(0)\n",
        "        pbar.update()\n",
        "        if idx % log_interval == 0 and idx > 0:\n",
        "            pbar.set_postfix(loss=loss_, accuracy=total_acc / total_count)\n",
        "            total_acc, total_count = 0, 0\n",
        "\n",
        "    pbar.close()"
      ],
      "execution_count": 11,
      "outputs": []
    },
    {
      "cell_type": "code",
      "metadata": {
        "id": "hx4V1J0i2zU0"
      },
      "source": [
        "class BidirectionalLSTMClassifier(torch.nn.Module):\n",
        "    def __init__(self, num_classes, hidden_size, num_layers):\n",
        "        super().__init__()\n",
        "        self.num_layers = num_layers\n",
        "        self.LSTM = LSTM(50, hidden_size, num_layers=num_layers,\n",
        "                         batch_first=True, bidirectional=True)\n",
        "        self.linear = Linear(2 * hidden_size, num_classes)\n",
        "        self.softmax = Softmax(dim=1)\n",
        "\n",
        "    def forward(self, x):\n",
        "        _, (h_n, _) = self.LSTM(x)\n",
        "        h_forward = h_n[2 * self.num_layers - 2]\n",
        "        h_backward = h_n[2 * self.num_layers - 1]\n",
        "        y = self.linear(torch.cat((h_forward, h_backward), 1))\n",
        "        return self.softmax(y)"
      ],
      "execution_count": 12,
      "outputs": []
    },
    {
      "cell_type": "code",
      "metadata": {
        "id": "nV4BtodC6D9o"
      },
      "source": [
        "class CNNClassifier(torch.nn.Module):\n",
        "    def __init__(self, num_classes, in_channels, out_channels, kernel_heights, pad=0, stri=1, embed_dim=50, drop=0.2):\n",
        "        super().__init__()\n",
        "        self.conv1 = Conv2d(in_channels, out_channels[0], kernel_size=(kernel_heights[0], embed_dim), stride=stri, padding=pad)\n",
        "        self.conv2 = Conv2d(in_channels, out_channels[1], kernel_size=(kernel_heights[1], embed_dim), stride=stri, padding=pad)\n",
        "        self.conv3 = Conv2d(in_channels, out_channels[2], kernel_size=(kernel_heights[2], embed_dim), stride=stri, padding=pad)\n",
        "        self.drop = Dropout(drop)\n",
        "        self.fc = Linear(sum(out_channels), num_classes)\n",
        "        self.soft = Softmax(dim=1)\n",
        "    \n",
        "    def _conv_n_maxpool_1d(self, input, conv_layer):\n",
        "\n",
        "        conved = conv_layer(input) # conved.size() = (batch_size, out_channels[0], dim, 1)\n",
        "        reld = F.relu(conved.squeeze(3)) # reld.size() = (batch_size, out_channels[0], dim)\n",
        "        max_out = F.max_pool1d(reld, reld.size()[2]).squeeze(2) # maxpool_out.size() = (batch_size, out_channels[0])\n",
        "\n",
        "        return max_out\n",
        "\n",
        "    def forward(self, x):\n",
        "        # x.size() = (batch_size, num_seq, embed_dim)\n",
        "        x = x.unsqueeze(1) # x.size() = (batch_size, 1, num_seq, embed_dim)\n",
        "\n",
        "        out_1 = self._conv_n_maxpool_1d(x, self.conv1)\n",
        "        out_2 = self._conv_n_maxpool_1d(x, self.conv2)\n",
        "        out_3 = self._conv_n_maxpool_1d(x, self.conv3)\n",
        "\n",
        "        cat_out = torch.cat((out_1, out_2, out_3), dim=1)\n",
        "\n",
        "        drop = self.drop(cat_out)\n",
        "        fc_out = self.fc(drop)\n",
        "        out = self.soft(fc_out)\n",
        "\n",
        "        return out"
      ],
      "execution_count": 13,
      "outputs": []
    },
    {
      "cell_type": "code",
      "metadata": {
        "colab": {
          "base_uri": "https://localhost:8080/"
        },
        "id": "VEcnOh3U2sRO",
        "outputId": "7a52377e-de55-44fd-8207-a52c6820594a"
      },
      "source": [
        "#model = BidirectionalLSTMClassifier(num_classes, 64, 2).to(device)\n",
        "model = CNNClassifier(num_classes, in_channels=1, out_channels=(3,5,7), kernel_heights=(2,3,4)).to(device)\n",
        "optim = Adam(model.parameters())\n",
        "\n",
        "for epoch in range(3):\n",
        "    train(model, optim, train_loader)"
      ],
      "execution_count": 14,
      "outputs": [
        {
          "output_type": "stream",
          "name": "stderr",
          "text": [
            "Epoch [1/3]: 100%|██████████| 1875/1875 [00:30<00:00, 61.95it/s, accuracy=0.854, loss=tensor(0.8607, device='cuda:0', grad_fn=<NllLossBackward0>)]\n",
            "Epoch [2/3]: 100%|██████████| 1875/1875 [00:30<00:00, 61.64it/s, accuracy=0.876, loss=tensor(0.8701, device='cuda:0', grad_fn=<NllLossBackward0>)]\n",
            "Epoch [3/3]: 100%|██████████| 1875/1875 [00:30<00:00, 61.91it/s, accuracy=0.873, loss=tensor(0.8291, device='cuda:0', grad_fn=<NllLossBackward0>)]\n"
          ]
        }
      ]
    },
    {
      "cell_type": "code",
      "metadata": {
        "colab": {
          "base_uri": "https://localhost:8080/"
        },
        "id": "XDQJsijIB9fH",
        "outputId": "a224ee0f-facd-4ec9-c4c3-6b9942eebfbc"
      },
      "source": [
        "test_accuracy = evaluate(model, test_loader)\n",
        "print(f'Test accuracy: {test_accuracy}')"
      ],
      "execution_count": 15,
      "outputs": [
        {
          "output_type": "stream",
          "name": "stdout",
          "text": [
            "Test accuracy: 0.8871052631578947\n"
          ]
        }
      ]
    },
    {
      "cell_type": "code",
      "metadata": {
        "id": "X1L0b6ksIsu-",
        "colab": {
          "base_uri": "https://localhost:8080/"
        },
        "outputId": "e47dc9b1-29d0-4f0d-ca16-2ccba43e2698"
      },
      "source": [
        "!pip install textattack[tensorflow]"
      ],
      "execution_count": 16,
      "outputs": [
        {
          "output_type": "stream",
          "name": "stdout",
          "text": [
            "Requirement already satisfied: textattack[tensorflow] in /usr/local/lib/python3.7/dist-packages (0.3.4)\n",
            "Requirement already satisfied: editdistance in /usr/local/lib/python3.7/dist-packages (from textattack[tensorflow]) (0.5.3)\n",
            "Requirement already satisfied: flair in /usr/local/lib/python3.7/dist-packages (from textattack[tensorflow]) (0.10)\n",
            "Requirement already satisfied: pandas>=1.0.1 in /usr/local/lib/python3.7/dist-packages (from textattack[tensorflow]) (1.1.5)\n",
            "Requirement already satisfied: numpy>=1.19.2 in /usr/local/lib/python3.7/dist-packages (from textattack[tensorflow]) (1.19.5)\n",
            "Requirement already satisfied: lemminflect in /usr/local/lib/python3.7/dist-packages (from textattack[tensorflow]) (0.2.2)\n",
            "Requirement already satisfied: tqdm<4.50.0,>=4.27 in /usr/local/lib/python3.7/dist-packages (from textattack[tensorflow]) (4.49.0)\n",
            "Requirement already satisfied: language-tool-python in /usr/local/lib/python3.7/dist-packages (from textattack[tensorflow]) (2.6.2)\n",
            "Requirement already satisfied: word2number in /usr/local/lib/python3.7/dist-packages (from textattack[tensorflow]) (1.1)\n",
            "Requirement already satisfied: lru-dict in /usr/local/lib/python3.7/dist-packages (from textattack[tensorflow]) (1.1.7)\n",
            "Requirement already satisfied: PySocks!=1.5.7,>=1.5.6 in /usr/local/lib/python3.7/dist-packages (from textattack[tensorflow]) (1.7.1)\n",
            "Requirement already satisfied: datasets in /usr/local/lib/python3.7/dist-packages (from textattack[tensorflow]) (1.2.1)\n",
            "Requirement already satisfied: scipy>=1.4.1 in /usr/local/lib/python3.7/dist-packages (from textattack[tensorflow]) (1.4.1)\n",
            "Requirement already satisfied: num2words in /usr/local/lib/python3.7/dist-packages (from textattack[tensorflow]) (0.5.10)\n",
            "Requirement already satisfied: torch!=1.8,>=1.7.0 in /usr/local/lib/python3.7/dist-packages (from textattack[tensorflow]) (1.10.0+cu111)\n",
            "Requirement already satisfied: nltk in /usr/local/lib/python3.7/dist-packages (from textattack[tensorflow]) (3.2.5)\n",
            "Requirement already satisfied: more-itertools in /usr/local/lib/python3.7/dist-packages (from textattack[tensorflow]) (8.8.0)\n",
            "Requirement already satisfied: terminaltables in /usr/local/lib/python3.7/dist-packages (from textattack[tensorflow]) (3.1.10)\n",
            "Requirement already satisfied: filelock in /usr/local/lib/python3.7/dist-packages (from textattack[tensorflow]) (3.4.0)\n",
            "Requirement already satisfied: bert-score>=0.3.5 in /usr/local/lib/python3.7/dist-packages (from textattack[tensorflow]) (0.3.10)\n",
            "Requirement already satisfied: transformers>=3.3.0 in /usr/local/lib/python3.7/dist-packages (from textattack[tensorflow]) (4.12.5)\n",
            "Requirement already satisfied: tensorflow-text>=2 in /usr/local/lib/python3.7/dist-packages (from textattack[tensorflow]) (2.5.0)\n",
            "Requirement already satisfied: tensorflow==2.5.0 in /usr/local/lib/python3.7/dist-packages (from textattack[tensorflow]) (2.5.0)\n",
            "Requirement already satisfied: tensorflow-hub in /usr/local/lib/python3.7/dist-packages (from textattack[tensorflow]) (0.12.0)\n",
            "Requirement already satisfied: tensorboardX in /usr/local/lib/python3.7/dist-packages (from textattack[tensorflow]) (2.4.1)\n",
            "Requirement already satisfied: tensorflow-estimator==2.5.0 in /usr/local/lib/python3.7/dist-packages (from textattack[tensorflow]) (2.5.0)\n",
            "Requirement already satisfied: six~=1.15.0 in /usr/local/lib/python3.7/dist-packages (from tensorflow==2.5.0->textattack[tensorflow]) (1.15.0)\n",
            "Requirement already satisfied: google-pasta~=0.2 in /usr/local/lib/python3.7/dist-packages (from tensorflow==2.5.0->textattack[tensorflow]) (0.2.0)\n",
            "Requirement already satisfied: keras-nightly~=2.5.0.dev in /usr/local/lib/python3.7/dist-packages (from tensorflow==2.5.0->textattack[tensorflow]) (2.5.0.dev2021032900)\n",
            "Requirement already satisfied: absl-py~=0.10 in /usr/local/lib/python3.7/dist-packages (from tensorflow==2.5.0->textattack[tensorflow]) (0.12.0)\n",
            "Requirement already satisfied: astunparse~=1.6.3 in /usr/local/lib/python3.7/dist-packages (from tensorflow==2.5.0->textattack[tensorflow]) (1.6.3)\n",
            "Requirement already satisfied: typing-extensions~=3.7.4 in /usr/local/lib/python3.7/dist-packages (from tensorflow==2.5.0->textattack[tensorflow]) (3.7.4.3)\n",
            "Requirement already satisfied: flatbuffers~=1.12.0 in /usr/local/lib/python3.7/dist-packages (from tensorflow==2.5.0->textattack[tensorflow]) (1.12)\n",
            "Requirement already satisfied: wrapt~=1.12.1 in /usr/local/lib/python3.7/dist-packages (from tensorflow==2.5.0->textattack[tensorflow]) (1.12.1)\n",
            "Requirement already satisfied: wheel~=0.35 in /usr/local/lib/python3.7/dist-packages (from tensorflow==2.5.0->textattack[tensorflow]) (0.37.0)\n",
            "Requirement already satisfied: tensorboard~=2.5 in /usr/local/lib/python3.7/dist-packages (from tensorflow==2.5.0->textattack[tensorflow]) (2.7.0)\n",
            "Requirement already satisfied: opt-einsum~=3.3.0 in /usr/local/lib/python3.7/dist-packages (from tensorflow==2.5.0->textattack[tensorflow]) (3.3.0)\n",
            "Requirement already satisfied: grpcio~=1.34.0 in /usr/local/lib/python3.7/dist-packages (from tensorflow==2.5.0->textattack[tensorflow]) (1.34.1)\n",
            "Requirement already satisfied: gast==0.4.0 in /usr/local/lib/python3.7/dist-packages (from tensorflow==2.5.0->textattack[tensorflow]) (0.4.0)\n",
            "Requirement already satisfied: protobuf>=3.9.2 in /usr/local/lib/python3.7/dist-packages (from tensorflow==2.5.0->textattack[tensorflow]) (3.17.3)\n",
            "Requirement already satisfied: keras-preprocessing~=1.1.2 in /usr/local/lib/python3.7/dist-packages (from tensorflow==2.5.0->textattack[tensorflow]) (1.1.2)\n",
            "Requirement already satisfied: termcolor~=1.1.0 in /usr/local/lib/python3.7/dist-packages (from tensorflow==2.5.0->textattack[tensorflow]) (1.1.0)\n",
            "Requirement already satisfied: h5py~=3.1.0 in /usr/local/lib/python3.7/dist-packages (from tensorflow==2.5.0->textattack[tensorflow]) (3.1.0)\n",
            "Requirement already satisfied: requests in /usr/local/lib/python3.7/dist-packages (from bert-score>=0.3.5->textattack[tensorflow]) (2.23.0)\n",
            "Requirement already satisfied: packaging>=20.9 in /usr/local/lib/python3.7/dist-packages (from bert-score>=0.3.5->textattack[tensorflow]) (21.3)\n",
            "Requirement already satisfied: matplotlib in /usr/local/lib/python3.7/dist-packages (from bert-score>=0.3.5->textattack[tensorflow]) (3.2.2)\n",
            "Requirement already satisfied: cached-property in /usr/local/lib/python3.7/dist-packages (from h5py~=3.1.0->tensorflow==2.5.0->textattack[tensorflow]) (1.5.2)\n",
            "Requirement already satisfied: pyparsing!=3.0.5,>=2.0.2 in /usr/local/lib/python3.7/dist-packages (from packaging>=20.9->bert-score>=0.3.5->textattack[tensorflow]) (3.0.6)\n",
            "Requirement already satisfied: pytz>=2017.2 in /usr/local/lib/python3.7/dist-packages (from pandas>=1.0.1->textattack[tensorflow]) (2018.9)\n",
            "Requirement already satisfied: python-dateutil>=2.7.3 in /usr/local/lib/python3.7/dist-packages (from pandas>=1.0.1->textattack[tensorflow]) (2.8.2)\n",
            "Requirement already satisfied: google-auth-oauthlib<0.5,>=0.4.1 in /usr/local/lib/python3.7/dist-packages (from tensorboard~=2.5->tensorflow==2.5.0->textattack[tensorflow]) (0.4.6)\n",
            "Requirement already satisfied: werkzeug>=0.11.15 in /usr/local/lib/python3.7/dist-packages (from tensorboard~=2.5->tensorflow==2.5.0->textattack[tensorflow]) (1.0.1)\n",
            "Requirement already satisfied: setuptools>=41.0.0 in /usr/local/lib/python3.7/dist-packages (from tensorboard~=2.5->tensorflow==2.5.0->textattack[tensorflow]) (57.4.0)\n",
            "Requirement already satisfied: markdown>=2.6.8 in /usr/local/lib/python3.7/dist-packages (from tensorboard~=2.5->tensorflow==2.5.0->textattack[tensorflow]) (3.3.6)\n",
            "Requirement already satisfied: google-auth<3,>=1.6.3 in /usr/local/lib/python3.7/dist-packages (from tensorboard~=2.5->tensorflow==2.5.0->textattack[tensorflow]) (1.35.0)\n",
            "Requirement already satisfied: tensorboard-data-server<0.7.0,>=0.6.0 in /usr/local/lib/python3.7/dist-packages (from tensorboard~=2.5->tensorflow==2.5.0->textattack[tensorflow]) (0.6.1)\n",
            "Requirement already satisfied: tensorboard-plugin-wit>=1.6.0 in /usr/local/lib/python3.7/dist-packages (from tensorboard~=2.5->tensorflow==2.5.0->textattack[tensorflow]) (1.8.0)\n",
            "Requirement already satisfied: rsa<5,>=3.1.4 in /usr/local/lib/python3.7/dist-packages (from google-auth<3,>=1.6.3->tensorboard~=2.5->tensorflow==2.5.0->textattack[tensorflow]) (4.8)\n",
            "Requirement already satisfied: pyasn1-modules>=0.2.1 in /usr/local/lib/python3.7/dist-packages (from google-auth<3,>=1.6.3->tensorboard~=2.5->tensorflow==2.5.0->textattack[tensorflow]) (0.2.8)\n",
            "Requirement already satisfied: cachetools<5.0,>=2.0.0 in /usr/local/lib/python3.7/dist-packages (from google-auth<3,>=1.6.3->tensorboard~=2.5->tensorflow==2.5.0->textattack[tensorflow]) (4.2.4)\n",
            "Requirement already satisfied: requests-oauthlib>=0.7.0 in /usr/local/lib/python3.7/dist-packages (from google-auth-oauthlib<0.5,>=0.4.1->tensorboard~=2.5->tensorflow==2.5.0->textattack[tensorflow]) (1.3.0)\n",
            "Requirement already satisfied: importlib-metadata>=4.4 in /usr/local/lib/python3.7/dist-packages (from markdown>=2.6.8->tensorboard~=2.5->tensorflow==2.5.0->textattack[tensorflow]) (4.8.2)\n",
            "Requirement already satisfied: zipp>=0.5 in /usr/local/lib/python3.7/dist-packages (from importlib-metadata>=4.4->markdown>=2.6.8->tensorboard~=2.5->tensorflow==2.5.0->textattack[tensorflow]) (3.6.0)\n",
            "Requirement already satisfied: pyasn1<0.5.0,>=0.4.6 in /usr/local/lib/python3.7/dist-packages (from pyasn1-modules>=0.2.1->google-auth<3,>=1.6.3->tensorboard~=2.5->tensorflow==2.5.0->textattack[tensorflow]) (0.4.8)\n",
            "Requirement already satisfied: chardet<4,>=3.0.2 in /usr/local/lib/python3.7/dist-packages (from requests->bert-score>=0.3.5->textattack[tensorflow]) (3.0.4)\n",
            "Requirement already satisfied: idna<3,>=2.5 in /usr/local/lib/python3.7/dist-packages (from requests->bert-score>=0.3.5->textattack[tensorflow]) (2.10)\n",
            "Requirement already satisfied: certifi>=2017.4.17 in /usr/local/lib/python3.7/dist-packages (from requests->bert-score>=0.3.5->textattack[tensorflow]) (2021.10.8)\n",
            "Requirement already satisfied: urllib3!=1.25.0,!=1.25.1,<1.26,>=1.21.1 in /usr/local/lib/python3.7/dist-packages (from requests->bert-score>=0.3.5->textattack[tensorflow]) (1.24.3)\n",
            "Requirement already satisfied: oauthlib>=3.0.0 in /usr/local/lib/python3.7/dist-packages (from requests-oauthlib>=0.7.0->google-auth-oauthlib<0.5,>=0.4.1->tensorboard~=2.5->tensorflow==2.5.0->textattack[tensorflow]) (3.1.1)\n",
            "Requirement already satisfied: tokenizers<0.11,>=0.10.1 in /usr/local/lib/python3.7/dist-packages (from transformers>=3.3.0->textattack[tensorflow]) (0.10.3)\n",
            "Requirement already satisfied: pyyaml>=5.1 in /usr/local/lib/python3.7/dist-packages (from transformers>=3.3.0->textattack[tensorflow]) (6.0)\n",
            "Requirement already satisfied: huggingface-hub<1.0,>=0.1.0 in /usr/local/lib/python3.7/dist-packages (from transformers>=3.3.0->textattack[tensorflow]) (0.2.1)\n",
            "Requirement already satisfied: sacremoses in /usr/local/lib/python3.7/dist-packages (from transformers>=3.3.0->textattack[tensorflow]) (0.0.46)\n",
            "Requirement already satisfied: regex!=2019.12.17 in /usr/local/lib/python3.7/dist-packages (from transformers>=3.3.0->textattack[tensorflow]) (2019.12.20)\n",
            "Requirement already satisfied: pyarrow>=0.17.1 in /usr/local/lib/python3.7/dist-packages (from datasets->textattack[tensorflow]) (3.0.0)\n",
            "Requirement already satisfied: multiprocess in /usr/local/lib/python3.7/dist-packages (from datasets->textattack[tensorflow]) (0.70.12.2)\n",
            "Requirement already satisfied: dill in /usr/local/lib/python3.7/dist-packages (from datasets->textattack[tensorflow]) (0.3.4)\n",
            "Requirement already satisfied: xxhash in /usr/local/lib/python3.7/dist-packages (from datasets->textattack[tensorflow]) (2.0.2)\n",
            "Requirement already satisfied: gdown==3.12.2 in /usr/local/lib/python3.7/dist-packages (from flair->textattack[tensorflow]) (3.12.2)\n",
            "Requirement already satisfied: sentencepiece==0.1.95 in /usr/local/lib/python3.7/dist-packages (from flair->textattack[tensorflow]) (0.1.95)\n",
            "Requirement already satisfied: langdetect in /usr/local/lib/python3.7/dist-packages (from flair->textattack[tensorflow]) (1.0.9)\n",
            "Requirement already satisfied: konoha<5.0.0,>=4.0.0 in /usr/local/lib/python3.7/dist-packages (from flair->textattack[tensorflow]) (4.6.3)\n",
            "Requirement already satisfied: sqlitedict>=1.6.0 in /usr/local/lib/python3.7/dist-packages (from flair->textattack[tensorflow]) (1.7.0)\n",
            "Requirement already satisfied: tabulate in /usr/local/lib/python3.7/dist-packages (from flair->textattack[tensorflow]) (0.8.9)\n",
            "Requirement already satisfied: bpemb>=0.3.2 in /usr/local/lib/python3.7/dist-packages (from flair->textattack[tensorflow]) (0.3.3)\n",
            "Requirement already satisfied: conllu>=4.0 in /usr/local/lib/python3.7/dist-packages (from flair->textattack[tensorflow]) (4.4.1)\n",
            "Requirement already satisfied: deprecated>=1.2.4 in /usr/local/lib/python3.7/dist-packages (from flair->textattack[tensorflow]) (1.2.13)\n",
            "Requirement already satisfied: scikit-learn>=0.21.3 in /usr/local/lib/python3.7/dist-packages (from flair->textattack[tensorflow]) (1.0.1)\n",
            "Requirement already satisfied: janome in /usr/local/lib/python3.7/dist-packages (from flair->textattack[tensorflow]) (0.4.1)\n",
            "Requirement already satisfied: segtok>=1.5.7 in /usr/local/lib/python3.7/dist-packages (from flair->textattack[tensorflow]) (1.5.10)\n",
            "Requirement already satisfied: wikipedia-api in /usr/local/lib/python3.7/dist-packages (from flair->textattack[tensorflow]) (0.5.4)\n",
            "Requirement already satisfied: lxml in /usr/local/lib/python3.7/dist-packages (from flair->textattack[tensorflow]) (4.2.6)\n",
            "Requirement already satisfied: mpld3==0.3 in /usr/local/lib/python3.7/dist-packages (from flair->textattack[tensorflow]) (0.3)\n",
            "Requirement already satisfied: gensim>=3.4.0 in /usr/local/lib/python3.7/dist-packages (from flair->textattack[tensorflow]) (3.6.0)\n",
            "Requirement already satisfied: ftfy in /usr/local/lib/python3.7/dist-packages (from flair->textattack[tensorflow]) (6.0.3)\n",
            "Requirement already satisfied: smart-open>=1.2.1 in /usr/local/lib/python3.7/dist-packages (from gensim>=3.4.0->flair->textattack[tensorflow]) (5.2.1)\n",
            "Requirement already satisfied: overrides<4.0.0,>=3.0.0 in /usr/local/lib/python3.7/dist-packages (from konoha<5.0.0,>=4.0.0->flair->textattack[tensorflow]) (3.1.0)\n",
            "Requirement already satisfied: kiwisolver>=1.0.1 in /usr/local/lib/python3.7/dist-packages (from matplotlib->bert-score>=0.3.5->textattack[tensorflow]) (1.3.2)\n",
            "Requirement already satisfied: cycler>=0.10 in /usr/local/lib/python3.7/dist-packages (from matplotlib->bert-score>=0.3.5->textattack[tensorflow]) (0.11.0)\n",
            "Requirement already satisfied: joblib>=0.11 in /usr/local/lib/python3.7/dist-packages (from scikit-learn>=0.21.3->flair->textattack[tensorflow]) (1.1.0)\n",
            "Requirement already satisfied: threadpoolctl>=2.0.0 in /usr/local/lib/python3.7/dist-packages (from scikit-learn>=0.21.3->flair->textattack[tensorflow]) (3.0.0)\n",
            "Requirement already satisfied: wcwidth in /usr/local/lib/python3.7/dist-packages (from ftfy->flair->textattack[tensorflow]) (0.2.5)\n",
            "Requirement already satisfied: docopt>=0.6.2 in /usr/local/lib/python3.7/dist-packages (from num2words->textattack[tensorflow]) (0.6.2)\n",
            "Requirement already satisfied: click in /usr/local/lib/python3.7/dist-packages (from sacremoses->transformers>=3.3.0->textattack[tensorflow]) (7.1.2)\n"
          ]
        }
      ]
    },
    {
      "cell_type": "code",
      "metadata": {
        "id": "YbFgUUFVIdLi"
      },
      "source": [
        "import textattack\n",
        "import torchtext\n",
        "\n",
        "class CustomPyTorchModelWrapper(textattack.models.wrappers.model_wrapper.ModelWrapper):\n",
        "    def __init__(self, model, outdim, vocab=torchtext.vocab.GloVe(\"6B\", dim=50), tokenizer=torchtext.data.utils.get_tokenizer(\"basic_english\")):\n",
        "        self.model = model\n",
        "        self.tokenizer = tokenizer\n",
        "        self.outdim = outdim\n",
        "        self.vocab = vocab\n",
        "    \n",
        "    def __call__(self, text_input_list):\n",
        "        preds = torch.zeros(size=(len(text_input_list),self.outdim))\n",
        "        for i, review in enumerate(text_input_list):\n",
        "            tokens = self.tokenizer(review)\n",
        "            input = self.vocab.get_vecs_by_tokens(tokens)\n",
        "            with torch.no_grad():\n",
        "                prediction = self.model(torch.unsqueeze(input,dim=0).to(device))\n",
        "                preds[i] = prediction\n",
        "\n",
        "        return preds"
      ],
      "execution_count": 19,
      "outputs": []
    },
    {
      "cell_type": "code",
      "metadata": {
        "colab": {
          "base_uri": "https://localhost:8080/"
        },
        "id": "jalmCgQYI8cx",
        "outputId": "b57653cd-d785-4c52-cc4d-67b0a6968c90"
      },
      "source": [
        "model_wrapper = CustomPyTorchModelWrapper(model, outdim=num_classes)\n",
        "\n",
        "dataset = textattack.datasets.HuggingFaceDataset(\"ag_news\", split=\"test\")\n",
        "#attack = textattack.attack_recipes.faster_genetic_algorithm_jia_2019.FasterGeneticAlgorithmJia2019.build(model_wrapper)\n",
        "attack = textattack.attack_recipes.pwws_ren_2019.PWWSRen2019.build(model_wrapper)\n",
        "attack_args = textattack.AttackArgs(num_examples=100)\n",
        "attacker = textattack.Attacker(attack, dataset, attack_args)\n",
        "attacker.attack_dataset()"
      ],
      "execution_count": 21,
      "outputs": [
        {
          "output_type": "stream",
          "name": "stderr",
          "text": [
            "Using custom data configuration default\n",
            "Reusing dataset ag_news (/root/.cache/huggingface/datasets/ag_news/default/0.0.0/fb5c5e74a110037311ef5e904583ce9f8b9fbc1354290f97b4929f01b3f48b1a)\n",
            "textattack: Loading \u001b[94mdatasets\u001b[0m dataset \u001b[94mag_news\u001b[0m, split \u001b[94mtest\u001b[0m.\n",
            "textattack: Unknown if model of class <class '__main__.CNNClassifier'> compatible with goal function <class 'textattack.goal_functions.classification.untargeted_classification.UntargetedClassification'>.\n",
            "\n",
            "  0%|          | 0/100 [00:00<?, ?it/s]\u001b[A"
          ]
        },
        {
          "output_type": "stream",
          "name": "stdout",
          "text": [
            "Attack(\n",
            "  (search_method): GreedyWordSwapWIR(\n",
            "    (wir_method):  weighted-saliency\n",
            "  )\n",
            "  (goal_function):  UntargetedClassification\n",
            "  (transformation):  WordSwapWordNet\n",
            "  (constraints): \n",
            "    (0): RepeatModification\n",
            "    (1): StopwordModification\n",
            "  (is_black_box):  True\n",
            ") \n",
            "\n"
          ]
        },
        {
          "output_type": "stream",
          "name": "stderr",
          "text": [
            "\n",
            "  1%|          | 1/100 [00:00<00:25,  3.92it/s]\u001b[A\n",
            "[Succeeded / Failed / Skipped / Total] 1 / 0 / 0 / 1:   1%|          | 1/100 [00:00<00:26,  3.73it/s]\u001b[A"
          ]
        },
        {
          "output_type": "stream",
          "name": "stdout",
          "text": [
            "--------------------------------------------- Result 1 ---------------------------------------------\n",
            "[[Business (100%)]] --> [[World (94%)]]\n",
            "\n",
            "Fears for T N pension after talks Unions representing workers at Turner   Newall say they are 'disappointed' after talks with stricken [[parent]] [[firm]] Federal Mogul.\n",
            "\n",
            "Fears for T N pension after talks Unions representing workers at Turner   Newall say they are 'disappointed' after talks with stricken [[nurture]] [[loyal]] Federal Mogul.\n",
            "\n",
            "\n"
          ]
        },
        {
          "output_type": "stream",
          "name": "stderr",
          "text": [
            "\n",
            "[Succeeded / Failed / Skipped / Total] 1 / 0 / 0 / 1:   2%|▏         | 2/100 [00:00<00:40,  2.44it/s]\u001b[A\n",
            "[Succeeded / Failed / Skipped / Total] 2 / 0 / 0 / 2:   2%|▏         | 2/100 [00:00<00:40,  2.41it/s]\u001b[A"
          ]
        },
        {
          "output_type": "stream",
          "name": "stdout",
          "text": [
            "--------------------------------------------- Result 2 ---------------------------------------------\n",
            "[[Sci/tech (100%)]] --> [[World (79%)]]\n",
            "\n",
            "The Race is On: Second Private Team Sets Launch Date for Human Spaceflight (SPACE.com) SPACE.com - TORONTO, Canada -- A second\\team of rocketeers competing for the  #36;10 million Ansari [[X]] [[Prize]], a contest for\\privately funded suborbital space flight, has officially announced the first\\launch date for its manned rocket.\n",
            "\n",
            "The Race is On: Second Private Team Sets Launch Date for Human Spaceflight (SPACE.com) SPACE.com - TORONTO, Canada -- A second\\team of rocketeers competing for the  #36;10 million Ansari [[ex]] [[prime]], a contest for\\privately funded suborbital space flight, has officially announced the first\\launch date for its manned rocket.\n",
            "\n",
            "\n"
          ]
        },
        {
          "output_type": "stream",
          "name": "stderr",
          "text": [
            "\n",
            "[Succeeded / Failed / Skipped / Total] 2 / 0 / 0 / 2:   3%|▎         | 3/100 [00:01<00:42,  2.29it/s]\u001b[A\n",
            "[Succeeded / Failed / Skipped / Total] 3 / 0 / 0 / 3:   3%|▎         | 3/100 [00:01<00:42,  2.27it/s]\u001b[A"
          ]
        },
        {
          "output_type": "stream",
          "name": "stdout",
          "text": [
            "--------------------------------------------- Result 3 ---------------------------------------------\n",
            "[[Sci/tech (97%)]] --> [[Sports (72%)]]\n",
            "\n",
            "Ky. Company Wins Grant to [[Study]] Peptides (AP) AP - A company founded by a chemistry researcher at the University of Louisville won a grant to develop a method of producing better peptides, which are short chains of amino acids, the building blocks of proteins.\n",
            "\n",
            "Ky. Company Wins Grant to [[discipline]] Peptides (AP) AP - A company founded by a chemistry researcher at the University of Louisville won a grant to develop a method of producing better peptides, which are short chains of amino acids, the building blocks of proteins.\n",
            "\n",
            "\n"
          ]
        },
        {
          "output_type": "stream",
          "name": "stderr",
          "text": [
            "\n",
            "[Succeeded / Failed / Skipped / Total] 3 / 0 / 0 / 3:   4%|▍         | 4/100 [00:02<00:52,  1.81it/s]\u001b[A\n",
            "[Succeeded / Failed / Skipped / Total] 4 / 0 / 0 / 4:   4%|▍         | 4/100 [00:02<00:53,  1.80it/s]\u001b[A\n",
            "[Succeeded / Failed / Skipped / Total] 4 / 0 / 1 / 5:   5%|▌         | 5/100 [00:02<00:42,  2.25it/s]\u001b[A"
          ]
        },
        {
          "output_type": "stream",
          "name": "stdout",
          "text": [
            "--------------------------------------------- Result 4 ---------------------------------------------\n",
            "[[Sci/tech (100%)]] --> [[Sports (40%)]]\n",
            "\n",
            "Prediction Unit [[Helps]] [[Forecast]] Wildfires (AP) AP - It's barely dawn when Mike Fitzpatrick starts his shift with a blur of colorful maps, figures and endless charts, but already he knows what the day will bring. Lightning will strike in [[places]] he expects. Winds will pick up, moist places will dry and flames will roar.\n",
            "\n",
            "Prediction Unit [[supporter]] [[bode]] Wildfires (AP) AP - It's barely dawn when Mike Fitzpatrick starts his shift with a blur of colorful maps, figures and endless charts, but already he knows what the day will bring. Lightning will strike in [[piazza]] he expects. Winds will pick up, moist places will dry and flames will roar.\n",
            "\n",
            "\n",
            "--------------------------------------------- Result 5 ---------------------------------------------\n",
            "[[World (84%)]] --> [[[SKIPPED]]]\n",
            "\n",
            "Calif. Aims to Limit Farm-Related Smog (AP) AP - Southern California's smog-fighting agency went after emissions of the bovine variety Friday, adopting the nation's first rules to reduce air pollution from dairy cow manure.\n",
            "\n",
            "\n"
          ]
        },
        {
          "output_type": "stream",
          "name": "stderr",
          "text": [
            "\n",
            "[Succeeded / Failed / Skipped / Total] 4 / 0 / 1 / 5:   6%|▌         | 6/100 [00:04<01:04,  1.46it/s]\u001b[A\n",
            "[Succeeded / Failed / Skipped / Total] 5 / 0 / 1 / 6:   6%|▌         | 6/100 [00:04<01:04,  1.45it/s]\u001b[A"
          ]
        },
        {
          "output_type": "stream",
          "name": "stdout",
          "text": [
            "--------------------------------------------- Result 6 ---------------------------------------------\n",
            "[[Sci/tech (100%)]] --> [[World (51%)]]\n",
            "\n",
            "[[Open]] Letter Against British Copyright Indoctrination in Schools The British Department for Education and [[Skills]] (DfES) recently launched a \"Music Manifesto\" campaign, with the ostensible intention of educating the next generation of British musicians. Unfortunately, they also teamed up with the music [[industry]] (EMI, and various artists) to make this popular. EMI has apparently negotiated their [[end]] well, so that children in our schools will now be indoctrinated about the illegality of downloading music.The ignorance and audacity of this got to me a little, so I wrote an open letter to the DfES about it. Unfortunately, it's pedantic, as I suppose you have to be when [[writing]] to goverment [[representatives]]. But I hope you find it useful, and perhaps feel inspired to do something similar, if or when the same thing has happened in your area.\n",
            "\n",
            "[[undefended]] Letter Against British Copyright Indoctrination in Schools The British Department for Education and [[acquisition]] (DfES) recently launched a \"Music Manifesto\" campaign, with the ostensible intention of educating the next generation of British musicians. Unfortunately, they also teamed up with the music [[industriousness]] (EMI, and various artists) to make this popular. EMI has apparently negotiated their [[cease]] well, so that children in our schools will now be indoctrinated about the illegality of downloading music.The ignorance and audacity of this got to me a little, so I wrote an open letter to the DfES about it. Unfortunately, it's pedantic, as I suppose you have to be when [[indite]] to goverment [[congresswoman]]. But I hope you find it useful, and perhaps feel inspired to do something similar, if or when the same thing has happened in your area.\n",
            "\n",
            "\n"
          ]
        },
        {
          "output_type": "stream",
          "name": "stderr",
          "text": [
            "\n",
            "[Succeeded / Failed / Skipped / Total] 5 / 1 / 1 / 7:   7%|▋         | 7/100 [00:05<01:19,  1.17it/s]\u001b[A"
          ]
        },
        {
          "output_type": "stream",
          "name": "stdout",
          "text": [
            "--------------------------------------------- Result 7 ---------------------------------------------\n",
            "[[Sci/tech (100%)]] --> [[[FAILED]]]\n",
            "\n",
            "Loosing the War on Terrorism \\\\\"Sven Jaschan, self-confessed author of the Netsky and Sasser viruses, is\\responsible for 70 percent of virus infections in 2004, according to a six-month\\virus roundup published Wednesday by antivirus company Sophos.\"\\\\\"The 18-year-old Jaschan was taken into custody in Germany in May by police who\\said he had admitted programming both the Netsky and Sasser worms, something\\experts at Microsoft confirmed. (A Microsoft antivirus reward program led to the\\teenager's arrest.) During the five months preceding Jaschan's capture, there\\were at least 25 variants of Netsky and one of the port-scanning network worm\\Sasser.\"\\\\\"Graham Cluley, senior technology consultant at Sophos, said it was staggeri ...\\\\\n",
            "\n",
            "\n"
          ]
        },
        {
          "output_type": "stream",
          "name": "stderr",
          "text": [
            "\n",
            "[Succeeded / Failed / Skipped / Total] 5 / 1 / 1 / 7:   8%|▊         | 8/100 [00:09<01:45,  1.15s/it]\u001b[A\n",
            "[Succeeded / Failed / Skipped / Total] 5 / 2 / 1 / 8:   8%|▊         | 8/100 [00:09<01:45,  1.15s/it]\u001b[A\n",
            "[Succeeded / Failed / Skipped / Total] 5 / 2 / 2 / 9:   9%|▉         | 9/100 [00:09<01:33,  1.02s/it]\u001b[A"
          ]
        },
        {
          "output_type": "stream",
          "name": "stdout",
          "text": [
            "--------------------------------------------- Result 8 ---------------------------------------------\n",
            "[[Sci/tech (100%)]] --> [[[FAILED]]]\n",
            "\n",
            "FOAFKey: FOAF, PGP, Key Distribution, and Bloom Filters \\\\FOAF/LOAF  and bloom filters have a lot of interesting properties for social\\network and whitelist distribution.\\\\I think we can go one level higher though and include GPG/OpenPGP key\\fingerpring distribution in the FOAF file for simple web-of-trust based key\\distribution.\\\\What if we used FOAF and included the PGP key fingerprint(s) for identities?\\This could mean a lot.  You include the PGP key fingerprints within the FOAF\\file of your direct friends and then include a bloom filter of the PGP key\\fingerprints of your entire whitelist (the source FOAF file would of course need\\to be encrypted ).\\\\Your whitelist would be populated from the social network as your client\\discovered new identit ...\\\\\n",
            "\n",
            "\n",
            "--------------------------------------------- Result 9 ---------------------------------------------\n",
            "[[World (100%)]] --> [[[SKIPPED]]]\n",
            "\n",
            "E-mail scam targets police chief Wiltshire Police warns about \"phishing\" after its fraud squad chief was targeted.\n",
            "\n",
            "\n"
          ]
        },
        {
          "output_type": "stream",
          "name": "stderr",
          "text": [
            "\n",
            "[Succeeded / Failed / Skipped / Total] 5 / 2 / 2 / 9:  10%|█         | 10/100 [00:09<01:26,  1.04it/s]\u001b[A\n",
            "[Succeeded / Failed / Skipped / Total] 6 / 2 / 2 / 10:  10%|█         | 10/100 [00:09<01:26,  1.04it/s]\u001b[A"
          ]
        },
        {
          "output_type": "stream",
          "name": "stdout",
          "text": [
            "--------------------------------------------- Result 10 ---------------------------------------------\n",
            "[[Sci/tech (82%)]] --> [[Business (59%)]]\n",
            "\n",
            "Card fraud unit nets 36,000 cards In its first two years, the UK's dedicated card fraud unit, has recovered 36,000 stolen [[cards]] and 171 arrests - and estimates it saved 65m.\n",
            "\n",
            "Card fraud unit nets 36,000 cards In its first two years, the UK's dedicated card fraud unit, has recovered 36,000 stolen [[carte]] and 171 arrests - and estimates it saved 65m.\n",
            "\n",
            "\n"
          ]
        },
        {
          "output_type": "stream",
          "name": "stderr",
          "text": [
            "\n",
            "[Succeeded / Failed / Skipped / Total] 7 / 2 / 2 / 11:  11%|█         | 11/100 [00:10<01:23,  1.07it/s]\u001b[A"
          ]
        },
        {
          "output_type": "stream",
          "name": "stdout",
          "text": [
            "--------------------------------------------- Result 11 ---------------------------------------------\n",
            "[[Sci/tech (100%)]] --> [[Business (78%)]]\n",
            "\n",
            "Group to [[Propose]] New [[High-Speed]] Wireless [[Format]]  LOS ANGELES (Reuters) - A group of technology companies  including Texas Instruments Inc. &lt;TXN.N&gt;, STMicroelectronics  &lt;STM.PA&gt; and Broadcom Corp. &lt;BRCM.O&gt;, on Thursday said they  will propose a new [[wireless]] [[networking]] [[standard]] up to 10 times  the speed of the current generation.\n",
            "\n",
            "Group to [[offer]] New [[high-velocity]] Wireless [[initialise]]  LOS ANGELES (Reuters) - A group of technology companies  including Texas Instruments Inc. &lt;TXN.N&gt;, STMicroelectronics  &lt;STM.PA&gt; and Broadcom Corp. &lt;BRCM.O&gt;, on Thursday said they  will propose a new [[tuner]] [[network]] [[stock]] up to 10 times  the speed of the current generation.\n",
            "\n",
            "\n"
          ]
        },
        {
          "output_type": "stream",
          "name": "stderr",
          "text": [
            "\n",
            "[Succeeded / Failed / Skipped / Total] 7 / 2 / 2 / 11:  12%|█▏        | 12/100 [00:10<01:20,  1.09it/s]\u001b[A\n",
            "[Succeeded / Failed / Skipped / Total] 7 / 3 / 2 / 12:  12%|█▏        | 12/100 [00:10<01:20,  1.09it/s]\u001b[A"
          ]
        },
        {
          "output_type": "stream",
          "name": "stdout",
          "text": [
            "--------------------------------------------- Result 12 ---------------------------------------------\n",
            "[[Sci/tech (100%)]] --> [[[FAILED]]]\n",
            "\n",
            "Apple Launches Graphics Software, Video Bundle  LOS ANGELES (Reuters) - Apple Computer Inc.&lt;AAPL.O&gt; on  Tuesday began shipping a new program designed to let users  create real-time motion graphics and unveiled a discount  video-editing software bundle featuring its flagship Final Cut  Pro software.\n",
            "\n",
            "\n"
          ]
        },
        {
          "output_type": "stream",
          "name": "stderr",
          "text": [
            "\n",
            "[Succeeded / Failed / Skipped / Total] 7 / 4 / 2 / 13:  13%|█▎        | 13/100 [00:11<01:18,  1.10it/s]\u001b[A"
          ]
        },
        {
          "output_type": "stream",
          "name": "stdout",
          "text": [
            "--------------------------------------------- Result 13 ---------------------------------------------\n",
            "[[Sci/tech (100%)]] --> [[[FAILED]]]\n",
            "\n",
            "Dutch Retailer Beats Apple to Local Download Market  AMSTERDAM (Reuters) - Free Record Shop, a Dutch music  retail chain, beat Apple Computer Inc. to market on Tuesday  with the launch of a new download service in Europe's latest  battleground for digital song services.\n",
            "\n",
            "\n"
          ]
        },
        {
          "output_type": "stream",
          "name": "stderr",
          "text": [
            "\n",
            "[Succeeded / Failed / Skipped / Total] 7 / 4 / 2 / 13:  14%|█▍        | 14/100 [00:12<01:13,  1.17it/s]\u001b[A\n",
            "[Succeeded / Failed / Skipped / Total] 8 / 4 / 2 / 14:  14%|█▍        | 14/100 [00:12<01:13,  1.16it/s]\u001b[A\n",
            "[Succeeded / Failed / Skipped / Total] 9 / 4 / 2 / 15:  15%|█▌        | 15/100 [00:12<01:08,  1.23it/s]\u001b[A\n",
            "[Succeeded / Failed / Skipped / Total] 9 / 4 / 2 / 15:  16%|█▌        | 16/100 [00:12<01:03,  1.31it/s]\u001b[A\n",
            "[Succeeded / Failed / Skipped / Total] 9 / 4 / 3 / 16:  16%|█▌        | 16/100 [00:12<01:03,  1.31it/s]\u001b[A"
          ]
        },
        {
          "output_type": "stream",
          "name": "stdout",
          "text": [
            "--------------------------------------------- Result 14 ---------------------------------------------\n",
            "[[Sci/tech (100%)]] --> [[Business (64%)]]\n",
            "\n",
            "Super [[ant]] [[colony]] hits Australia [[A]] giant 100km colony of ants  which has been discovered in Melbourne, Australia, could threaten local [[insect]] [[species]].\n",
            "\n",
            "Super [[emmet]] [[settlement]] hits Australia [[ampere]] giant 100km colony of ants  which has been discovered in Melbourne, Australia, could threaten local [[louse]] [[specie]].\n",
            "\n",
            "\n",
            "--------------------------------------------- Result 15 ---------------------------------------------\n",
            "[[Sci/tech (91%)]] --> [[World (64%)]]\n",
            "\n",
            "Socialites unite [[dolphin]] groups Dolphin groups, or \"pods\", rely on socialites to keep them from collapsing, scientists claim.\n",
            "\n",
            "Socialites unite [[dolphinfish]] groups Dolphin groups, or \"pods\", rely on socialites to keep them from collapsing, scientists claim.\n",
            "\n",
            "\n",
            "--------------------------------------------- Result 16 ---------------------------------------------\n",
            "[[Business (85%)]] --> [[[SKIPPED]]]\n",
            "\n",
            "Teenage T. rex's monster growth Tyrannosaurus rex achieved its massive size due to an enormous growth spurt during its adolescent years.\n",
            "\n",
            "\n"
          ]
        },
        {
          "output_type": "stream",
          "name": "stderr",
          "text": [
            "\n",
            "[Succeeded / Failed / Skipped / Total] 9 / 5 / 3 / 17:  17%|█▋        | 17/100 [00:13<01:03,  1.30it/s]\u001b[A"
          ]
        },
        {
          "output_type": "stream",
          "name": "stdout",
          "text": [
            "--------------------------------------------- Result 17 ---------------------------------------------\n",
            "[[Sci/tech (100%)]] --> [[[FAILED]]]\n",
            "\n",
            "Scientists Discover Ganymede has a Lumpy Interior Jet Propulsion Lab -- Scientists have discovered irregular lumps beneath the icy surface of Jupiter's largest moon, Ganymede. These irregular masses may be rock formations, supported by Ganymede's icy shell for billions of years...\n",
            "\n",
            "\n"
          ]
        },
        {
          "output_type": "stream",
          "name": "stderr",
          "text": [
            "\n",
            "[Succeeded / Failed / Skipped / Total] 9 / 5 / 3 / 17:  18%|█▊        | 18/100 [00:14<01:04,  1.28it/s]\u001b[A\n",
            "[Succeeded / Failed / Skipped / Total] 9 / 6 / 3 / 18:  18%|█▊        | 18/100 [00:14<01:04,  1.28it/s]\u001b[A"
          ]
        },
        {
          "output_type": "stream",
          "name": "stdout",
          "text": [
            "--------------------------------------------- Result 18 ---------------------------------------------\n",
            "[[Sci/tech (100%)]] --> [[[FAILED]]]\n",
            "\n",
            "Mars Rovers Relay Images Through Mars Express European Space Agency -- ESAs Mars Express has relayed pictures from one of NASA's Mars rovers for the first time, as part of a set of interplanetary networking demonstrations.     The demonstrations pave the way for future Mars missions to draw on joint interplanetary networking capabilities...\n",
            "\n",
            "\n"
          ]
        },
        {
          "output_type": "stream",
          "name": "stderr",
          "text": [
            "\n",
            "[Succeeded / Failed / Skipped / Total] 10 / 6 / 3 / 19:  19%|█▉        | 19/100 [00:14<01:01,  1.31it/s]\u001b[A\n",
            "[Succeeded / Failed / Skipped / Total] 10 / 6 / 3 / 19:  20%|██        | 20/100 [00:14<00:58,  1.38it/s]\u001b[A\n",
            "[Succeeded / Failed / Skipped / Total] 10 / 6 / 4 / 20:  20%|██        | 20/100 [00:14<00:58,  1.38it/s]\u001b[A\n",
            "[Succeeded / Failed / Skipped / Total] 10 / 6 / 5 / 21:  21%|██        | 21/100 [00:14<00:54,  1.44it/s]\u001b[A"
          ]
        },
        {
          "output_type": "stream",
          "name": "stdout",
          "text": [
            "--------------------------------------------- Result 19 ---------------------------------------------\n",
            "[[Sci/tech (100%)]] --> [[Business (61%)]]\n",
            "\n",
            "Rocking the Cradle of Life When did life begin? One evidential [[clue]] stems from the fossil records in Western Australia, although whether these layered [[sediments]] are biological or chemical has spawned a spirited debate. Oxford researcher, Nicola McLoughlin, [[describes]] some of the [[issues]] in contention.\n",
            "\n",
            "Rocking the Cradle of Life When did life begin? One evidential [[hint]] stems from the fossil records in Western Australia, although whether these layered [[deposit]] are biological or chemical has spawned a spirited debate. Oxford researcher, Nicola McLoughlin, [[report]] some of the [[payoff]] in contention.\n",
            "\n",
            "\n",
            "--------------------------------------------- Result 20 ---------------------------------------------\n",
            "[[Business (97%)]] --> [[[SKIPPED]]]\n",
            "\n",
            "Storage, servers bruise HP earnings update Earnings per share rise compared with a year ago, but company misses analysts' expectations by a long shot.\n",
            "\n",
            "\n",
            "--------------------------------------------- Result 21 ---------------------------------------------\n",
            "[[Business (54%)]] --> [[[SKIPPED]]]\n",
            "\n",
            "IBM to hire even more new workers By the end of the year, the computing giant plans to have its biggest headcount since 1991.\n",
            "\n",
            "\n"
          ]
        },
        {
          "output_type": "stream",
          "name": "stderr",
          "text": [
            "\n",
            "[Succeeded / Failed / Skipped / Total] 10 / 6 / 5 / 21:  22%|██▏       | 22/100 [00:14<00:52,  1.47it/s]\u001b[A\n",
            "[Succeeded / Failed / Skipped / Total] 11 / 6 / 5 / 22:  22%|██▏       | 22/100 [00:14<00:52,  1.47it/s]\u001b[A"
          ]
        },
        {
          "output_type": "stream",
          "name": "stdout",
          "text": [
            "--------------------------------------------- Result 22 ---------------------------------------------\n",
            "[[Sci/tech (100%)]] --> [[Business (64%)]]\n",
            "\n",
            "Sun's Looking Glass [[Provides]] [[3D]] [[View]] Developers get early code for new operating system 'skin' still being crafted.\n",
            "\n",
            "Sun's Looking Glass [[offer]] [[three-D]] [[sentiment]] Developers get early code for new operating system 'skin' still being crafted.\n",
            "\n",
            "\n"
          ]
        },
        {
          "output_type": "stream",
          "name": "stderr",
          "text": [
            "\n",
            "[Succeeded / Failed / Skipped / Total] 12 / 6 / 5 / 23:  23%|██▎       | 23/100 [00:15<00:50,  1.51it/s]\u001b[A"
          ]
        },
        {
          "output_type": "stream",
          "name": "stdout",
          "text": [
            "--------------------------------------------- Result 23 ---------------------------------------------\n",
            "[[Sci/tech (100%)]] --> [[Business (88%)]]\n",
            "\n",
            "IBM [[Chips]] May Someday [[Heal]] Themselves New [[technology]] [[applies]] electrical fuses to [[help]] [[identify]] and [[repair]] [[faults]].\n",
            "\n",
            "IBM [[crisp]] May Someday [[mend]] Themselves New [[engineering]] [[give]] electrical fuses to [[service]] [[key]] and [[bushel]] [[demerit]].\n",
            "\n",
            "\n"
          ]
        },
        {
          "output_type": "stream",
          "name": "stderr",
          "text": [
            "\n",
            "[Succeeded / Failed / Skipped / Total] 12 / 6 / 5 / 23:  24%|██▍       | 24/100 [00:16<00:51,  1.48it/s]\u001b[A\n",
            "[Succeeded / Failed / Skipped / Total] 13 / 6 / 5 / 24:  24%|██▍       | 24/100 [00:16<00:51,  1.48it/s]\u001b[A\n",
            "[Succeeded / Failed / Skipped / Total] 13 / 6 / 6 / 25:  25%|██▌       | 25/100 [00:16<00:48,  1.54it/s]\u001b[A"
          ]
        },
        {
          "output_type": "stream",
          "name": "stdout",
          "text": [
            "--------------------------------------------- Result 24 ---------------------------------------------\n",
            "[[Sci/tech (100%)]] --> [[Business (59%)]]\n",
            "\n",
            "Some People Not Eligible to Get in on Google IPO Google has billed its IPO as a way for everyday people to get in on the process, denying Wall Street the usual stranglehold it's had on IPOs. Public bidding, a minimum of just [[five]] shares, an [[open]] [[process]] with [[28]] [[underwriters]] - all this pointed to a new [[level]] of public participation. But this isn't the case.\n",
            "\n",
            "Some People Not Eligible to Get in on Google IPO Google has billed its IPO as a way for everyday people to get in on the process, denying Wall Street the usual stranglehold it's had on IPOs. Public bidding, a minimum of just [[cinque]] shares, an [[undefended]] [[sue]] with [[twenty-eight]] [[insurer]] - all this pointed to a new [[unwavering]] of public participation. But this isn't the case.\n",
            "\n",
            "\n",
            "--------------------------------------------- Result 25 ---------------------------------------------\n",
            "[[Business (100%)]] --> [[[SKIPPED]]]\n",
            "\n",
            "Rivals Try to Turn Tables on Charles Schwab By MICHAEL LIEDTKE     SAN FRANCISCO (AP) -- With its low prices and iconoclastic attitude, discount stock broker Charles Schwab Corp. (SCH) represented an annoying stone in Wall Street's wing-tipped shoes for decades...\n",
            "\n",
            "\n"
          ]
        },
        {
          "output_type": "stream",
          "name": "stderr",
          "text": [
            "\n",
            "[Succeeded / Failed / Skipped / Total] 13 / 6 / 6 / 25:  26%|██▌       | 26/100 [00:16<00:46,  1.58it/s]\u001b[A\n",
            "[Succeeded / Failed / Skipped / Total] 14 / 6 / 6 / 26:  26%|██▌       | 26/100 [00:16<00:46,  1.58it/s]\u001b[A"
          ]
        },
        {
          "output_type": "stream",
          "name": "stdout",
          "text": [
            "--------------------------------------------- Result 26 ---------------------------------------------\n",
            "[[Sci/tech (100%)]] --> [[Business (74%)]]\n",
            "\n",
            "News: Sluggish movement on power grid cyber [[security]] Industry cyber [[security]] standards fail to reach some of the most vulnerable components of the power grid.\\\n",
            "\n",
            "News: Sluggish movement on power grid cyber [[surety]] Industry cyber [[surety]] standards fail to reach some of the most vulnerable components of the power grid.\\\n",
            "\n",
            "\n"
          ]
        },
        {
          "output_type": "stream",
          "name": "stderr",
          "text": [
            "\n",
            "[Succeeded / Failed / Skipped / Total] 15 / 6 / 6 / 27:  27%|██▋       | 27/100 [00:16<00:45,  1.60it/s]\u001b[A"
          ]
        },
        {
          "output_type": "stream",
          "name": "stdout",
          "text": [
            "--------------------------------------------- Result 27 ---------------------------------------------\n",
            "[[Sports (100%)]] --> [[Sci/tech (99%)]]\n",
            "\n",
            "Giddy Phelps Touches Gold for First Time Michael Phelps won the gold medal in the 400 individual medley and set a [[world]] [[record]] in a time of 4 minutes 8.26 seconds.\n",
            "\n",
            "Giddy Phelps Touches Gold for First Time Michael Phelps won the gold medal in the 400 individual medley and set a [[planetary]] [[disk]] in a time of 4 minutes 8.26 seconds.\n",
            "\n",
            "\n"
          ]
        },
        {
          "output_type": "stream",
          "name": "stderr",
          "text": [
            "\n",
            "[Succeeded / Failed / Skipped / Total] 15 / 6 / 6 / 27:  28%|██▊       | 28/100 [00:17<00:46,  1.56it/s]\u001b[A\n",
            "[Succeeded / Failed / Skipped / Total] 16 / 6 / 6 / 28:  28%|██▊       | 28/100 [00:17<00:46,  1.56it/s]\u001b[A"
          ]
        },
        {
          "output_type": "stream",
          "name": "stdout",
          "text": [
            "--------------------------------------------- Result 28 ---------------------------------------------\n",
            "[[Sports (100%)]] --> [[Sci/tech (69%)]]\n",
            "\n",
            "Tougher rules won't [[soften]] Law's [[game]] FOXBOROUGH -- Looking at his ridiculously [[developed]] [[upper]] body, with huge biceps and hardly an ounce of [[fat]], it's easy to see why Ty Law, arguably the [[best]] cornerback in football, chooses [[physical]] [[play]] over finesse. That's not to imply that he's lacking a finesse component, because he can shut down his side of the [[field]] much as Deion Sanders ...\n",
            "\n",
            "Tougher rules won't [[buffer]] Law's [[spunky]] FOXBOROUGH -- Looking at his ridiculously [[evolve]] [[amphetamine]] body, with huge biceps and hardly an ounce of [[fatten]], it's easy to see why Ty Law, arguably the [[beneficial]] cornerback in football, chooses [[forcible]] [[gaming]] over finesse. That's not to imply that he's lacking a finesse component, because he can shut down his side of the [[orbit]] much as Deion Sanders ...\n",
            "\n",
            "\n"
          ]
        },
        {
          "output_type": "stream",
          "name": "stderr",
          "text": [
            "\n",
            "[Succeeded / Failed / Skipped / Total] 17 / 6 / 6 / 29:  29%|██▉       | 29/100 [00:18<00:46,  1.54it/s]\u001b[A"
          ]
        },
        {
          "output_type": "stream",
          "name": "stdout",
          "text": [
            "--------------------------------------------- Result 29 ---------------------------------------------\n",
            "[[Sports (100%)]] --> [[Sci/tech (54%)]]\n",
            "\n",
            "Shoppach doesn't appear ready to hit the next level With the [[weeks]] dwindling until Jason Varitek [[enters]] free agency, the [[Red]] Sox [[continue]] to carefully monitor Kelly Shoppach , their catcher of the future, in his climb toward the [[majors]]. The Sox like most of what they have seen at Triple A Pawtucket from Shoppach, though it [[remains]] highly uncertain whether he can [[make]] the adjustments at the plate ...\n",
            "\n",
            "Shoppach doesn't appear ready to hit the next level With the [[hebdomad]] dwindling until Jason Varitek [[insert]] free agency, the [[Marxist]] Sox [[preserve]] to carefully monitor Kelly Shoppach , their catcher of the future, in his climb toward the [[Major]]. The Sox like most of what they have seen at Triple A Pawtucket from Shoppach, though it [[corpse]] highly uncertain whether he can [[defecate]] the adjustments at the plate ...\n",
            "\n",
            "\n"
          ]
        },
        {
          "output_type": "stream",
          "name": "stderr",
          "text": [
            "\n",
            "[Succeeded / Failed / Skipped / Total] 17 / 6 / 6 / 29:  30%|███       | 30/100 [00:19<00:46,  1.52it/s]\u001b[A\n",
            "[Succeeded / Failed / Skipped / Total] 18 / 6 / 6 / 30:  30%|███       | 30/100 [00:19<00:46,  1.52it/s]\u001b[A"
          ]
        },
        {
          "output_type": "stream",
          "name": "stdout",
          "text": [
            "--------------------------------------------- Result 30 ---------------------------------------------\n",
            "[[Sports (100%)]] --> [[Sci/tech (64%)]]\n",
            "\n",
            "Mighty Ortiz makes sure Sox can [[rest]] easy [[Just]] [[imagine]] what David Ortiz could do on a good night's rest. Ortiz spent the night before last with his baby boy, D'Angelo, who is barely 1 month old. He had planned on attending the Red Sox' Family Day at Fenway Park yesterday [[morning]], but he had to sleep in. After all, Ortiz had a son at home, and he ...\n",
            "\n",
            "Mighty Ortiz makes sure Sox can [[breathe]] easy [[scarce]] [[opine]] what David Ortiz could do on a good night's rest. Ortiz spent the night before last with his baby boy, D'Angelo, who is barely 1 month old. He had planned on attending the Red Sox' Family Day at Fenway Park yesterday [[dawning]], but he had to sleep in. After all, Ortiz had a son at home, and he ...\n",
            "\n",
            "\n"
          ]
        },
        {
          "output_type": "stream",
          "name": "stderr",
          "text": [
            "\n",
            "[Succeeded / Failed / Skipped / Total] 19 / 6 / 6 / 31:  31%|███       | 31/100 [00:20<00:45,  1.52it/s]\u001b[A"
          ]
        },
        {
          "output_type": "stream",
          "name": "stdout",
          "text": [
            "--------------------------------------------- Result 31 ---------------------------------------------\n",
            "[[Sports (100%)]] --> [[Sci/tech (71%)]]\n",
            "\n",
            "They've [[caught]] his [[eye]] [[In]]  quot;[[helping]] themselves, quot; Ricky Bryant, Chas Gessner, Michael Jennings, and David Patten did [[nothing]] [[Friday]] night to [[make]] [[Bill]] Belichick's decision on what to do with his [[receivers]] any [[easier]].\n",
            "\n",
            "They've [[captivate]] his [[optic]] [[inward]]  quot;[[facilitate]] themselves, quot; Ricky Bryant, Chas Gessner, Michael Jennings, and David Patten did [[cipher]] [[Fri]] night to [[pee]] [[broadsheet]] Belichick's decision on what to do with his [[liquidator]] any [[well-heeled]].\n",
            "\n",
            "\n"
          ]
        },
        {
          "output_type": "stream",
          "name": "stderr",
          "text": [
            "\n",
            "[Succeeded / Failed / Skipped / Total] 19 / 6 / 6 / 31:  32%|███▏      | 32/100 [00:20<00:44,  1.53it/s]\u001b[A\n",
            "[Succeeded / Failed / Skipped / Total] 20 / 6 / 6 / 32:  32%|███▏      | 32/100 [00:20<00:44,  1.53it/s]\u001b[A"
          ]
        },
        {
          "output_type": "stream",
          "name": "stdout",
          "text": [
            "--------------------------------------------- Result 32 ---------------------------------------------\n",
            "[[Sports (100%)]] --> [[Sci/tech (44%)]]\n",
            "\n",
            "Indians Mount [[Charge]] The Cleveland Indians [[pulled]] within one game of the AL Central [[lead]] by beating the [[Minnesota]] [[Twins]], 7-1, Saturday night with [[home]] runs by Travis Hafner and Victor Martinez.\n",
            "\n",
            "Indians Mount [[accuse]] The Cleveland Indians [[attract]] within one game of the AL Central [[moderate]] by beating the [[MN]] [[Gemini]], 7-1, Saturday night with [[habitation]] runs by Travis Hafner and Victor Martinez.\n",
            "\n",
            "\n"
          ]
        },
        {
          "output_type": "stream",
          "name": "stderr",
          "text": [
            "\n",
            "[Succeeded / Failed / Skipped / Total] 21 / 6 / 6 / 33:  33%|███▎      | 33/100 [00:21<00:43,  1.54it/s]\u001b[A"
          ]
        },
        {
          "output_type": "stream",
          "name": "stdout",
          "text": [
            "--------------------------------------------- Result 33 ---------------------------------------------\n",
            "[[World (100%)]] --> [[Sports (63%)]]\n",
            "\n",
            "Sister of man who died in Vancouver police custody [[slams]] chief (Canadian Press) Canadian [[Press]] - VANCOUVER (CP) - The sister of a man who died after a violent confrontation with police has demanded the city's chief constable resign for [[defending]] the officer involved.\n",
            "\n",
            "Sister of man who died in Vancouver police custody [[slam]] chief (Canadian Press) Canadian [[contract]] - VANCOUVER (CP) - The sister of a man who died after a violent confrontation with police has demanded the city's chief constable resign for [[champion]] the officer involved.\n",
            "\n",
            "\n"
          ]
        },
        {
          "output_type": "stream",
          "name": "stderr",
          "text": [
            "\n",
            "[Succeeded / Failed / Skipped / Total] 21 / 6 / 6 / 33:  34%|███▍      | 34/100 [00:22<00:42,  1.54it/s]\u001b[A\n",
            "[Succeeded / Failed / Skipped / Total] 22 / 6 / 6 / 34:  34%|███▍      | 34/100 [00:22<00:42,  1.54it/s]\u001b[A"
          ]
        },
        {
          "output_type": "stream",
          "name": "stdout",
          "text": [
            "--------------------------------------------- Result 34 ---------------------------------------------\n",
            "[[World (99%)]] --> [[Sci/tech (100%)]]\n",
            "\n",
            "[[Man]] Sought  #36;50M From McGreevey, Aides Say (AP) AP - The man who claims Gov. James E. McGreevey sexually harassed him was pushing for a cash settlement of up to  #36;50 million before the governor decided to announce that he was gay and had an extramarital affair, sources told The Associated Press.\n",
            "\n",
            "[[homo]] Sought  #36;50M From McGreevey, Aides Say (AP) AP - The man who claims Gov. James E. McGreevey sexually harassed him was pushing for a cash settlement of up to  #36;50 million before the governor decided to announce that he was gay and had an extramarital affair, sources told The Associated Press.\n",
            "\n",
            "\n"
          ]
        },
        {
          "output_type": "stream",
          "name": "stderr",
          "text": [
            "\n",
            "[Succeeded / Failed / Skipped / Total] 23 / 6 / 6 / 35:  35%|███▌      | 35/100 [00:22<00:42,  1.54it/s]\u001b[A"
          ]
        },
        {
          "output_type": "stream",
          "name": "stdout",
          "text": [
            "--------------------------------------------- Result 35 ---------------------------------------------\n",
            "[[World (100%)]] --> [[Sports (96%)]]\n",
            "\n",
            "Explosions [[Echo]] Throughout Najaf NAJAF, [[Iraq]] - Explosions and gunfire rattled through the city of Najaf as U.S. troops in [[armored]] [[vehicles]] and [[tanks]] [[rolled]] [[back]] into the streets here Sunday, a day after the [[collapse]] of [[talks]] - and with them a temporary cease-fire - intended to end the fighting in this holy city...\n",
            "\n",
            "Explosions [[recall]] Throughout Najaf NAJAF, [[Al-Iraq]] - Explosions and gunfire rattled through the city of Najaf as U.S. troops in [[panoplied]] [[fomite]] and [[tankful]] [[twine]] [[game]] into the streets here Sunday, a day after the [[founder]] of [[verbalize]] - and with them a temporary cease-fire - intended to end the fighting in this holy city...\n",
            "\n",
            "\n"
          ]
        },
        {
          "output_type": "stream",
          "name": "stderr",
          "text": [
            "\n",
            "[Succeeded / Failed / Skipped / Total] 23 / 6 / 6 / 35:  36%|███▌      | 36/100 [00:23<00:41,  1.53it/s]\u001b[A\n",
            "[Succeeded / Failed / Skipped / Total] 24 / 6 / 6 / 36:  36%|███▌      | 36/100 [00:23<00:41,  1.53it/s]\u001b[A\n",
            "[Succeeded / Failed / Skipped / Total] 24 / 6 / 7 / 37:  37%|███▋      | 37/100 [00:23<00:40,  1.57it/s]\u001b[A"
          ]
        },
        {
          "output_type": "stream",
          "name": "stdout",
          "text": [
            "--------------------------------------------- Result 36 ---------------------------------------------\n",
            "[[World (100%)]] --> [[Sci/tech (61%)]]\n",
            "\n",
            "Frail Pope [[Celebrates]] [[Mass]] at Lourdes LOURDES, France - A frail Pope John Paul II, breathing heavily and gasping at times, celebrated an open-air Mass on [[Sunday]] for several hundred thousand pilgrims, many in wheelchairs, at a shrine to the Virgin Mary that is associated with miraculous cures.    [[At]] one point he said \"help me\" in Polish while struggling through his homily in French...\n",
            "\n",
            "Frail Pope [[observe]] [[aggregated]] at Lourdes LOURDES, France - A frail Pope John Paul II, breathing heavily and gasping at times, celebrated an open-air Mass on [[Sun]] for several hundred thousand pilgrims, many in wheelchairs, at a shrine to the Virgin Mary that is associated with miraculous cures.    [[astatine]] one point he said \"help me\" in Polish while struggling through his homily in French...\n",
            "\n",
            "\n",
            "--------------------------------------------- Result 37 ---------------------------------------------\n",
            "[[Business (55%)]] --> [[[SKIPPED]]]\n",
            "\n",
            "Venezuela Prepares for Chavez Recall Vote Supporters and rivals warn of possible fraud; government says Chavez's defeat could produce turmoil in world oil market.\n",
            "\n",
            "\n"
          ]
        },
        {
          "output_type": "stream",
          "name": "stderr",
          "text": [
            "\n",
            "[Succeeded / Failed / Skipped / Total] 24 / 6 / 7 / 37:  38%|███▊      | 38/100 [00:23<00:39,  1.59it/s]\u001b[A\n",
            "[Succeeded / Failed / Skipped / Total] 25 / 6 / 7 / 38:  38%|███▊      | 38/100 [00:23<00:39,  1.59it/s]\u001b[A"
          ]
        },
        {
          "output_type": "stream",
          "name": "stdout",
          "text": [
            "--------------------------------------------- Result 38 ---------------------------------------------\n",
            "[[World (78%)]] --> [[Sci/tech (100%)]]\n",
            "\n",
            "1994 Law Designed to Preserve Guard Jobs (AP) AP - A 1994 law strengthened job protections for National Guard and Reserve troops called to active duty. Here are major provisions of the Uniformed Services Employment and Reemployment Rights [[Act]] (USERRA).\n",
            "\n",
            "1994 Law Designed to Preserve Guard Jobs (AP) AP - A 1994 law strengthened job protections for National Guard and Reserve troops called to active duty. Here are major provisions of the Uniformed Services Employment and Reemployment Rights [[roleplay]] (USERRA).\n",
            "\n",
            "\n"
          ]
        },
        {
          "output_type": "stream",
          "name": "stderr",
          "text": [
            "\n",
            "[Succeeded / Failed / Skipped / Total] 26 / 6 / 7 / 39:  39%|███▉      | 39/100 [00:24<00:38,  1.59it/s]\u001b[A"
          ]
        },
        {
          "output_type": "stream",
          "name": "stdout",
          "text": [
            "--------------------------------------------- Result 39 ---------------------------------------------\n",
            "[[World (100%)]] --> [[Sci/tech (68%)]]\n",
            "\n",
            "Iran Warns Its Missiles Can [[Hit]] [[Anywhere]] in Israel  TEHRAN (Reuters) - A senior Iranian military [[official]] said  Sunday Israel and the United [[States]] would not dare attack Iran  since it could strike [[back]] anywhere in Israel with its latest  missiles, news agencies reported.\n",
            "\n",
            "Iran Warns Its Missiles Can [[attain]] [[anyplace]] in Israel  TEHRAN (Reuters) - A senior Iranian military [[prescribed]] said  Sunday Israel and the United [[posit]] would not dare attack Iran  since it could strike [[game]] anywhere in Israel with its latest  missiles, news agencies reported.\n",
            "\n",
            "\n"
          ]
        },
        {
          "output_type": "stream",
          "name": "stderr",
          "text": [
            "\n",
            "[Succeeded / Failed / Skipped / Total] 26 / 6 / 7 / 39:  40%|████      | 40/100 [00:25<00:38,  1.58it/s]\u001b[A\n",
            "[Succeeded / Failed / Skipped / Total] 26 / 7 / 7 / 40:  40%|████      | 40/100 [00:25<00:38,  1.58it/s]\u001b[A"
          ]
        },
        {
          "output_type": "stream",
          "name": "stdout",
          "text": [
            "--------------------------------------------- Result 40 ---------------------------------------------\n",
            "[[World (100%)]] --> [[[FAILED]]]\n",
            "\n",
            "Afghan Army Dispatched to Calm Violence KABUL, Afghanistan - Government troops intervened in Afghanistan's latest outbreak of deadly fighting between warlords, flying from the capital to the far west on U.S. and NATO airplanes to retake an air base contested in the violence, officials said Sunday...\n",
            "\n",
            "\n"
          ]
        },
        {
          "output_type": "stream",
          "name": "stderr",
          "text": [
            "\n",
            "[Succeeded / Failed / Skipped / Total] 27 / 7 / 7 / 41:  41%|████      | 41/100 [00:25<00:37,  1.58it/s]\u001b[A"
          ]
        },
        {
          "output_type": "stream",
          "name": "stdout",
          "text": [
            "--------------------------------------------- Result 41 ---------------------------------------------\n",
            "[[Sports (100%)]] --> [[Sci/tech (76%)]]\n",
            "\n",
            "[[Johnson]] [[Helps]] D-Backs [[End]] Nine-Game Slide (AP) AP - Randy Johnson took a four-hitter into the ninth inning to help the Arizona Diamondbacks [[end]] a nine-game [[losing]] [[streak]] [[Sunday]], [[beating]] Steve Trachsel and the New York Mets 2-0.\n",
            "\n",
            "[[LBJ]] [[facilitate]] D-Backs [[remnant]] Nine-Game Slide (AP) AP - Randy Johnson took a four-hitter into the ninth inning to help the Arizona Diamondbacks [[death]] a nine-game [[recede]] [[mottle]] [[Dominicus]], [[pound]] Steve Trachsel and the New York Mets 2-0.\n",
            "\n",
            "\n"
          ]
        },
        {
          "output_type": "stream",
          "name": "stderr",
          "text": [
            "\n",
            "[Succeeded / Failed / Skipped / Total] 27 / 7 / 7 / 41:  42%|████▏     | 42/100 [00:26<00:36,  1.58it/s]\u001b[A\n",
            "[Succeeded / Failed / Skipped / Total] 28 / 7 / 7 / 42:  42%|████▏     | 42/100 [00:26<00:36,  1.58it/s]\u001b[A"
          ]
        },
        {
          "output_type": "stream",
          "name": "stdout",
          "text": [
            "--------------------------------------------- Result 42 ---------------------------------------------\n",
            "[[Business (100%)]] --> [[Sci/tech (91%)]]\n",
            "\n",
            "Retailers Vie for Back-To-School Buyers (Reuters) Reuters - Apparel retailers are hoping their\\back-to-school [[fashions]] will make the grade among\\style-conscious teens and young adults this fall, but it could\\be a tough sell, with students and parents keeping a tighter\\hold on their wallets.\n",
            "\n",
            "Retailers Vie for Back-To-School Buyers (Reuters) Reuters - Apparel retailers are hoping their\\back-to-school [[mode]] will make the grade among\\style-conscious teens and young adults this fall, but it could\\be a tough sell, with students and parents keeping a tighter\\hold on their wallets.\n",
            "\n",
            "\n"
          ]
        },
        {
          "output_type": "stream",
          "name": "stderr",
          "text": [
            "\n",
            "[Succeeded / Failed / Skipped / Total] 29 / 7 / 7 / 43:  43%|████▎     | 43/100 [00:27<00:35,  1.59it/s]\u001b[A"
          ]
        },
        {
          "output_type": "stream",
          "name": "stdout",
          "text": [
            "--------------------------------------------- Result 43 ---------------------------------------------\n",
            "[[World (100%)]] --> [[Sci/tech (83%)]]\n",
            "\n",
            "Politics an Afterthought Amid Hurricane (AP) AP - If Hurricane Charley had struck three years ago, President Bush's tour through the wreckage of this coastal city would have been just the sort of post-disaster [[visit]] that other presidents have made to the scenes of storms, earthquakes, floods and fires.\n",
            "\n",
            "Politics an Afterthought Amid Hurricane (AP) AP - If Hurricane Charley had struck three years ago, President Bush's tour through the wreckage of this coastal city would have been just the sort of post-disaster [[chat]] that other presidents have made to the scenes of storms, earthquakes, floods and fires.\n",
            "\n",
            "\n"
          ]
        },
        {
          "output_type": "stream",
          "name": "stderr",
          "text": [
            "\n",
            "[Succeeded / Failed / Skipped / Total] 29 / 7 / 7 / 43:  44%|████▍     | 44/100 [00:27<00:35,  1.59it/s]\u001b[A\n",
            "[Succeeded / Failed / Skipped / Total] 30 / 7 / 7 / 44:  44%|████▍     | 44/100 [00:27<00:35,  1.59it/s]\u001b[A"
          ]
        },
        {
          "output_type": "stream",
          "name": "stdout",
          "text": [
            "--------------------------------------------- Result 44 ---------------------------------------------\n",
            "[[Sci/tech (100%)]] --> [[Business (52%)]]\n",
            "\n",
            "Spam suspension [[hits]] Sohu.com shares (FT.com) FT.com - Shares in Sohu.com, a leading US-listed Chinese [[internet]] portal, fell more than 10 per cent on Friday after China's biggest [[mobile]] phone network operator imposed a [[one-year]] [[suspension]] on its multimedia [[messaging]] [[services]] because of customers being sent spam.\n",
            "\n",
            "Spam suspension [[hitting]] Sohu.com shares (FT.com) FT.com - Shares in Sohu.com, a leading US-listed Chinese [[net]] portal, fell more than 10 per cent on Friday after China's biggest [[peregrine]] phone network operator imposed a [[annual]] [[abeyance]] on its multimedia [[message]] [[serve]] because of customers being sent spam.\n",
            "\n",
            "\n"
          ]
        },
        {
          "output_type": "stream",
          "name": "stderr",
          "text": [
            "\n",
            "[Succeeded / Failed / Skipped / Total] 31 / 7 / 7 / 45:  45%|████▌     | 45/100 [00:28<00:34,  1.58it/s]\u001b[A"
          ]
        },
        {
          "output_type": "stream",
          "name": "stdout",
          "text": [
            "--------------------------------------------- Result 45 ---------------------------------------------\n",
            "[[Sports (100%)]] --> [[Sci/tech (50%)]]\n",
            "\n",
            "Erstad's [[Double]] [[Lifts]] Angels to Win (AP) AP - Darin Erstad [[doubled]] in the go-ahead [[run]] in the eighth [[inning]], lifting the Anaheim [[Angels]] to a 3-2 [[victory]] over the Detroit Tigers on Sunday. The [[win]] pulled Anaheim within a percentage [[point]] of Boston and Texas in the AL wild-card [[race]].\n",
            "\n",
            "Erstad's [[bivalent]] [[plagiarize]] Angels to Win (AP) AP - Darin Erstad [[duplicate]] in the go-ahead [[incline]] in the eighth [[frame]], lifting the Anaheim [[Angel]] to a 3-2 [[triumph]] over the Detroit Tigers on Sunday. The [[advance]] pulled Anaheim within a percentage [[dot]] of Boston and Texas in the AL wild-card [[hotfoot]].\n",
            "\n",
            "\n"
          ]
        },
        {
          "output_type": "stream",
          "name": "stderr",
          "text": [
            "\n",
            "[Succeeded / Failed / Skipped / Total] 31 / 7 / 7 / 45:  46%|████▌     | 46/100 [00:28<00:33,  1.59it/s]\u001b[A\n",
            "[Succeeded / Failed / Skipped / Total] 31 / 8 / 7 / 46:  46%|████▌     | 46/100 [00:28<00:33,  1.59it/s]\u001b[A"
          ]
        },
        {
          "output_type": "stream",
          "name": "stdout",
          "text": [
            "--------------------------------------------- Result 46 ---------------------------------------------\n",
            "[[Sports (100%)]] --> [[[FAILED]]]\n",
            "\n",
            "Drew Out of Braves' Lineup After Injury (AP) AP - Outfielder J.D. Drew missed the Atlanta Braves' game against the St. Louis Cardinals on Sunday night with a sore right quadriceps.\n",
            "\n",
            "\n"
          ]
        },
        {
          "output_type": "stream",
          "name": "stderr",
          "text": [
            "\n",
            "[Succeeded / Failed / Skipped / Total] 32 / 8 / 7 / 47:  47%|████▋     | 47/100 [00:29<00:32,  1.61it/s]\u001b[A"
          ]
        },
        {
          "output_type": "stream",
          "name": "stdout",
          "text": [
            "--------------------------------------------- Result 47 ---------------------------------------------\n",
            "[[World (100%)]] --> [[Business (57%)]]\n",
            "\n",
            "Venezuelans [[Flood]] Polls, Voting Extended  CARACAS, Venezuela (Reuters) - Venezuelans voted in huge  numbers on Sunday in a historic referendum on whether to [[recall]]  [[left-wing]] [[President]] Hugo Chavez and electoral authorities  prolonged voting well into the night.\n",
            "\n",
            "Venezuelans [[glut]] Polls, Voting Extended  CARACAS, Venezuela (Reuters) - Venezuelans voted in huge  numbers on Sunday in a historic referendum on whether to [[recollect]]  [[left-of-center]] [[chairman]] Hugo Chavez and electoral authorities  prolonged voting well into the night.\n",
            "\n",
            "\n"
          ]
        },
        {
          "output_type": "stream",
          "name": "stderr",
          "text": [
            "\n",
            "[Succeeded / Failed / Skipped / Total] 32 / 8 / 7 / 47:  48%|████▊     | 48/100 [00:29<00:32,  1.61it/s]\u001b[A\n",
            "[Succeeded / Failed / Skipped / Total] 33 / 8 / 7 / 48:  48%|████▊     | 48/100 [00:29<00:32,  1.61it/s]\u001b[A"
          ]
        },
        {
          "output_type": "stream",
          "name": "stdout",
          "text": [
            "--------------------------------------------- Result 48 ---------------------------------------------\n",
            "[[Sci/tech (100%)]] --> [[Business (63%)]]\n",
            "\n",
            "Dell Exits Low-End [[China]] Consumer PC Market  HONG KONG (Reuters) - Dell Inc. &lt;DELL.O&gt;, the world's  largest PC maker, said on Monday it has left the low-end  consumer PC market in China and [[cut]] its overall growth target  for the country this year due to stiff competition in the  segment.\n",
            "\n",
            "Dell Exits Low-End [[Cathay]] Consumer PC Market  HONG KONG (Reuters) - Dell Inc. &lt;DELL.O&gt;, the world's  largest PC maker, said on Monday it has left the low-end  consumer PC market in China and [[slashed]] its overall growth target  for the country this year due to stiff competition in the  segment.\n",
            "\n",
            "\n"
          ]
        },
        {
          "output_type": "stream",
          "name": "stderr",
          "text": [
            "\n",
            "[Succeeded / Failed / Skipped / Total] 34 / 8 / 7 / 49:  49%|████▉     | 49/100 [00:30<00:31,  1.62it/s]\u001b[A"
          ]
        },
        {
          "output_type": "stream",
          "name": "stdout",
          "text": [
            "--------------------------------------------- Result 49 ---------------------------------------------\n",
            "[[World (100%)]] --> [[Sci/tech (66%)]]\n",
            "\n",
            "China Says Taiwan Spy Also Operated in U.S. - Media  BEIJING (Reuters) - Beijing on Monday accused a  Chinese-American arrested for spying for Taiwan of building an  espionage [[network]] in the United States, and said he could go on  trial very soon.\n",
            "\n",
            "China Says Taiwan Spy Also Operated in U.S. - Media  BEIJING (Reuters) - Beijing on Monday accused a  Chinese-American arrested for spying for Taiwan of building an  espionage [[web]] in the United States, and said he could go on  trial very soon.\n",
            "\n",
            "\n"
          ]
        },
        {
          "output_type": "stream",
          "name": "stderr",
          "text": [
            "\n",
            "[Succeeded / Failed / Skipped / Total] 34 / 8 / 7 / 49:  50%|█████     | 50/100 [00:30<00:30,  1.63it/s]\u001b[A\n",
            "[Succeeded / Failed / Skipped / Total] 35 / 8 / 7 / 50:  50%|█████     | 50/100 [00:30<00:30,  1.63it/s]\u001b[A"
          ]
        },
        {
          "output_type": "stream",
          "name": "stdout",
          "text": [
            "--------------------------------------------- Result 50 ---------------------------------------------\n",
            "[[Sports (100%)]] --> [[Sci/tech (56%)]]\n",
            "\n",
            "Another Major Non-Factor Another major, another disappointment for Tiger Woods, the No. 1 [[ranked]] player in the [[world]] who has not won a major [[championship]] since his triumph at the 2002 U.S. Open.\n",
            "\n",
            "Another Major Non-Factor Another major, another disappointment for Tiger Woods, the No. 1 [[rate]] player in the [[planetary]] who has not won a major [[patronage]] since his triumph at the 2002 U.S. Open.\n",
            "\n",
            "\n"
          ]
        },
        {
          "output_type": "stream",
          "name": "stderr",
          "text": [
            "\n",
            "[Succeeded / Failed / Skipped / Total] 36 / 8 / 7 / 51:  51%|█████     | 51/100 [00:31<00:29,  1.64it/s]\u001b[A"
          ]
        },
        {
          "output_type": "stream",
          "name": "stdout",
          "text": [
            "--------------------------------------------- Result 51 ---------------------------------------------\n",
            "[[World (100%)]] --> [[Sports (90%)]]\n",
            "\n",
            "US fighter squadron to be deployed in South Korea next month (AFP) AFP - A squadron of US [[Air]] Force F-15E [[fighters]] based in Alaska will fly to South Korea next month for temporary deployment aimed at enhancing US firepower on the Korean peninsula, US authorities said.\n",
            "\n",
            "US fighter squadron to be deployed in South Korea next month (AFP) AFP - A squadron of US [[ventilate]] Force F-15E [[champion]] based in Alaska will fly to South Korea next month for temporary deployment aimed at enhancing US firepower on the Korean peninsula, US authorities said.\n",
            "\n",
            "\n"
          ]
        },
        {
          "output_type": "stream",
          "name": "stderr",
          "text": [
            "\n",
            "[Succeeded / Failed / Skipped / Total] 36 / 8 / 7 / 51:  52%|█████▏    | 52/100 [00:31<00:29,  1.64it/s]\u001b[A\n",
            "[Succeeded / Failed / Skipped / Total] 37 / 8 / 7 / 52:  52%|█████▏    | 52/100 [00:31<00:29,  1.64it/s]\u001b[A"
          ]
        },
        {
          "output_type": "stream",
          "name": "stdout",
          "text": [
            "--------------------------------------------- Result 52 ---------------------------------------------\n",
            "[[Sports (100%)]] --> [[Sci/tech (78%)]]\n",
            "\n",
            "Johnson Back to His Best as D-Backs End Streak  NEW YORK (Reuters) - Randy Johnson struck out 14 batters in  8 1/3 innings to help the Arizona [[Diamondbacks]] [[end]] a nine-game  [[losing]] [[streak]] with a 2-0 [[win]] over the [[host]] [[New]] York Mets in the  National League Sunday.\n",
            "\n",
            "Johnson Back to His Best as D-Backs End Streak  NEW YORK (Reuters) - Randy Johnson struck out 14 batters in  8 1/3 innings to help the Arizona [[diamondback]] [[finish]] a nine-game  [[mislay]] [[mottle]] with a 2-0 [[succeed]] over the [[server]] [[newfangled]] York Mets in the  National League Sunday.\n",
            "\n",
            "\n"
          ]
        },
        {
          "output_type": "stream",
          "name": "stderr",
          "text": [
            "\n",
            "[Succeeded / Failed / Skipped / Total] 38 / 8 / 7 / 53:  53%|█████▎    | 53/100 [00:32<00:28,  1.65it/s]\u001b[A\n",
            "[Succeeded / Failed / Skipped / Total] 38 / 8 / 7 / 53:  54%|█████▍    | 54/100 [00:32<00:27,  1.68it/s]\u001b[A\n",
            "[Succeeded / Failed / Skipped / Total] 38 / 8 / 8 / 54:  54%|█████▍    | 54/100 [00:32<00:27,  1.68it/s]\u001b[A"
          ]
        },
        {
          "output_type": "stream",
          "name": "stdout",
          "text": [
            "--------------------------------------------- Result 53 ---------------------------------------------\n",
            "[[World (100%)]] --> [[Sports (65%)]]\n",
            "\n",
            "[[Restive]] Maldives [[eases]] curfew after rounding up dissidents (AFP) AFP - A curfew in the capital of the Maldives was eased but [[parliament]] sessions were put off indefinitely and emergency rule continued following last week's riots, officials and residents said.\n",
            "\n",
            "[[nervy]] Maldives [[rest]] curfew after rounding up dissidents (AFP) AFP - A curfew in the capital of the Maldives was eased but [[sevens]] sessions were put off indefinitely and emergency rule continued following last week's riots, officials and residents said.\n",
            "\n",
            "\n",
            "--------------------------------------------- Result 54 ---------------------------------------------\n",
            "[[Business (90%)]] --> [[[SKIPPED]]]\n",
            "\n",
            "Vodafone hires Citi for Cesky bid (TheDeal.com) TheDeal.com - The U.K. mobile giant wants to find a way to disentagle the Czech wireless and fixed-line businesses.\n",
            "\n",
            "\n"
          ]
        },
        {
          "output_type": "stream",
          "name": "stderr",
          "text": [
            "\n",
            "[Succeeded / Failed / Skipped / Total] 39 / 8 / 8 / 55:  55%|█████▌    | 55/100 [00:32<00:26,  1.68it/s]\u001b[A\n",
            "[Succeeded / Failed / Skipped / Total] 39 / 8 / 8 / 55:  56%|█████▌    | 56/100 [00:32<00:25,  1.71it/s]\u001b[A\n",
            "[Succeeded / Failed / Skipped / Total] 39 / 8 / 9 / 56:  56%|█████▌    | 56/100 [00:32<00:25,  1.71it/s]\u001b[A\n",
            "[Succeeded / Failed / Skipped / Total] 39 / 8 / 10 / 57:  57%|█████▋    | 57/100 [00:32<00:24,  1.74it/s]\u001b[A"
          ]
        },
        {
          "output_type": "stream",
          "name": "stdout",
          "text": [
            "--------------------------------------------- Result 55 ---------------------------------------------\n",
            "[[Business (100%)]] --> [[Sci/tech (51%)]]\n",
            "\n",
            "Dollar Briefly Hits 4-Wk Low Vs Euro  LONDON (Reuters) - The dollar dipped to a four-week low  against the euro on Monday before rising slightly on  profit-taking, but [[steep]] [[oil]] [[prices]] and weak U.S. data  [[continued]] to fan worries about the health of the world's  largest economy.\n",
            "\n",
            "Dollar Briefly Hits 4-Wk Low Vs Euro  LONDON (Reuters) - The dollar dipped to a four-week low  against the euro on Monday before rising slightly on  profit-taking, but [[immerse]] [[anoint]] [[damage]] and weak U.S. data  [[preserve]] to fan worries about the health of the world's  largest economy.\n",
            "\n",
            "\n",
            "--------------------------------------------- Result 56 ---------------------------------------------\n",
            "[[World (43%)]] --> [[[SKIPPED]]]\n",
            "\n",
            "Promoting a Shared Vision As Michael Kaleko kept running into people who were getting older and having more vision problems, he realized he could do something about it.\n",
            "\n",
            "\n",
            "--------------------------------------------- Result 57 ---------------------------------------------\n",
            "[[Sci/tech (82%)]] --> [[[SKIPPED]]]\n",
            "\n",
            "India's Tata expands regional footprint via NatSteel buyout (AFP) AFP - India's Tata Iron and Steel Company Ltd. took a strategic step to expand its Asian footprint with the announcement it will buy the Asia-Pacific steel operations of Singapore's NatSteel Ltd.\n",
            "\n",
            "\n"
          ]
        },
        {
          "output_type": "stream",
          "name": "stderr",
          "text": [
            "\n",
            "[Succeeded / Failed / Skipped / Total] 39 / 8 / 10 / 57:  58%|█████▊    | 58/100 [00:33<00:24,  1.75it/s]\u001b[A\n",
            "[Succeeded / Failed / Skipped / Total] 39 / 9 / 10 / 58:  58%|█████▊    | 58/100 [00:33<00:24,  1.75it/s]\u001b[A"
          ]
        },
        {
          "output_type": "stream",
          "name": "stdout",
          "text": [
            "--------------------------------------------- Result 58 ---------------------------------------------\n",
            "[[World (100%)]] --> [[[FAILED]]]\n",
            "\n",
            "Delegates Urge Cleric to Pull Out of Najaf BAGHDAD, Iraq - Delegates at Iraq's National Conference called on radical Shiite cleric Muqtada al-Sadr to abandon his uprising against U.S. and Iraqi troops and pull his fighters out of a holy shrine in Najaf...\n",
            "\n",
            "\n"
          ]
        },
        {
          "output_type": "stream",
          "name": "stderr",
          "text": [
            "\n",
            "[Succeeded / Failed / Skipped / Total] 40 / 9 / 10 / 59:  59%|█████▉    | 59/100 [00:33<00:23,  1.75it/s]\u001b[A"
          ]
        },
        {
          "output_type": "stream",
          "name": "stdout",
          "text": [
            "--------------------------------------------- Result 59 ---------------------------------------------\n",
            "[[Business (100%)]] --> [[Sci/tech (98%)]]\n",
            "\n",
            "Treasuries Slip as [[Stocks]] [[Rally]]  [[NEW]] YORK (Reuters) - [[U]].[[S]]. [[Treasury]] debt [[prices]] [[slipped]] on  Monday, though [[traders]] [[characterized]] the [[move]] as profit-taking  [[rather]] than any [[fundamental]] [[change]] in sentiment.\n",
            "\n",
            "Treasuries Slip as [[lineage]] [[summon]]  [[newfangled]] YORK (Reuters) - [[uranium]].[[siemens]]. [[exchequer]] debt [[damage]] [[steal]] on  Monday, though [[bargainer]] [[characterise]] the [[actuate]] as profit-taking  [[preferably]] than any [[rudimentary]] [[alteration]] in sentiment.\n",
            "\n",
            "\n"
          ]
        },
        {
          "output_type": "stream",
          "name": "stderr",
          "text": [
            "\n",
            "[Succeeded / Failed / Skipped / Total] 40 / 9 / 10 / 59:  60%|██████    | 60/100 [00:34<00:22,  1.74it/s]\u001b[A\n",
            "[Succeeded / Failed / Skipped / Total] 41 / 9 / 10 / 60:  60%|██████    | 60/100 [00:34<00:22,  1.74it/s]\u001b[A"
          ]
        },
        {
          "output_type": "stream",
          "name": "stdout",
          "text": [
            "--------------------------------------------- Result 60 ---------------------------------------------\n",
            "[[Business (100%)]] --> [[Sci/tech (66%)]]\n",
            "\n",
            "[[Dollar]] [[Rises]] Vs Euro on Asset [[Flows]] Data  [[NEW]] YORK (Reuters) - The dollar extended gains against the  euro on Monday after a report on [[flows]] into [[U]].S. assets showed  enough of a [[rise]] in [[foreign]] investments to offset the current  account gap for the month.\n",
            "\n",
            "[[buck]] [[mount]] Vs Euro on Asset [[menstruate]] Data  [[newfangled]] YORK (Reuters) - The dollar extended gains against the  euro on Monday after a report on [[menstruate]] into [[uranium]].S. assets showed  enough of a [[rebel]] in [[alien]] investments to offset the current  account gap for the month.\n",
            "\n",
            "\n"
          ]
        },
        {
          "output_type": "stream",
          "name": "stderr",
          "text": [
            "\n",
            "[Succeeded / Failed / Skipped / Total] 41 / 10 / 10 / 61:  61%|██████    | 61/100 [00:34<00:22,  1.75it/s]\u001b[A"
          ]
        },
        {
          "output_type": "stream",
          "name": "stdout",
          "text": [
            "--------------------------------------------- Result 61 ---------------------------------------------\n",
            "[[Sports (100%)]] --> [[[FAILED]]]\n",
            "\n",
            "Sutton Adds Haas, Cink to Ryder Cup Team  MILWAUKEE (Sports Network) - U.S. Ryder Cup captain Hal  Sutton finalized his team on Monday when he announced the  selections of Jay Haas and Stewart Cink as his captain's picks.\n",
            "\n",
            "\n"
          ]
        },
        {
          "output_type": "stream",
          "name": "stderr",
          "text": [
            "\n",
            "[Succeeded / Failed / Skipped / Total] 41 / 10 / 10 / 61:  62%|██████▏   | 62/100 [00:35<00:21,  1.76it/s]\u001b[A\n",
            "[Succeeded / Failed / Skipped / Total] 41 / 11 / 10 / 62:  62%|██████▏   | 62/100 [00:35<00:21,  1.76it/s]\u001b[A"
          ]
        },
        {
          "output_type": "stream",
          "name": "stdout",
          "text": [
            "--------------------------------------------- Result 62 ---------------------------------------------\n",
            "[[Sports (100%)]] --> [[[FAILED]]]\n",
            "\n",
            "Haas and Cink Selected for Ryder Cup Team Jay Haas joined Stewart Cink as the two captain's picks for a U.S. team that will try to regain the cup from Europe next month.\n",
            "\n",
            "\n"
          ]
        },
        {
          "output_type": "stream",
          "name": "stderr",
          "text": [
            "\n",
            "[Succeeded / Failed / Skipped / Total] 41 / 12 / 10 / 63:  63%|██████▎   | 63/100 [00:35<00:21,  1.75it/s]\u001b[A"
          ]
        },
        {
          "output_type": "stream",
          "name": "stdout",
          "text": [
            "--------------------------------------------- Result 63 ---------------------------------------------\n",
            "[[Sports (100%)]] --> [[[FAILED]]]\n",
            "\n",
            "Natalie Coughlin Wins 100M Backstroke (AP) AP - American Natalie Coughlin won Olympic gold in the 100-meter backstroke Monday night. Coughlin, the only woman ever to swim under 1 minute in the event, finished first in 1 minute, 0.37 seconds. Kirsty Coventry of Zimbabwe, who swims at Auburn University in Alabama, earned the silver in 1:00.50. Laure Manaudou of France took bronze in 1:00.88.\n",
            "\n",
            "\n"
          ]
        },
        {
          "output_type": "stream",
          "name": "stderr",
          "text": [
            "\n",
            "[Succeeded / Failed / Skipped / Total] 41 / 12 / 10 / 63:  64%|██████▍   | 64/100 [00:36<00:20,  1.77it/s]\u001b[A\n",
            "[Succeeded / Failed / Skipped / Total] 41 / 13 / 10 / 64:  64%|██████▍   | 64/100 [00:36<00:20,  1.77it/s]\u001b[A"
          ]
        },
        {
          "output_type": "stream",
          "name": "stdout",
          "text": [
            "--------------------------------------------- Result 64 ---------------------------------------------\n",
            "[[Sci/tech (100%)]] --> [[[FAILED]]]\n",
            "\n",
            "Oracle Overhauls Sales-Side Apps for CRM Suite (NewsFactor) NewsFactor - Oracle (Nasdaq: ORCL) has revamped its sales-side CRM applications in version 11i.10 of its sales, marketing, partner relationship management and e-commerce application.\n",
            "\n",
            "\n"
          ]
        },
        {
          "output_type": "stream",
          "name": "stderr",
          "text": [
            "\n",
            "[Succeeded / Failed / Skipped / Total] 42 / 13 / 10 / 65:  65%|██████▌   | 65/100 [00:36<00:19,  1.78it/s]\u001b[A"
          ]
        },
        {
          "output_type": "stream",
          "name": "stdout",
          "text": [
            "--------------------------------------------- Result 65 ---------------------------------------------\n",
            "[[World (100%)]] --> [[Sci/tech (86%)]]\n",
            "\n",
            "UN launches 210-million-dollar appeal for flood-hit Bangladesh (AFP) AFP - The United Nations launched an appeal here for 210 million dollars to help flood victims facing \"grave\" food shortages after two-thirds of Bangladesh was [[submerged]], destroying [[crops]] and killing more than 700 people.\n",
            "\n",
            "UN launches 210-million-dollar appeal for flood-hit Bangladesh (AFP) AFP - The United Nations launched an appeal here for 210 million dollars to help flood victims facing \"grave\" food shortages after two-thirds of Bangladesh was [[underwater]], destroying [[browse]] and killing more than 700 people.\n",
            "\n",
            "\n"
          ]
        },
        {
          "output_type": "stream",
          "name": "stderr",
          "text": [
            "\n",
            "[Succeeded / Failed / Skipped / Total] 42 / 13 / 10 / 65:  66%|██████▌   | 66/100 [00:37<00:19,  1.78it/s]\u001b[A\n",
            "[Succeeded / Failed / Skipped / Total] 42 / 14 / 10 / 66:  66%|██████▌   | 66/100 [00:37<00:19,  1.78it/s]\u001b[A"
          ]
        },
        {
          "output_type": "stream",
          "name": "stdout",
          "text": [
            "--------------------------------------------- Result 66 ---------------------------------------------\n",
            "[[Sci/tech (100%)]] --> [[[FAILED]]]\n",
            "\n",
            "Indian state rolls out wireless broadband Government in South Indian state of Kerala sets up wireless kiosks as part of initiative to bridge digital divide.\n",
            "\n",
            "\n"
          ]
        },
        {
          "output_type": "stream",
          "name": "stderr",
          "text": [
            "\n",
            "[Succeeded / Failed / Skipped / Total] 43 / 14 / 10 / 67:  67%|██████▋   | 67/100 [00:37<00:18,  1.78it/s]\u001b[A"
          ]
        },
        {
          "output_type": "stream",
          "name": "stdout",
          "text": [
            "--------------------------------------------- Result 67 ---------------------------------------------\n",
            "[[World (97%)]] --> [[Sci/tech (95%)]]\n",
            "\n",
            "Hurricane Survivors Wait for Water, [[Gas]] PUNTA GORDA, Fla. - Urban rescue teams, insurance adjusters and National Guard [[troops]] scattered across Florida Monday to help victims of Hurricane Charley and deliver water and other supplies to thousands of people left homeless...\n",
            "\n",
            "Hurricane Survivors Wait for Water, [[accelerator]] PUNTA GORDA, Fla. - Urban rescue teams, insurance adjusters and National Guard [[flock]] scattered across Florida Monday to help victims of Hurricane Charley and deliver water and other supplies to thousands of people left homeless...\n",
            "\n",
            "\n"
          ]
        },
        {
          "output_type": "stream",
          "name": "stderr",
          "text": [
            "\n",
            "[Succeeded / Failed / Skipped / Total] 43 / 14 / 10 / 67:  68%|██████▊   | 68/100 [00:38<00:17,  1.79it/s]\u001b[A\n",
            "[Succeeded / Failed / Skipped / Total] 44 / 14 / 10 / 68:  68%|██████▊   | 68/100 [00:38<00:17,  1.79it/s]\u001b[A"
          ]
        },
        {
          "output_type": "stream",
          "name": "stdout",
          "text": [
            "--------------------------------------------- Result 68 ---------------------------------------------\n",
            "[[World (61%)]] --> [[Sports (100%)]]\n",
            "\n",
            "Jackson Squares Off With Prosecutor SANTA MARIA, Calif. - Fans of Michael Jackson erupted in cheers Monday as the pop star emerged from a double-decker tour [[bus]] and went into court for a showdown with the prosecutor who has pursued him for years on child molestation charges...\n",
            "\n",
            "Jackson Squares Off With Prosecutor SANTA MARIA, Calif. - Fans of Michael Jackson erupted in cheers Monday as the pop star emerged from a double-decker tour [[coach]] and went into court for a showdown with the prosecutor who has pursued him for years on child molestation charges...\n",
            "\n",
            "\n"
          ]
        },
        {
          "output_type": "stream",
          "name": "stderr",
          "text": [
            "\n",
            "[Succeeded / Failed / Skipped / Total] 45 / 14 / 10 / 69:  69%|██████▉   | 69/100 [00:38<00:17,  1.80it/s]\u001b[A"
          ]
        },
        {
          "output_type": "stream",
          "name": "stdout",
          "text": [
            "--------------------------------------------- Result 69 ---------------------------------------------\n",
            "[[Sports (100%)]] --> [[Sci/tech (55%)]]\n",
            "\n",
            "Bobcats Trade Drobnjak to Hawks for Pick (AP) AP - The Charlotte Bobcats [[traded]] [[center]] Predrag Drobnjak to the Atlanta Hawks on Monday for a second round pick in the 2005 NBA draft.\n",
            "\n",
            "Bobcats Trade Drobnjak to Hawks for Pick (AP) AP - The Charlotte Bobcats [[merchandise]] [[kernel]] Predrag Drobnjak to the Atlanta Hawks on Monday for a second round pick in the 2005 NBA draft.\n",
            "\n",
            "\n"
          ]
        },
        {
          "output_type": "stream",
          "name": "stderr",
          "text": [
            "\n",
            "[Succeeded / Failed / Skipped / Total] 45 / 14 / 10 / 69:  70%|███████   | 70/100 [00:38<00:16,  1.80it/s]\u001b[A\n",
            "[Succeeded / Failed / Skipped / Total] 46 / 14 / 10 / 70:  70%|███████   | 70/100 [00:38<00:16,  1.80it/s]\u001b[A"
          ]
        },
        {
          "output_type": "stream",
          "name": "stdout",
          "text": [
            "--------------------------------------------- Result 70 ---------------------------------------------\n",
            "[[World (100%)]] --> [[Sci/tech (73%)]]\n",
            "\n",
            "Suspect charged in abduction, sexual assault of 11-year-old girl (Canadian [[Press]]) Canadian [[Press]] - LANGLEY, B.C. (CP) - Police have arrested a [[man]] in the kidnapping and sexual assault of an 11-year-old girl that frightened this suburban Vancouver community last week.\n",
            "\n",
            "Suspect charged in abduction, sexual assault of 11-year-old girl (Canadian [[compress]]) Canadian [[contract]] - LANGLEY, B.C. (CP) - Police have arrested a [[homo]] in the kidnapping and sexual assault of an 11-year-old girl that frightened this suburban Vancouver community last week.\n",
            "\n",
            "\n"
          ]
        },
        {
          "output_type": "stream",
          "name": "stderr",
          "text": [
            "\n",
            "[Succeeded / Failed / Skipped / Total] 46 / 15 / 10 / 71:  71%|███████   | 71/100 [00:40<00:16,  1.77it/s]\u001b[A"
          ]
        },
        {
          "output_type": "stream",
          "name": "stdout",
          "text": [
            "--------------------------------------------- Result 71 ---------------------------------------------\n",
            "[[Sci/tech (100%)]] --> [[[FAILED]]]\n",
            "\n",
            "China's Red Flag Linux to focus on enterprise Red Flag Software Co., the company behind China's leading Linux client distribution, plans to focus more on its server operating system and enterprise customers, the company's acting president said.\n",
            "\n",
            "\n"
          ]
        },
        {
          "output_type": "stream",
          "name": "stderr",
          "text": [
            "\n",
            "[Succeeded / Failed / Skipped / Total] 46 / 15 / 10 / 71:  72%|███████▏  | 72/100 [00:41<00:16,  1.74it/s]\u001b[A\n",
            "[Succeeded / Failed / Skipped / Total] 46 / 16 / 10 / 72:  72%|███████▏  | 72/100 [00:41<00:16,  1.74it/s]\u001b[A"
          ]
        },
        {
          "output_type": "stream",
          "name": "stdout",
          "text": [
            "--------------------------------------------- Result 72 ---------------------------------------------\n",
            "[[Sci/tech (100%)]] --> [[[FAILED]]]\n",
            "\n",
            "AOL Properties Sign Girafa For Thumbnail Search Images AOL Properties Sign Girafa For Thumbnail Search Images\\\\Girafa.com Inc. announced today that the CompuServe, Netscape, AIM and ICQ properties of America Online, Inc., have signed an agreement with Girafa to use Girafa's thumbnail search images as an integrated part of their search results.\\\\Using Girafa's thumbnail search service, search users can ...\n",
            "\n",
            "\n"
          ]
        },
        {
          "output_type": "stream",
          "name": "stderr",
          "text": [
            "\n",
            "[Succeeded / Failed / Skipped / Total] 46 / 17 / 10 / 73:  73%|███████▎  | 73/100 [00:41<00:15,  1.75it/s]\u001b[A"
          ]
        },
        {
          "output_type": "stream",
          "name": "stdout",
          "text": [
            "--------------------------------------------- Result 73 ---------------------------------------------\n",
            "[[Sci/tech (100%)]] --> [[[FAILED]]]\n",
            "\n",
            "Cassini Spies Two Little Saturn Moons (AP) AP - NASA's Cassini spacecraft has spied two new little moons around satellite-rich Saturn, the space agency said Monday.\n",
            "\n",
            "\n"
          ]
        },
        {
          "output_type": "stream",
          "name": "stderr",
          "text": [
            "\n",
            "[Succeeded / Failed / Skipped / Total] 46 / 17 / 10 / 73:  74%|███████▍  | 74/100 [00:41<00:14,  1.76it/s]\u001b[A\n",
            "[Succeeded / Failed / Skipped / Total] 47 / 17 / 10 / 74:  74%|███████▍  | 74/100 [00:41<00:14,  1.76it/s]\u001b[A"
          ]
        },
        {
          "output_type": "stream",
          "name": "stdout",
          "text": [
            "--------------------------------------------- Result 74 ---------------------------------------------\n",
            "[[World (98%)]] --> [[Sci/tech (62%)]]\n",
            "\n",
            "On front [[line]] of AIDS in Russia An industrial city northwest of Moscow [[struggles]] as AIDS hits a broader population.\n",
            "\n",
            "On front [[lineage]] of AIDS in Russia An industrial city northwest of Moscow [[clamber]] as AIDS hits a broader population.\n",
            "\n",
            "\n"
          ]
        },
        {
          "output_type": "stream",
          "name": "stderr",
          "text": [
            "\n",
            "[Succeeded / Failed / Skipped / Total] 48 / 17 / 10 / 75:  75%|███████▌  | 75/100 [00:42<00:14,  1.77it/s]\u001b[A"
          ]
        },
        {
          "output_type": "stream",
          "name": "stdout",
          "text": [
            "--------------------------------------------- Result 75 ---------------------------------------------\n",
            "[[Sci/tech (100%)]] --> [[World (96%)]]\n",
            "\n",
            "Nobel Laureate Decries [[Stem]] Cell Limits (AP) AP - A Nobel laureate in medicine said Monday the Bush administration's limits on funding for embryonic [[stem]] cell research effectively have stopped the clock on American scientists' efforts to develop treatments for a host of chronic, debilitating diseases.\n",
            "\n",
            "Nobel Laureate Decries [[radical]] Cell Limits (AP) AP - A Nobel laureate in medicine said Monday the Bush administration's limits on funding for embryonic [[staunch]] cell research effectively have stopped the clock on American scientists' efforts to develop treatments for a host of chronic, debilitating diseases.\n",
            "\n",
            "\n"
          ]
        },
        {
          "output_type": "stream",
          "name": "stderr",
          "text": [
            "\n",
            "[Succeeded / Failed / Skipped / Total] 48 / 17 / 10 / 75:  76%|███████▌  | 76/100 [00:42<00:13,  1.77it/s]\u001b[A\n",
            "[Succeeded / Failed / Skipped / Total] 49 / 17 / 10 / 76:  76%|███████▌  | 76/100 [00:42<00:13,  1.77it/s]\u001b[A"
          ]
        },
        {
          "output_type": "stream",
          "name": "stdout",
          "text": [
            "--------------------------------------------- Result 76 ---------------------------------------------\n",
            "[[Sports (100%)]] --> [[Sci/tech (99%)]]\n",
            "\n",
            "Jury Can Hear of Kobe Accuser's [[Sex]] [[Life]] (AP) AP - Prosecutors suffered another setback Monday in the Kobe Bryant sexual assault case, losing a last-ditch attempt to keep the NBA star's lawyers from telling jurors about the alleged victim's sex life.\n",
            "\n",
            "Jury Can Hear of Kobe Accuser's [[excite]] [[lifespan]] (AP) AP - Prosecutors suffered another setback Monday in the Kobe Bryant sexual assault case, losing a last-ditch attempt to keep the NBA star's lawyers from telling jurors about the alleged victim's sex life.\n",
            "\n",
            "\n"
          ]
        },
        {
          "output_type": "stream",
          "name": "stderr",
          "text": [
            "\n",
            "[Succeeded / Failed / Skipped / Total] 50 / 17 / 10 / 77:  77%|███████▋  | 77/100 [00:43<00:13,  1.76it/s]\u001b[A"
          ]
        },
        {
          "output_type": "stream",
          "name": "stdout",
          "text": [
            "--------------------------------------------- Result 77 ---------------------------------------------\n",
            "[[World (100%)]] --> [[Sci/tech (91%)]]\n",
            "\n",
            "North Korea Talks Still On, [[China]] Tells Downer (Reuters) Reuters - [[China]] has said no date has been [[set]] for\\working-level [[talks]] on the North Korean nuclear crisis and gave\\no indication that the [[meeting]] has been [[canceled]], Australian\\Foreign [[Minister]] Alexander [[Downer]] [[said]] on Tuesday.\n",
            "\n",
            "North Korea Talks Still On, [[Cathay]] Tells Downer (Reuters) Reuters - [[Cathay]] has said no date has been [[typeset]] for\\working-level [[verbalize]] on the North Korean nuclear crisis and gave\\no indication that the [[gather]] has been [[delete]], Australian\\Foreign [[curate]] Alexander [[depressant]] [[enunciate]] on Tuesday.\n",
            "\n",
            "\n"
          ]
        },
        {
          "output_type": "stream",
          "name": "stderr",
          "text": [
            "\n",
            "[Succeeded / Failed / Skipped / Total] 50 / 17 / 10 / 77:  78%|███████▊  | 78/100 [00:43<00:12,  1.78it/s]\u001b[A\n",
            "[Succeeded / Failed / Skipped / Total] 51 / 17 / 10 / 78:  78%|███████▊  | 78/100 [00:43<00:12,  1.78it/s]\u001b[A"
          ]
        },
        {
          "output_type": "stream",
          "name": "stdout",
          "text": [
            "--------------------------------------------- Result 78 ---------------------------------------------\n",
            "[[Sports (100%)]] --> [[Sci/tech (62%)]]\n",
            "\n",
            "Griffin to Anchor D-Line The [[Redskins]] expect huge things from 300-pound Cornelius [[Griffin]], who was signed to aid the team's weakest unit - the defensive line.\n",
            "\n",
            "Griffin to Anchor D-Line The [[Redskin]] expect huge things from 300-pound Cornelius [[gryphon]], who was signed to aid the team's weakest unit - the defensive line.\n",
            "\n",
            "\n"
          ]
        },
        {
          "output_type": "stream",
          "name": "stderr",
          "text": [
            "\n",
            "[Succeeded / Failed / Skipped / Total] 52 / 17 / 10 / 79:  79%|███████▉  | 79/100 [00:44<00:11,  1.78it/s]\u001b[A\n",
            "[Succeeded / Failed / Skipped / Total] 52 / 17 / 10 / 79:  80%|████████  | 80/100 [00:44<00:11,  1.80it/s]\u001b[A\n",
            "[Succeeded / Failed / Skipped / Total] 52 / 17 / 11 / 80:  80%|████████  | 80/100 [00:44<00:11,  1.80it/s]\u001b[A"
          ]
        },
        {
          "output_type": "stream",
          "name": "stdout",
          "text": [
            "--------------------------------------------- Result 79 ---------------------------------------------\n",
            "[[World (100%)]] --> [[Sci/tech (82%)]]\n",
            "\n",
            "[[Last]] American defector in North Korea agrees to tell story (AFP) AFP - The last surviving American defector to communist North Korea wants to tell his story to put a [[human]] [[face]] on the Stalinist state which he believes is unfairly vilified abroad, British film-makers said.\n",
            "\n",
            "[[last-place]] American defector in North Korea agrees to tell story (AFP) AFP - The last surviving American defector to communist North Korea wants to tell his story to put a [[homo]] [[font]] on the Stalinist state which he believes is unfairly vilified abroad, British film-makers said.\n",
            "\n",
            "\n",
            "--------------------------------------------- Result 80 ---------------------------------------------\n",
            "[[Sports (99%)]] --> [[[SKIPPED]]]\n",
            "\n",
            "Live: Olympics day four Richard Faulds and Stephen Parry are going for gold for Great Britain on day four in Athens.\n",
            "\n",
            "\n"
          ]
        },
        {
          "output_type": "stream",
          "name": "stderr",
          "text": [
            "\n",
            "[Succeeded / Failed / Skipped / Total] 53 / 17 / 11 / 81:  81%|████████  | 81/100 [00:44<00:10,  1.80it/s]\u001b[A\n",
            "[Succeeded / Failed / Skipped / Total] 53 / 17 / 11 / 81:  82%|████████▏ | 82/100 [00:45<00:09,  1.82it/s]\u001b[A\n",
            "[Succeeded / Failed / Skipped / Total] 53 / 18 / 11 / 82:  82%|████████▏ | 82/100 [00:45<00:09,  1.82it/s]\u001b[A"
          ]
        },
        {
          "output_type": "stream",
          "name": "stdout",
          "text": [
            "--------------------------------------------- Result 81 ---------------------------------------------\n",
            "[[World (96%)]] --> [[Business (54%)]]\n",
            "\n",
            "Kerry Widens Lead in California, Poll Finds (Reuters) Reuters - Democratic challenger John Kerry\\has a commanding lead over President Bush in California of 54\\percent to 38 percent among likely voters, a poll [[released]] on\\Tuesday found.\n",
            "\n",
            "Kerry Widens Lead in California, Poll Finds (Reuters) Reuters - Democratic challenger John Kerry\\has a commanding lead over President Bush in California of 54\\percent to 38 percent among likely voters, a poll [[unfreeze]] on\\Tuesday found.\n",
            "\n",
            "\n",
            "--------------------------------------------- Result 82 ---------------------------------------------\n",
            "[[Sports (100%)]] --> [[[FAILED]]]\n",
            "\n",
            "Capacity Crowds at Beach Volleyball Rock the Joint  ATHENS (Reuters) - At the beach volleyball, the 2004  Olympics is a sell-out, foot-stomping success.\n",
            "\n",
            "\n"
          ]
        },
        {
          "output_type": "stream",
          "name": "stderr",
          "text": [
            "\n",
            "[Succeeded / Failed / Skipped / Total] 54 / 18 / 11 / 83:  83%|████████▎ | 83/100 [00:45<00:09,  1.81it/s]\u001b[A\n",
            "[Succeeded / Failed / Skipped / Total] 54 / 18 / 11 / 83:  84%|████████▍ | 84/100 [00:45<00:08,  1.83it/s]\u001b[A\n",
            "[Succeeded / Failed / Skipped / Total] 54 / 18 / 12 / 84:  84%|████████▍ | 84/100 [00:45<00:08,  1.83it/s]\u001b[A"
          ]
        },
        {
          "output_type": "stream",
          "name": "stdout",
          "text": [
            "--------------------------------------------- Result 83 ---------------------------------------------\n",
            "[[Business (100%)]] --> [[Sci/tech (95%)]]\n",
            "\n",
            "Dollar Near [[Recent]] Lows, Awaits ZEW/CPI  LONDON (Reuters) - The [[dollar]] [[held]] [[steady]] [[near]] this week's  four-week [[low]] against the euro on Tuesday with investors  awaiting a German investor confidence survey and [[U]].S. consumer  inflation numbers to shed light on the direction.\n",
            "\n",
            "Dollar Near [[Holocene]] Lows, Awaits ZEW/CPI  LONDON (Reuters) - The [[buck]] [[obligate]] [[unfaltering]] [[well-nigh]] this week's  four-week [[moo]] against the euro on Tuesday with investors  awaiting a German investor confidence survey and [[uranium]].S. consumer  inflation numbers to shed light on the direction.\n",
            "\n",
            "\n",
            "--------------------------------------------- Result 84 ---------------------------------------------\n",
            "[[Sci/tech (100%)]] --> [[[SKIPPED]]]\n",
            "\n",
            "Intel to delay product aimed for high-definition TVs SAN FRANCISCO -- In the latest of a series of product delays, Intel Corp. has postponed the launch of a video display chip it had previously planned to introduce by year end, putting off a showdown with Texas Instruments Inc. in the fast-growing market for high-definition television displays.\n",
            "\n",
            "\n"
          ]
        },
        {
          "output_type": "stream",
          "name": "stderr",
          "text": [
            "\n",
            "[Succeeded / Failed / Skipped / Total] 55 / 18 / 12 / 85:  85%|████████▌ | 85/100 [00:46<00:08,  1.83it/s]\u001b[A"
          ]
        },
        {
          "output_type": "stream",
          "name": "stdout",
          "text": [
            "--------------------------------------------- Result 85 ---------------------------------------------\n",
            "[[World (100%)]] --> [[Sci/tech (54%)]]\n",
            "\n",
            "Venezuela vote keeps Chavez as [[president]] CARACAS -- Venezuelans voted resoundingly to [[keep]] [[firebrand]] populist Hugo Chavez as their president in a victory that drew noisy reactions yesterday from both sides in the streets. International [[observers]] certified the [[results]] as [[clean]] and accurate.\n",
            "\n",
            "Venezuela vote keeps Chavez as [[chair]] CARACAS -- Venezuelans voted resoundingly to [[livelihood]] [[brand]] populist Hugo Chavez as their president in a victory that drew noisy reactions yesterday from both sides in the streets. International [[perceiver]] certified the [[upshot]] as [[uninfected]] and accurate.\n",
            "\n",
            "\n"
          ]
        },
        {
          "output_type": "stream",
          "name": "stderr",
          "text": [
            "\n",
            "[Succeeded / Failed / Skipped / Total] 55 / 18 / 12 / 85:  86%|████████▌ | 86/100 [00:46<00:07,  1.83it/s]\u001b[A\n",
            "[Succeeded / Failed / Skipped / Total] 55 / 19 / 12 / 86:  86%|████████▌ | 86/100 [00:46<00:07,  1.83it/s]\u001b[A"
          ]
        },
        {
          "output_type": "stream",
          "name": "stdout",
          "text": [
            "--------------------------------------------- Result 86 ---------------------------------------------\n",
            "[[World (100%)]] --> [[[FAILED]]]\n",
            "\n",
            "Jailing of HK democrat in China 'politically motivated' (AFP) AFP - Hong Kong democrats accused China of jailing one of their members on trumped-up prostitution charges in a bid to disgrace a political movement Beijing has been feuding with for seven years.\n",
            "\n",
            "\n"
          ]
        },
        {
          "output_type": "stream",
          "name": "stderr",
          "text": [
            "\n",
            "[Succeeded / Failed / Skipped / Total] 55 / 20 / 12 / 87:  87%|████████▋ | 87/100 [00:48<00:07,  1.81it/s]\u001b[A\n",
            "[Succeeded / Failed / Skipped / Total] 55 / 20 / 12 / 87:  88%|████████▊ | 88/100 [00:48<00:06,  1.83it/s]\u001b[A\n",
            "[Succeeded / Failed / Skipped / Total] 55 / 20 / 13 / 88:  88%|████████▊ | 88/100 [00:48<00:06,  1.83it/s]\u001b[A\n",
            "[Succeeded / Failed / Skipped / Total] 55 / 20 / 14 / 89:  89%|████████▉ | 89/100 [00:48<00:05,  1.85it/s]\u001b[A\n",
            "[Succeeded / Failed / Skipped / Total] 55 / 20 / 15 / 90:  90%|█████████ | 90/100 [00:48<00:05,  1.87it/s]\u001b[A"
          ]
        },
        {
          "output_type": "stream",
          "name": "stdout",
          "text": [
            "--------------------------------------------- Result 87 ---------------------------------------------\n",
            "[[Business (100%)]] --> [[[FAILED]]]\n",
            "\n",
            "Kmart Swings to Profit in 2Q; Stock Surges (AP) AP - Shares of Kmart Holding Corp. surged 17 percent Monday after the discount retailer reported a profit for the second quarter and said chairman and majority owner Edward Lampert is now free to invest the company's  #36;2.6 billion in surplus cash.\n",
            "\n",
            "\n",
            "--------------------------------------------- Result 88 ---------------------------------------------\n",
            "[[Sports (100%)]] --> [[[SKIPPED]]]\n",
            "\n",
            "Fischer's Fiancee: Marriage Plans Genuine (AP) AP - Former chess champion Bobby Fischer's announcement thathe is engaged to a Japanese woman could win him sympathy among Japanese officials and help him avoid deportation to the United States, his fiancee and one of his supporters said Tuesday.\n",
            "\n",
            "\n",
            "--------------------------------------------- Result 89 ---------------------------------------------\n",
            "[[Sports (100%)]] --> [[[SKIPPED]]]\n",
            "\n",
            "U.S. Misses Cut in Olympic 100 Free ATHENS, Greece - Top American sprinters Jason Lezak and Ian Crocker missed the cut in the Olympic 100-meter freestyle preliminaries Tuesday, a stunning blow for a country that had always done well in the event.    Pieter van den Hoogenband of the Netherlands and Australian Ian Thorpe advanced to the evening semifinal a day after dueling teenager Michael Phelps in the 200 freestyle, won by Thorpe...\n",
            "\n",
            "\n",
            "--------------------------------------------- Result 90 ---------------------------------------------\n",
            "[[World (52%)]] --> [[[SKIPPED]]]\n",
            "\n",
            "Consumers Would Pay In Phone Proposal A proposal backed by a coalition of telephone carriers would cut billions of dollars in fees owed by long-distance companies to regional phone giants but would allow the regional companies to make up some of the difference by raising monthly phone bills for millions of consumers. &lt;FONT face=\"verdana,MS Sans Serif,arial,helvetica\" size=\"-2\"\\ color=\"#666666\"&gt;&lt;B&gt;-The Washington Post&lt;/B&gt;&lt;/FONT&gt;\n",
            "\n",
            "\n"
          ]
        },
        {
          "output_type": "stream",
          "name": "stderr",
          "text": [
            "\n",
            "[Succeeded / Failed / Skipped / Total] 55 / 20 / 15 / 90:  91%|█████████ | 91/100 [00:48<00:04,  1.88it/s]\u001b[A\n",
            "[Succeeded / Failed / Skipped / Total] 55 / 21 / 15 / 91:  91%|█████████ | 91/100 [00:48<00:04,  1.88it/s]\u001b[A"
          ]
        },
        {
          "output_type": "stream",
          "name": "stdout",
          "text": [
            "--------------------------------------------- Result 91 ---------------------------------------------\n",
            "[[World (100%)]] --> [[[FAILED]]]\n",
            "\n",
            "U.S. Brokers Cease-fire in Western Afghanistan  KABUL (Reuters) - The United States has brokered a  cease-fire between a renegade Afghan militia leader and the  embattled governor of the western province of Herat,  Washington's envoy to Kabul said Tuesday.\n",
            "\n",
            "\n"
          ]
        },
        {
          "output_type": "stream",
          "name": "stderr",
          "text": [
            "\n",
            "[Succeeded / Failed / Skipped / Total] 56 / 21 / 15 / 92:  92%|█████████▏| 92/100 [00:48<00:04,  1.89it/s]\u001b[A"
          ]
        },
        {
          "output_type": "stream",
          "name": "stdout",
          "text": [
            "--------------------------------------------- Result 92 ---------------------------------------------\n",
            "[[Business (100%)]] --> [[Sci/tech (85%)]]\n",
            "\n",
            "Sneaky Credit Card Tactics Keep an eye on your [[credit]] card issuers -- they may be about to raise your rates.\n",
            "\n",
            "Sneaky Credit Card Tactics Keep an eye on your [[accredit]] card issuers -- they may be about to raise your rates.\n",
            "\n",
            "\n"
          ]
        },
        {
          "output_type": "stream",
          "name": "stderr",
          "text": [
            "\n",
            "[Succeeded / Failed / Skipped / Total] 57 / 21 / 15 / 93:  93%|█████████▎| 93/100 [00:49<00:03,  1.90it/s]\u001b[A"
          ]
        },
        {
          "output_type": "stream",
          "name": "stdout",
          "text": [
            "--------------------------------------------- Result 93 ---------------------------------------------\n",
            "[[Sci/tech (84%)]] --> [[Business (51%)]]\n",
            "\n",
            "Intel Delays [[Launch]] of Projection TV Chip In another product postponement, semiconductor giant Intel Corp. said it won't be offering a chip for projection TVs by the end of 2004 as it had announced earlier this year.\n",
            "\n",
            "Intel Delays [[plunge]] of Projection TV Chip In another product postponement, semiconductor giant Intel Corp. said it won't be offering a chip for projection TVs by the end of 2004 as it had announced earlier this year.\n",
            "\n",
            "\n"
          ]
        },
        {
          "output_type": "stream",
          "name": "stderr",
          "text": [
            "\n",
            "[Succeeded / Failed / Skipped / Total] 57 / 21 / 15 / 93:  94%|█████████▍| 94/100 [00:49<00:03,  1.90it/s]\u001b[A\n",
            "[Succeeded / Failed / Skipped / Total] 58 / 21 / 15 / 94:  94%|█████████▍| 94/100 [00:49<00:03,  1.90it/s]\u001b[A"
          ]
        },
        {
          "output_type": "stream",
          "name": "stdout",
          "text": [
            "--------------------------------------------- Result 94 ---------------------------------------------\n",
            "[[Business (100%)]] --> [[Sci/tech (98%)]]\n",
            "\n",
            "Fund pessimism grows [[NEW]] YORK (CNN/Money) - Money managers are [[growing]] more pessimistic about the economy, corporate profits and US [[stock]] [[market]] [[returns]], according to a monthly survey by Merrill Lynch released Tuesday. \n",
            "\n",
            "Fund pessimism grows [[newfangled]] YORK (CNN/Money) - Money managers are [[mature]] more pessimistic about the economy, corporate profits and US [[well-worn]] [[commercialize]] [[replication]], according to a monthly survey by Merrill Lynch released Tuesday. \n",
            "\n",
            "\n"
          ]
        },
        {
          "output_type": "stream",
          "name": "stderr",
          "text": [
            "\n",
            "[Succeeded / Failed / Skipped / Total] 59 / 21 / 15 / 95:  95%|█████████▌| 95/100 [00:49<00:02,  1.90it/s]\u001b[A"
          ]
        },
        {
          "output_type": "stream",
          "name": "stdout",
          "text": [
            "--------------------------------------------- Result 95 ---------------------------------------------\n",
            "[[Sports (100%)]] --> [[Sci/tech (63%)]]\n",
            "\n",
            "Kederis proclaims innocence Olympic [[champion]] Kostas Kederis [[today]] [[left]] hospital ahead of his date with IOC [[inquisitors]] [[claiming]] his [[innocence]] and vowing:  quot;[[After]] the [[crucifixion]] [[comes]] the resurrection. quot; ...\n",
            "\n",
            "Kederis proclaims innocence Olympic [[whizz]] Kostas Kederis [[nowadays]] [[left-hand]] hospital ahead of his date with IOC [[Inquisitor]] [[arrogate]] his [[sinlessness]] and vowing:  quot;[[subsequently]] the [[excruciation]] [[fare]] the resurrection. quot; ...\n",
            "\n",
            "\n"
          ]
        },
        {
          "output_type": "stream",
          "name": "stderr",
          "text": [
            "\n",
            "[Succeeded / Failed / Skipped / Total] 60 / 21 / 15 / 96:  96%|█████████▌| 96/100 [00:50<00:02,  1.90it/s]\u001b[A"
          ]
        },
        {
          "output_type": "stream",
          "name": "stdout",
          "text": [
            "--------------------------------------------- Result 96 ---------------------------------------------\n",
            "[[Sports (100%)]] --> [[Sci/tech (61%)]]\n",
            "\n",
            "Eriksson doesn #39;t [[feel]] any [[extra]] [[pressure]] [[following]] [[scandal]] [[NEWCASTLE]], England (AP) - England [[coach]] Sven-Goran Eriksson [[said]] Tuesday he isn #39;t under any extra pressure in the aftermath of a [[scandal]] that [[damaged]] the Football [[Association]] #39;s reputation. \n",
            "\n",
            "Eriksson doesn #39;t [[flavour]] any [[supernumerary]] [[coerce]] [[postdate]] [[dirt]] [[Newcastle-upon-Tyne]], England (AP) - England [[omnibus]] Sven-Goran Eriksson [[say]] Tuesday he isn #39;t under any extra pressure in the aftermath of a [[outrage]] that [[discredited]] the Football [[connection]] #39;s reputation. \n",
            "\n",
            "\n"
          ]
        },
        {
          "output_type": "stream",
          "name": "stderr",
          "text": [
            "\n",
            "[Succeeded / Failed / Skipped / Total] 60 / 21 / 15 / 96:  97%|█████████▋| 97/100 [00:50<00:01,  1.91it/s]\u001b[A\n",
            "[Succeeded / Failed / Skipped / Total] 60 / 22 / 15 / 97:  97%|█████████▋| 97/100 [00:50<00:01,  1.91it/s]\u001b[A"
          ]
        },
        {
          "output_type": "stream",
          "name": "stdout",
          "text": [
            "--------------------------------------------- Result 97 ---------------------------------------------\n",
            "[[Sports (100%)]] --> [[[FAILED]]]\n",
            "\n",
            "Injured Heskey to miss England friendly NEWCASTLE, England (AP) - Striker Emile Heskey has pulled out of the England squad ahead of Wednesday #39;s friendly against Ukraine because of a tight hamstring, the Football Association said Tuesday. \n",
            "\n",
            "\n"
          ]
        },
        {
          "output_type": "stream",
          "name": "stderr",
          "text": [
            "\n",
            "[Succeeded / Failed / Skipped / Total] 61 / 22 / 15 / 98:  98%|█████████▊| 98/100 [00:51<00:01,  1.89it/s]\u001b[A"
          ]
        },
        {
          "output_type": "stream",
          "name": "stdout",
          "text": [
            "--------------------------------------------- Result 98 ---------------------------------------------\n",
            "[[Business (100%)]] --> [[Sci/tech (67%)]]\n",
            "\n",
            "Staples Profit Up, to Enter China Market  NEW YORK (Reuters) - Staples Inc. &lt;A HREF=\"http://www.investor.reuters.com/FullQuote.aspx?ticker=SPLS.O target=/stocks/quickinfo/fullquote\"&gt;SPLS.O&lt;/A&gt;, the top U.S.  office [[products]] retailer, on Tuesday reported a 39 percent jump  in quarterly profit, [[raised]] its full-year [[forecast]] and said it  plans to [[enter]] the fast-growing [[Chinese]] [[market]], sending its  shares higher.\n",
            "\n",
            "Staples Profit Up, to Enter China Market  NEW YORK (Reuters) - Staples Inc. &lt;A HREF=\"http://www.investor.reuters.com/FullQuote.aspx?ticker=SPLS.O target=/stocks/quickinfo/fullquote\"&gt;SPLS.O&lt;/A&gt;, the top U.S.  office [[intersection]] retailer, on Tuesday reported a 39 percent jump  in quarterly profit, [[kindle]] its full-year [[prognosticate]] and said it  plans to [[enrol]] the fast-growing [[Formosan]] [[commercialise]], sending its  shares higher.\n",
            "\n",
            "\n"
          ]
        },
        {
          "output_type": "stream",
          "name": "stderr",
          "text": [
            "\n",
            "[Succeeded / Failed / Skipped / Total] 62 / 22 / 15 / 99:  99%|█████████▉| 99/100 [00:52<00:00,  1.89it/s]\u001b[A"
          ]
        },
        {
          "output_type": "stream",
          "name": "stdout",
          "text": [
            "--------------------------------------------- Result 99 ---------------------------------------------\n",
            "[[World (100%)]] --> [[Sci/tech (69%)]]\n",
            "\n",
            "Delegation [[Is]] [[Delayed]] [[Before]] [[Reaching]] Najaf AGHDAD, Iraq, Aug. 17  A delegation of Iraqis was delayed for security reasons today but [[still]] intended to [[visit]] Najaf to [[try]] to [[convince]] a [[rebellious]] [[Shiite]] [[cleric]] and his militia to [[evacuate]] a shrine in the holy city and end ...\n",
            "\n",
            "Delegation [[cost]] [[retard]] [[ahead]] [[accomplish]] Najaf AGHDAD, Iraq, Aug. 17  A delegation of Iraqis was delayed for security reasons today but [[soundless]] intended to [[chat]] Najaf to [[endeavour]] to [[convert]] a [[disaffected]] [[Shi'ite]] [[churchman]] and his militia to [[empty]] a shrine in the holy city and end ...\n",
            "\n",
            "\n"
          ]
        },
        {
          "output_type": "stream",
          "name": "stderr",
          "text": [
            "\n",
            "[Succeeded / Failed / Skipped / Total] 62 / 22 / 15 / 99: 100%|██████████| 100/100 [00:53<00:00,  1.88it/s]\u001b[A\n",
            "[Succeeded / Failed / Skipped / Total] 63 / 22 / 15 / 100: 100%|██████████| 100/100 [00:53<00:00,  1.88it/s]"
          ]
        },
        {
          "output_type": "stream",
          "name": "stdout",
          "text": [
            "--------------------------------------------- Result 100 ---------------------------------------------\n",
            "[[Business (100%)]] --> [[Sci/tech (68%)]]\n",
            "\n",
            "Consumer Prices [[Down]], Industry Output [[Up]]  WASHINGTON (Reuters) - [[U]].S. consumer prices [[dropped]] in July  for the [[first]] [[time]] in eight months as a sharp run up in energy  costs reversed, the government [[said]] in a report that suggested  a slow rate of interest rate hikes is likely.\n",
            "\n",
            "Consumer Prices [[kill]], Industry Output [[upwardly]]  WASHINGTON (Reuters) - [[uranium]].S. consumer prices [[overlook]] in July  for the [[kickoff]] [[clock]] in eight months as a sharp run up in energy  costs reversed, the government [[aver]] in a report that suggested  a slow rate of interest rate hikes is likely.\n",
            "\n",
            "\n",
            "\n",
            "+-------------------------------+--------+\n",
            "| Attack Results                |        |\n",
            "+-------------------------------+--------+\n",
            "| Number of successful attacks: | 63     |\n",
            "| Number of failed attacks:     | 22     |\n",
            "| Number of skipped attacks:    | 15     |\n",
            "| Original accuracy:            | 85.0%  |\n",
            "| Accuracy under attack:        | 22.0%  |\n",
            "| Attack success rate:          | 74.12% |\n",
            "| Average perturbed word %:     | 11.28% |\n",
            "| Average num. words per input: | 43.16  |\n",
            "| Avg num queries:              | 355.67 |\n",
            "+-------------------------------+--------+\n"
          ]
        },
        {
          "output_type": "stream",
          "name": "stderr",
          "text": [
            "\n"
          ]
        },
        {
          "output_type": "execute_result",
          "data": {
            "text/plain": [
              "[<textattack.attack_results.successful_attack_result.SuccessfulAttackResult at 0x7ff60a9f0f10>,\n",
              " <textattack.attack_results.successful_attack_result.SuccessfulAttackResult at 0x7ff609980050>,\n",
              " <textattack.attack_results.successful_attack_result.SuccessfulAttackResult at 0x7ff60817b490>,\n",
              " <textattack.attack_results.successful_attack_result.SuccessfulAttackResult at 0x7ff60a14d190>,\n",
              " <textattack.attack_results.skipped_attack_result.SkippedAttackResult at 0x7ff60887e710>,\n",
              " <textattack.attack_results.successful_attack_result.SuccessfulAttackResult at 0x7ff60a1dbf90>,\n",
              " <textattack.attack_results.failed_attack_result.FailedAttackResult at 0x7ff60b407f90>,\n",
              " <textattack.attack_results.failed_attack_result.FailedAttackResult at 0x7ff60ad247d0>,\n",
              " <textattack.attack_results.skipped_attack_result.SkippedAttackResult at 0x7ff60ad24f90>,\n",
              " <textattack.attack_results.successful_attack_result.SuccessfulAttackResult at 0x7ff608d4b9d0>,\n",
              " <textattack.attack_results.successful_attack_result.SuccessfulAttackResult at 0x7ff608aee2d0>,\n",
              " <textattack.attack_results.failed_attack_result.FailedAttackResult at 0x7ff608b2ed10>,\n",
              " <textattack.attack_results.failed_attack_result.FailedAttackResult at 0x7ff609526250>,\n",
              " <textattack.attack_results.successful_attack_result.SuccessfulAttackResult at 0x7ff60aa0b6d0>,\n",
              " <textattack.attack_results.successful_attack_result.SuccessfulAttackResult at 0x7ff608804c90>,\n",
              " <textattack.attack_results.skipped_attack_result.SkippedAttackResult at 0x7ff608804a50>,\n",
              " <textattack.attack_results.failed_attack_result.FailedAttackResult at 0x7ff60773bad0>,\n",
              " <textattack.attack_results.failed_attack_result.FailedAttackResult at 0x7ff609c9d690>,\n",
              " <textattack.attack_results.successful_attack_result.SuccessfulAttackResult at 0x7ff608c78510>,\n",
              " <textattack.attack_results.skipped_attack_result.SkippedAttackResult at 0x7ff609b9ed50>,\n",
              " <textattack.attack_results.skipped_attack_result.SkippedAttackResult at 0x7ff608c78790>,\n",
              " <textattack.attack_results.successful_attack_result.SuccessfulAttackResult at 0x7ff6094d7510>,\n",
              " <textattack.attack_results.successful_attack_result.SuccessfulAttackResult at 0x7ff60a14d150>,\n",
              " <textattack.attack_results.successful_attack_result.SuccessfulAttackResult at 0x7ff609ae4c10>,\n",
              " <textattack.attack_results.skipped_attack_result.SkippedAttackResult at 0x7ff60b3b4dd0>,\n",
              " <textattack.attack_results.successful_attack_result.SuccessfulAttackResult at 0x7ff60ab5de10>,\n",
              " <textattack.attack_results.successful_attack_result.SuccessfulAttackResult at 0x7ff609e3ee50>,\n",
              " <textattack.attack_results.successful_attack_result.SuccessfulAttackResult at 0x7ff60ad97050>,\n",
              " <textattack.attack_results.successful_attack_result.SuccessfulAttackResult at 0x7ff60ae99050>,\n",
              " <textattack.attack_results.successful_attack_result.SuccessfulAttackResult at 0x7ff6099e23d0>,\n",
              " <textattack.attack_results.successful_attack_result.SuccessfulAttackResult at 0x7ff60ade7910>,\n",
              " <textattack.attack_results.successful_attack_result.SuccessfulAttackResult at 0x7ff60b166a10>,\n",
              " <textattack.attack_results.successful_attack_result.SuccessfulAttackResult at 0x7ff608a65dd0>,\n",
              " <textattack.attack_results.successful_attack_result.SuccessfulAttackResult at 0x7ff609e36850>,\n",
              " <textattack.attack_results.successful_attack_result.SuccessfulAttackResult at 0x7ff609d85a90>,\n",
              " <textattack.attack_results.successful_attack_result.SuccessfulAttackResult at 0x7ff60ac6c050>,\n",
              " <textattack.attack_results.skipped_attack_result.SkippedAttackResult at 0x7ff608626590>,\n",
              " <textattack.attack_results.successful_attack_result.SuccessfulAttackResult at 0x7ff60941cc10>,\n",
              " <textattack.attack_results.successful_attack_result.SuccessfulAttackResult at 0x7ff607f069d0>,\n",
              " <textattack.attack_results.failed_attack_result.FailedAttackResult at 0x7ff60b698b50>,\n",
              " <textattack.attack_results.successful_attack_result.SuccessfulAttackResult at 0x7ff6081c7a90>,\n",
              " <textattack.attack_results.successful_attack_result.SuccessfulAttackResult at 0x7ff60afe9fd0>,\n",
              " <textattack.attack_results.successful_attack_result.SuccessfulAttackResult at 0x7ff60a75a790>,\n",
              " <textattack.attack_results.successful_attack_result.SuccessfulAttackResult at 0x7ff60baddad0>,\n",
              " <textattack.attack_results.successful_attack_result.SuccessfulAttackResult at 0x7ff60caf6050>,\n",
              " <textattack.attack_results.failed_attack_result.FailedAttackResult at 0x7ff609165b10>,\n",
              " <textattack.attack_results.successful_attack_result.SuccessfulAttackResult at 0x7ff6088a7710>,\n",
              " <textattack.attack_results.successful_attack_result.SuccessfulAttackResult at 0x7ff60c04a6d0>,\n",
              " <textattack.attack_results.successful_attack_result.SuccessfulAttackResult at 0x7ff608a42a10>,\n",
              " <textattack.attack_results.successful_attack_result.SuccessfulAttackResult at 0x7ff60ae0ae50>,\n",
              " <textattack.attack_results.successful_attack_result.SuccessfulAttackResult at 0x7ff607c34110>,\n",
              " <textattack.attack_results.successful_attack_result.SuccessfulAttackResult at 0x7ff60d70d050>,\n",
              " <textattack.attack_results.successful_attack_result.SuccessfulAttackResult at 0x7ff608996710>,\n",
              " <textattack.attack_results.skipped_attack_result.SkippedAttackResult at 0x7ff60ac6cb90>,\n",
              " <textattack.attack_results.successful_attack_result.SuccessfulAttackResult at 0x7ff60c835550>,\n",
              " <textattack.attack_results.skipped_attack_result.SkippedAttackResult at 0x7ff60ae91c10>,\n",
              " <textattack.attack_results.skipped_attack_result.SkippedAttackResult at 0x7ff60c82e650>,\n",
              " <textattack.attack_results.failed_attack_result.FailedAttackResult at 0x7ff6094a6cd0>,\n",
              " <textattack.attack_results.successful_attack_result.SuccessfulAttackResult at 0x7ff60863f5d0>,\n",
              " <textattack.attack_results.successful_attack_result.SuccessfulAttackResult at 0x7ff60bf9bb90>,\n",
              " <textattack.attack_results.failed_attack_result.FailedAttackResult at 0x7ff60941c650>,\n",
              " <textattack.attack_results.failed_attack_result.FailedAttackResult at 0x7ff6093d12d0>,\n",
              " <textattack.attack_results.failed_attack_result.FailedAttackResult at 0x7ff60bdf0090>,\n",
              " <textattack.attack_results.failed_attack_result.FailedAttackResult at 0x7ff60a856cd0>,\n",
              " <textattack.attack_results.successful_attack_result.SuccessfulAttackResult at 0x7ff6088220d0>,\n",
              " <textattack.attack_results.failed_attack_result.FailedAttackResult at 0x7ff608e7d350>,\n",
              " <textattack.attack_results.successful_attack_result.SuccessfulAttackResult at 0x7ff60c268050>,\n",
              " <textattack.attack_results.successful_attack_result.SuccessfulAttackResult at 0x7ff60b9787d0>,\n",
              " <textattack.attack_results.successful_attack_result.SuccessfulAttackResult at 0x7ff608215450>,\n",
              " <textattack.attack_results.successful_attack_result.SuccessfulAttackResult at 0x7ff60ad244d0>,\n",
              " <textattack.attack_results.failed_attack_result.FailedAttackResult at 0x7ff60ac28050>,\n",
              " <textattack.attack_results.failed_attack_result.FailedAttackResult at 0x7ff60d0dd710>,\n",
              " <textattack.attack_results.failed_attack_result.FailedAttackResult at 0x7ff60a14d210>,\n",
              " <textattack.attack_results.successful_attack_result.SuccessfulAttackResult at 0x7ff60ae991d0>,\n",
              " <textattack.attack_results.successful_attack_result.SuccessfulAttackResult at 0x7ff60d127050>,\n",
              " <textattack.attack_results.successful_attack_result.SuccessfulAttackResult at 0x7ff60d136050>,\n",
              " <textattack.attack_results.successful_attack_result.SuccessfulAttackResult at 0x7ff60a7eb590>,\n",
              " <textattack.attack_results.successful_attack_result.SuccessfulAttackResult at 0x7ff60a125450>,\n",
              " <textattack.attack_results.successful_attack_result.SuccessfulAttackResult at 0x7ff60a56d690>,\n",
              " <textattack.attack_results.skipped_attack_result.SkippedAttackResult at 0x7ff60a57aed0>,\n",
              " <textattack.attack_results.successful_attack_result.SuccessfulAttackResult at 0x7ff609e3ee90>,\n",
              " <textattack.attack_results.failed_attack_result.FailedAttackResult at 0x7ff63e6ce1d0>,\n",
              " <textattack.attack_results.successful_attack_result.SuccessfulAttackResult at 0x7ff60e4cba90>,\n",
              " <textattack.attack_results.skipped_attack_result.SkippedAttackResult at 0x7ff60e4cbad0>,\n",
              " <textattack.attack_results.successful_attack_result.SuccessfulAttackResult at 0x7ff60e4ad710>,\n",
              " <textattack.attack_results.failed_attack_result.FailedAttackResult at 0x7ff60994a850>,\n",
              " <textattack.attack_results.failed_attack_result.FailedAttackResult at 0x7ff60c43cb10>,\n",
              " <textattack.attack_results.skipped_attack_result.SkippedAttackResult at 0x7ff60c43cc90>,\n",
              " <textattack.attack_results.skipped_attack_result.SkippedAttackResult at 0x7ff60c427150>,\n",
              " <textattack.attack_results.skipped_attack_result.SkippedAttackResult at 0x7ff60c5c7890>,\n",
              " <textattack.attack_results.failed_attack_result.FailedAttackResult at 0x7ff607735dd0>,\n",
              " <textattack.attack_results.successful_attack_result.SuccessfulAttackResult at 0x7ff609219710>,\n",
              " <textattack.attack_results.successful_attack_result.SuccessfulAttackResult at 0x7ff609d90050>,\n",
              " <textattack.attack_results.successful_attack_result.SuccessfulAttackResult at 0x7ff60e4a09d0>,\n",
              " <textattack.attack_results.successful_attack_result.SuccessfulAttackResult at 0x7ff60b36bf10>,\n",
              " <textattack.attack_results.successful_attack_result.SuccessfulAttackResult at 0x7ff60cef00d0>,\n",
              " <textattack.attack_results.failed_attack_result.FailedAttackResult at 0x7ff608227f50>,\n",
              " <textattack.attack_results.successful_attack_result.SuccessfulAttackResult at 0x7ff60bbbc390>,\n",
              " <textattack.attack_results.successful_attack_result.SuccessfulAttackResult at 0x7ff60c6317d0>,\n",
              " <textattack.attack_results.successful_attack_result.SuccessfulAttackResult at 0x7ff60c0ca0d0>]"
            ]
          },
          "metadata": {},
          "execution_count": 21
        }
      ]
    },
    {
      "cell_type": "code",
      "metadata": {
        "id": "QtYXm2W3YSCQ"
      },
      "source": [
        ""
      ],
      "execution_count": null,
      "outputs": []
    }
  ]
}